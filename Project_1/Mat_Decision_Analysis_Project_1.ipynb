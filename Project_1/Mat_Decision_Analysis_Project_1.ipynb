{
  "nbformat": 4,
  "nbformat_minor": 0,
  "metadata": {
    "colab": {
      "provenance": []
    },
    "kernelspec": {
      "name": "python3",
      "display_name": "Python 3"
    },
    "language_info": {
      "name": "python"
    }
  },
  "cells": [
    {
      "cell_type": "markdown",
      "source": [
        "# Decision Analysis Project 1"
      ],
      "metadata": {
        "id": "Nn9ylXunJqJx"
      }
    },
    {
      "cell_type": "markdown",
      "source": [
        "## Installs and Imports"
      ],
      "metadata": {
        "id": "KTjq2fu9J2_H"
      }
    },
    {
      "cell_type": "code",
      "source": [
        "#Installs go here"
      ],
      "metadata": {
        "id": "WBFbfP1ZJ8VA"
      },
      "execution_count": null,
      "outputs": []
    },
    {
      "cell_type": "code",
      "source": [
        "#Imports go here"
      ],
      "metadata": {
        "id": "oWZ8pc6OJ-AU"
      },
      "execution_count": null,
      "outputs": []
    },
    {
      "cell_type": "markdown",
      "source": [
        "## Utilities"
      ],
      "metadata": {
        "id": "PKyz00BoJzYf"
      }
    },
    {
      "cell_type": "code",
      "execution_count": 1,
      "metadata": {
        "id": "Xz1e9YQSHpF5"
      },
      "outputs": [],
      "source": [
        "class Criteria:\n",
        "    '''\n",
        "    Criteria class for PROMETHEE and ELECTRE implementations.\n",
        "    '''\n",
        "    def __init__(self, name: str, criteria_type: str, w: float, q: float, p:float, v:float = float(\"inf\")):\n",
        "        '''\n",
        "        Initialize instance of Criteria.\n",
        "        Parameters:\n",
        "            - name (str): Criteria name, e.g. (cost, completion time, rating, etc.)\n",
        "            - criteria_type (str): Criteria type - 'gain' (higher values preffered) or 'cost' (lower values preffered)\n",
        "            - w (float): Criteria weight\n",
        "            - q (float): Indifference threshold\n",
        "            - p (float): Perference threshold\n",
        "            - v (float, optional): Veto threshold -> used only for ELECTRE\n",
        "        '''\n",
        "        self.name = name\n",
        "        assert criteria_type.lower() == \"gain\" or criteria_type.lower() == \"cost\", \"Invalid criteria type\"\n",
        "        self.criteria_type = criteria_type.lower()\n",
        "        self.w = w\n",
        "        self.q = q\n",
        "        self.p = p\n",
        "        self.v = v\n",
        "\n",
        "\n",
        "    def __str__(self):\n",
        "        '''\n",
        "        Print information about Criteria.\n",
        "        '''\n",
        "        print(f\"Criteria: {self.name} \\n type: {self.criteria_type} \\n w: {self.w} \\n q: {self.q} \\n p: {self.p} \\n v: {self.v} \\n\")"
      ]
    },
    {
      "cell_type": "markdown",
      "source": [
        "## PROMETHEE"
      ],
      "metadata": {
        "id": "xmGj8UB3KCI2"
      }
    },
    {
      "cell_type": "code",
      "source": [],
      "metadata": {
        "id": "BUFPXWVpKGMb"
      },
      "execution_count": null,
      "outputs": []
    },
    {
      "cell_type": "markdown",
      "source": [
        "## SRF"
      ],
      "metadata": {
        "id": "jcmKhEuLKgaH"
      }
    },
    {
      "cell_type": "code",
      "source": [],
      "metadata": {
        "id": "jPugNcg1Khs6"
      },
      "execution_count": null,
      "outputs": []
    },
    {
      "cell_type": "markdown",
      "source": [
        "## ELECTRE"
      ],
      "metadata": {
        "id": "vpBjQtoPKKXn"
      }
    },
    {
      "cell_type": "code",
      "source": [],
      "metadata": {
        "id": "Qk1VViMSKaf0"
      },
      "execution_count": null,
      "outputs": []
    },
    {
      "cell_type": "markdown",
      "source": [
        "## Use"
      ],
      "metadata": {
        "id": "LlQwQe6ZKj8r"
      }
    },
    {
      "cell_type": "code",
      "source": [],
      "metadata": {
        "id": "wTCusFhXKnjI"
      },
      "execution_count": null,
      "outputs": []
    }
  ]
}