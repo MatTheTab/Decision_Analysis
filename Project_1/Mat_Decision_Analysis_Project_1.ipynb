{
  "nbformat": 4,
  "nbformat_minor": 0,
  "metadata": {
    "colab": {
      "provenance": []
    },
    "kernelspec": {
      "name": "python3",
      "display_name": "Python 3"
    },
    "language_info": {
      "name": "python"
    }
  },
  "cells": [
    {
      "cell_type": "markdown",
      "source": [
        "# Decision Analysis Project 1"
      ],
      "metadata": {
        "id": "Nn9ylXunJqJx"
      }
    },
    {
      "cell_type": "markdown",
      "source": [
        "## Installs and Imports"
      ],
      "metadata": {
        "id": "KTjq2fu9J2_H"
      }
    },
    {
      "cell_type": "code",
      "source": [
        "#Installs go here"
      ],
      "metadata": {
        "id": "WBFbfP1ZJ8VA"
      },
      "execution_count": null,
      "outputs": []
    },
    {
      "cell_type": "code",
      "source": [
        "#Imports go here\n",
        "import warnings\n",
        "import numpy as np\n",
        "import pandas as pd"
      ],
      "metadata": {
        "id": "oWZ8pc6OJ-AU"
      },
      "execution_count": 33,
      "outputs": []
    },
    {
      "cell_type": "markdown",
      "source": [
        "## Utilities"
      ],
      "metadata": {
        "id": "PKyz00BoJzYf"
      }
    },
    {
      "cell_type": "code",
      "execution_count": 45,
      "metadata": {
        "id": "Xz1e9YQSHpF5"
      },
      "outputs": [],
      "source": [
        "class Criteria:\n",
        "    '''\n",
        "    Criteria class for PROMETHEE and ELECTRE implementations.\n",
        "    '''\n",
        "    def __init__(self, name: str, criteria_type: str, w: float, q: float, p:float, v:float = float(\"inf\")):\n",
        "        '''\n",
        "        Initialize instance of Criteria.\n",
        "        Parameters:\n",
        "            - name (str): Criteria name, e.g. (cost, completion time, rating, etc.)\n",
        "            - criteria_type (str): Criteria type - 'gain' (higher values preffered) or 'cost' (lower values preffered)\n",
        "            - w (float): Criteria weight\n",
        "            - q (float): Indifference threshold\n",
        "            - p (float): Perference threshold\n",
        "            - v (float, optional): Veto threshold, default infinite -> used only for ELECTRE\n",
        "        '''\n",
        "        self.name = name\n",
        "        assert criteria_type.lower() == \"gain\" or criteria_type.lower() == \"cost\", \"Invalid criteria type\"\n",
        "        assert q<=p and p<=v and p>=0 and q>=0 and w>=0, \"Invalid values, expected: q<p<v and q,p,w >=0\"\n",
        "        assert not np.isposinf(w) and not np.isneginf(w), \"Invalid value, weight cannot be infinite\"\n",
        "        self.criteria_type = criteria_type.lower()\n",
        "        self.w = w\n",
        "        self.q = q\n",
        "        self.p = p\n",
        "        self.v = v\n",
        "\n",
        "    def __str__(self):\n",
        "        '''\n",
        "        Print information about Criteria.\n",
        "        '''\n",
        "        return f\"Criteria: {self.name} \\n type: {self.criteria_type} \\n w: {self.w} \\n q: {self.q} \\n p: {self.p} \\n v: {self.v} \\n\""
      ]
    },
    {
      "cell_type": "markdown",
      "source": [
        "## PROMETHEE"
      ],
      "metadata": {
        "id": "xmGj8UB3KCI2"
      }
    },
    {
      "cell_type": "code",
      "source": [
        "class PROMETHEE:\n",
        "    def __init__(self, name: str = \"MCDA Problem\", criteria: list = [], alternatives = None, initialize_from_input: bool = False, initialize_from_file: bool = False, criteria_path = \"\", alternatives_path = \"\", version: int = 1):\n",
        "        if alternatives is not None and not isinstance(alternatives, pd.DataFrame):\n",
        "            raise TypeError(\"Alternatives must be a pandas DataFrame.\")\n",
        "\n",
        "        if not initialize_from_input and not initialize_from_file and len(criteria) == 0:\n",
        "            warnings.warn(\"Criteria empty but idata from file or input is not read >:(\", UserWarning)\n",
        "\n",
        "        self.name = name\n",
        "        if version != 1 and version != 2:\n",
        "            raise ValueError(\"Only supported versions are 1 and 2\")\n",
        "        self.version = version\n",
        "        if initialize_from_file:\n",
        "            self.criteria = pd.read_csv(criteria_path)\n",
        "            self.alternatives = pd.read_csv(alternatives_path)\n",
        "\n",
        "        elif initialize_from_input:\n",
        "            print(\"\\n-----------------Initalize Criteria----------------\\n\")\n",
        "            num_criteria = int(input(\"Num criteria = \"))\n",
        "            criterias = []\n",
        "            for i in range(num_criteria):\n",
        "                name = str(input(\"Name: \"))\n",
        "                cr_type = str(input(\"Type: \"))\n",
        "                w = int(input(\"Weight: \"))\n",
        "                q = int(input(\"Indifference Threshold: \"))\n",
        "                p = int(input(\"Preference Threshold: \"))\n",
        "                criterias.append(Criteria(name, cr_type, w, q, p))\n",
        "            self.criteria = criterias\n",
        "\n",
        "            print(\"\\n------------------Initalize Alternatives--------------\\n\")\n",
        "            num_alternatives = int(input(\"Num alternatives = \"))\n",
        "            alternatives = {criterias[i].name: [] for i in range(len(criterias))}\n",
        "            alternatives[\"name\"] = []\n",
        "            for i in range(num_alternatives):\n",
        "                name = str(input(\"ALternative Name: \"))\n",
        "                alternatives[\"name\"].append(name)\n",
        "                for ii in range(num_criteria):\n",
        "                    value = float(input(f\"{criterias[ii].name} value: \"))\n",
        "                    alternatives[criterias[ii].name].append(value)\n",
        "            alternatives = pd.DataFrame.from_dict(alternatives)\n",
        "            self.alternatives = alternatives\n",
        "        else:\n",
        "            self.criteria = criteria\n",
        "            self.alternatives = alternatives\n",
        "\n",
        "    def __str__(self):\n",
        "        promethee_text = f\"PROMETHEE {self.name}, version: {self.version}\"\n",
        "        for criterion in self.criteria:\n",
        "            cr_printed = criterion.__str__()\n",
        "            promethee_text += cr_printed\n",
        "        promethee_text += \"\\n-----------------------Alternatives-----------------------\\n\"\n",
        "        promethee_text += self.alternatives.__str__()\n",
        "        return promethee_text\n",
        "\n",
        "    def display(self):\n",
        "        promethee_text = f\"PROMETHEE {self.name}, version: {self.version}\"\n",
        "        for criterion in self.criteria:\n",
        "            cr_printed = criterion.__str__()\n",
        "            promethee_text += cr_printed\n",
        "        promethee_text += \"\\n-----------------------Alternatives-----------------------\\n\"\n",
        "        print(promethee_text)\n",
        "        return self.alternatives.head(len(self.alternatives))\n",
        "\n",
        "    def solve():\n",
        "        pass"
      ],
      "metadata": {
        "id": "BUFPXWVpKGMb"
      },
      "execution_count": 62,
      "outputs": []
    },
    {
      "cell_type": "code",
      "source": [
        "promete = PROMETHEE(initialize_from_input=True)"
      ],
      "metadata": {
        "colab": {
          "base_uri": "https://localhost:8080/"
        },
        "id": "3pKteO44blb2",
        "outputId": "cf91902c-8e59-4f0c-b27b-63b31e1f1f9b"
      },
      "execution_count": 63,
      "outputs": [
        {
          "name": "stdout",
          "output_type": "stream",
          "text": [
            "\n",
            "-----------------Initalize Criteria----------------\n",
            "\n",
            "Num criteria = 2\n",
            "Name: namam\n",
            "Type: gain\n",
            "Weight: 3\n",
            "Indifference Threshold: 4\n",
            "Preference Threshold: 5\n",
            "Name: I wi\n",
            "Type: gain\n",
            "Weight: 4\n",
            "Indifference Threshold: 5\n",
            "Preference Threshold: 7\n",
            "\n",
            "------------------Initalize Alternatives--------------\n",
            "\n",
            "Num alternatives = 2\n",
            "ALternative Name: dark\n",
            "namam value: 2\n",
            "I wi value: 4\n",
            "ALternative Name: sols\n",
            "namam value: 3\n",
            "I wi value: 5\n"
          ]
        }
      ]
    },
    {
      "cell_type": "code",
      "source": [
        "print(promete)"
      ],
      "metadata": {
        "colab": {
          "base_uri": "https://localhost:8080/"
        },
        "id": "MPkBGdSkcXU3",
        "outputId": "f8012361-5415-4838-dee0-eac8b0f9fc78"
      },
      "execution_count": 64,
      "outputs": [
        {
          "output_type": "stream",
          "name": "stdout",
          "text": [
            "PROMETHEE MCDA Problem, version: 1Criteria: namam \n",
            " type: gain \n",
            " w: 3 \n",
            " q: 4 \n",
            " p: 5 \n",
            " v: inf \n",
            "Criteria: I wi \n",
            " type: gain \n",
            " w: 4 \n",
            " q: 5 \n",
            " p: 7 \n",
            " v: inf \n",
            "\n",
            "-----------------------Alternatives-----------------------\n",
            "   namam  I wi  name\n",
            "0    2.0   4.0  dark\n",
            "1    3.0   5.0  sols\n"
          ]
        }
      ]
    },
    {
      "cell_type": "code",
      "source": [
        "promete.display()"
      ],
      "metadata": {
        "colab": {
          "base_uri": "https://localhost:8080/",
          "height": 373
        },
        "id": "Of-VZDzyirtJ",
        "outputId": "6104fa09-ee40-4ac9-8f61-3fa2be2be5b0"
      },
      "execution_count": 65,
      "outputs": [
        {
          "output_type": "stream",
          "name": "stdout",
          "text": [
            "PROMETHEE MCDA Problem, version: 1Criteria: namam \n",
            " type: gain \n",
            " w: 3 \n",
            " q: 4 \n",
            " p: 5 \n",
            " v: inf \n",
            "Criteria: I wi \n",
            " type: gain \n",
            " w: 4 \n",
            " q: 5 \n",
            " p: 7 \n",
            " v: inf \n",
            "\n",
            "-----------------------Alternatives-----------------------\n",
            "\n"
          ]
        },
        {
          "output_type": "execute_result",
          "data": {
            "text/plain": [
              "   namam  I wi  name\n",
              "0    2.0   4.0  dark\n",
              "1    3.0   5.0  sols"
            ],
            "text/html": [
              "\n",
              "  <div id=\"df-8fbd6175-7c3a-4288-a05b-c1c06131b38f\" class=\"colab-df-container\">\n",
              "    <div>\n",
              "<style scoped>\n",
              "    .dataframe tbody tr th:only-of-type {\n",
              "        vertical-align: middle;\n",
              "    }\n",
              "\n",
              "    .dataframe tbody tr th {\n",
              "        vertical-align: top;\n",
              "    }\n",
              "\n",
              "    .dataframe thead th {\n",
              "        text-align: right;\n",
              "    }\n",
              "</style>\n",
              "<table border=\"1\" class=\"dataframe\">\n",
              "  <thead>\n",
              "    <tr style=\"text-align: right;\">\n",
              "      <th></th>\n",
              "      <th>namam</th>\n",
              "      <th>I wi</th>\n",
              "      <th>name</th>\n",
              "    </tr>\n",
              "  </thead>\n",
              "  <tbody>\n",
              "    <tr>\n",
              "      <th>0</th>\n",
              "      <td>2.0</td>\n",
              "      <td>4.0</td>\n",
              "      <td>dark</td>\n",
              "    </tr>\n",
              "    <tr>\n",
              "      <th>1</th>\n",
              "      <td>3.0</td>\n",
              "      <td>5.0</td>\n",
              "      <td>sols</td>\n",
              "    </tr>\n",
              "  </tbody>\n",
              "</table>\n",
              "</div>\n",
              "    <div class=\"colab-df-buttons\">\n",
              "\n",
              "  <div class=\"colab-df-container\">\n",
              "    <button class=\"colab-df-convert\" onclick=\"convertToInteractive('df-8fbd6175-7c3a-4288-a05b-c1c06131b38f')\"\n",
              "            title=\"Convert this dataframe to an interactive table.\"\n",
              "            style=\"display:none;\">\n",
              "\n",
              "  <svg xmlns=\"http://www.w3.org/2000/svg\" height=\"24px\" viewBox=\"0 -960 960 960\">\n",
              "    <path d=\"M120-120v-720h720v720H120Zm60-500h600v-160H180v160Zm220 220h160v-160H400v160Zm0 220h160v-160H400v160ZM180-400h160v-160H180v160Zm440 0h160v-160H620v160ZM180-180h160v-160H180v160Zm440 0h160v-160H620v160Z\"/>\n",
              "  </svg>\n",
              "    </button>\n",
              "\n",
              "  <style>\n",
              "    .colab-df-container {\n",
              "      display:flex;\n",
              "      gap: 12px;\n",
              "    }\n",
              "\n",
              "    .colab-df-convert {\n",
              "      background-color: #E8F0FE;\n",
              "      border: none;\n",
              "      border-radius: 50%;\n",
              "      cursor: pointer;\n",
              "      display: none;\n",
              "      fill: #1967D2;\n",
              "      height: 32px;\n",
              "      padding: 0 0 0 0;\n",
              "      width: 32px;\n",
              "    }\n",
              "\n",
              "    .colab-df-convert:hover {\n",
              "      background-color: #E2EBFA;\n",
              "      box-shadow: 0px 1px 2px rgba(60, 64, 67, 0.3), 0px 1px 3px 1px rgba(60, 64, 67, 0.15);\n",
              "      fill: #174EA6;\n",
              "    }\n",
              "\n",
              "    .colab-df-buttons div {\n",
              "      margin-bottom: 4px;\n",
              "    }\n",
              "\n",
              "    [theme=dark] .colab-df-convert {\n",
              "      background-color: #3B4455;\n",
              "      fill: #D2E3FC;\n",
              "    }\n",
              "\n",
              "    [theme=dark] .colab-df-convert:hover {\n",
              "      background-color: #434B5C;\n",
              "      box-shadow: 0px 1px 3px 1px rgba(0, 0, 0, 0.15);\n",
              "      filter: drop-shadow(0px 1px 2px rgba(0, 0, 0, 0.3));\n",
              "      fill: #FFFFFF;\n",
              "    }\n",
              "  </style>\n",
              "\n",
              "    <script>\n",
              "      const buttonEl =\n",
              "        document.querySelector('#df-8fbd6175-7c3a-4288-a05b-c1c06131b38f button.colab-df-convert');\n",
              "      buttonEl.style.display =\n",
              "        google.colab.kernel.accessAllowed ? 'block' : 'none';\n",
              "\n",
              "      async function convertToInteractive(key) {\n",
              "        const element = document.querySelector('#df-8fbd6175-7c3a-4288-a05b-c1c06131b38f');\n",
              "        const dataTable =\n",
              "          await google.colab.kernel.invokeFunction('convertToInteractive',\n",
              "                                                    [key], {});\n",
              "        if (!dataTable) return;\n",
              "\n",
              "        const docLinkHtml = 'Like what you see? Visit the ' +\n",
              "          '<a target=\"_blank\" href=https://colab.research.google.com/notebooks/data_table.ipynb>data table notebook</a>'\n",
              "          + ' to learn more about interactive tables.';\n",
              "        element.innerHTML = '';\n",
              "        dataTable['output_type'] = 'display_data';\n",
              "        await google.colab.output.renderOutput(dataTable, element);\n",
              "        const docLink = document.createElement('div');\n",
              "        docLink.innerHTML = docLinkHtml;\n",
              "        element.appendChild(docLink);\n",
              "      }\n",
              "    </script>\n",
              "  </div>\n",
              "\n",
              "\n",
              "<div id=\"df-9e41eacd-694b-4301-9f40-c15271f6b24a\">\n",
              "  <button class=\"colab-df-quickchart\" onclick=\"quickchart('df-9e41eacd-694b-4301-9f40-c15271f6b24a')\"\n",
              "            title=\"Suggest charts\"\n",
              "            style=\"display:none;\">\n",
              "\n",
              "<svg xmlns=\"http://www.w3.org/2000/svg\" height=\"24px\"viewBox=\"0 0 24 24\"\n",
              "     width=\"24px\">\n",
              "    <g>\n",
              "        <path d=\"M19 3H5c-1.1 0-2 .9-2 2v14c0 1.1.9 2 2 2h14c1.1 0 2-.9 2-2V5c0-1.1-.9-2-2-2zM9 17H7v-7h2v7zm4 0h-2V7h2v10zm4 0h-2v-4h2v4z\"/>\n",
              "    </g>\n",
              "</svg>\n",
              "  </button>\n",
              "\n",
              "<style>\n",
              "  .colab-df-quickchart {\n",
              "      --bg-color: #E8F0FE;\n",
              "      --fill-color: #1967D2;\n",
              "      --hover-bg-color: #E2EBFA;\n",
              "      --hover-fill-color: #174EA6;\n",
              "      --disabled-fill-color: #AAA;\n",
              "      --disabled-bg-color: #DDD;\n",
              "  }\n",
              "\n",
              "  [theme=dark] .colab-df-quickchart {\n",
              "      --bg-color: #3B4455;\n",
              "      --fill-color: #D2E3FC;\n",
              "      --hover-bg-color: #434B5C;\n",
              "      --hover-fill-color: #FFFFFF;\n",
              "      --disabled-bg-color: #3B4455;\n",
              "      --disabled-fill-color: #666;\n",
              "  }\n",
              "\n",
              "  .colab-df-quickchart {\n",
              "    background-color: var(--bg-color);\n",
              "    border: none;\n",
              "    border-radius: 50%;\n",
              "    cursor: pointer;\n",
              "    display: none;\n",
              "    fill: var(--fill-color);\n",
              "    height: 32px;\n",
              "    padding: 0;\n",
              "    width: 32px;\n",
              "  }\n",
              "\n",
              "  .colab-df-quickchart:hover {\n",
              "    background-color: var(--hover-bg-color);\n",
              "    box-shadow: 0 1px 2px rgba(60, 64, 67, 0.3), 0 1px 3px 1px rgba(60, 64, 67, 0.15);\n",
              "    fill: var(--button-hover-fill-color);\n",
              "  }\n",
              "\n",
              "  .colab-df-quickchart-complete:disabled,\n",
              "  .colab-df-quickchart-complete:disabled:hover {\n",
              "    background-color: var(--disabled-bg-color);\n",
              "    fill: var(--disabled-fill-color);\n",
              "    box-shadow: none;\n",
              "  }\n",
              "\n",
              "  .colab-df-spinner {\n",
              "    border: 2px solid var(--fill-color);\n",
              "    border-color: transparent;\n",
              "    border-bottom-color: var(--fill-color);\n",
              "    animation:\n",
              "      spin 1s steps(1) infinite;\n",
              "  }\n",
              "\n",
              "  @keyframes spin {\n",
              "    0% {\n",
              "      border-color: transparent;\n",
              "      border-bottom-color: var(--fill-color);\n",
              "      border-left-color: var(--fill-color);\n",
              "    }\n",
              "    20% {\n",
              "      border-color: transparent;\n",
              "      border-left-color: var(--fill-color);\n",
              "      border-top-color: var(--fill-color);\n",
              "    }\n",
              "    30% {\n",
              "      border-color: transparent;\n",
              "      border-left-color: var(--fill-color);\n",
              "      border-top-color: var(--fill-color);\n",
              "      border-right-color: var(--fill-color);\n",
              "    }\n",
              "    40% {\n",
              "      border-color: transparent;\n",
              "      border-right-color: var(--fill-color);\n",
              "      border-top-color: var(--fill-color);\n",
              "    }\n",
              "    60% {\n",
              "      border-color: transparent;\n",
              "      border-right-color: var(--fill-color);\n",
              "    }\n",
              "    80% {\n",
              "      border-color: transparent;\n",
              "      border-right-color: var(--fill-color);\n",
              "      border-bottom-color: var(--fill-color);\n",
              "    }\n",
              "    90% {\n",
              "      border-color: transparent;\n",
              "      border-bottom-color: var(--fill-color);\n",
              "    }\n",
              "  }\n",
              "</style>\n",
              "\n",
              "  <script>\n",
              "    async function quickchart(key) {\n",
              "      const quickchartButtonEl =\n",
              "        document.querySelector('#' + key + ' button');\n",
              "      quickchartButtonEl.disabled = true;  // To prevent multiple clicks.\n",
              "      quickchartButtonEl.classList.add('colab-df-spinner');\n",
              "      try {\n",
              "        const charts = await google.colab.kernel.invokeFunction(\n",
              "            'suggestCharts', [key], {});\n",
              "      } catch (error) {\n",
              "        console.error('Error during call to suggestCharts:', error);\n",
              "      }\n",
              "      quickchartButtonEl.classList.remove('colab-df-spinner');\n",
              "      quickchartButtonEl.classList.add('colab-df-quickchart-complete');\n",
              "    }\n",
              "    (() => {\n",
              "      let quickchartButtonEl =\n",
              "        document.querySelector('#df-9e41eacd-694b-4301-9f40-c15271f6b24a button');\n",
              "      quickchartButtonEl.style.display =\n",
              "        google.colab.kernel.accessAllowed ? 'block' : 'none';\n",
              "    })();\n",
              "  </script>\n",
              "</div>\n",
              "    </div>\n",
              "  </div>\n"
            ],
            "application/vnd.google.colaboratory.intrinsic+json": {
              "type": "dataframe",
              "summary": "{\n  \"name\": \"promete\",\n  \"rows\": 2,\n  \"fields\": [\n    {\n      \"column\": \"namam\",\n      \"properties\": {\n        \"dtype\": \"number\",\n        \"std\": 0.7071067811865476,\n        \"min\": 2.0,\n        \"max\": 3.0,\n        \"num_unique_values\": 2,\n        \"samples\": [\n          3.0,\n          2.0\n        ],\n        \"semantic_type\": \"\",\n        \"description\": \"\"\n      }\n    },\n    {\n      \"column\": \"I wi\",\n      \"properties\": {\n        \"dtype\": \"number\",\n        \"std\": 0.7071067811865476,\n        \"min\": 4.0,\n        \"max\": 5.0,\n        \"num_unique_values\": 2,\n        \"samples\": [\n          5.0,\n          4.0\n        ],\n        \"semantic_type\": \"\",\n        \"description\": \"\"\n      }\n    },\n    {\n      \"column\": \"name\",\n      \"properties\": {\n        \"dtype\": \"string\",\n        \"num_unique_values\": 2,\n        \"samples\": [\n          \"sols\",\n          \"dark\"\n        ],\n        \"semantic_type\": \"\",\n        \"description\": \"\"\n      }\n    }\n  ]\n}"
            }
          },
          "metadata": {},
          "execution_count": 65
        }
      ]
    },
    {
      "cell_type": "markdown",
      "source": [
        "## SRF"
      ],
      "metadata": {
        "id": "jcmKhEuLKgaH"
      }
    },
    {
      "cell_type": "code",
      "source": [],
      "metadata": {
        "id": "jPugNcg1Khs6"
      },
      "execution_count": null,
      "outputs": []
    },
    {
      "cell_type": "markdown",
      "source": [
        "## ELECTRE"
      ],
      "metadata": {
        "id": "vpBjQtoPKKXn"
      }
    },
    {
      "cell_type": "code",
      "source": [],
      "metadata": {
        "id": "Qk1VViMSKaf0"
      },
      "execution_count": null,
      "outputs": []
    },
    {
      "cell_type": "markdown",
      "source": [
        "## Use"
      ],
      "metadata": {
        "id": "LlQwQe6ZKj8r"
      }
    },
    {
      "cell_type": "code",
      "source": [],
      "metadata": {
        "id": "wTCusFhXKnjI"
      },
      "execution_count": null,
      "outputs": []
    }
  ]
}