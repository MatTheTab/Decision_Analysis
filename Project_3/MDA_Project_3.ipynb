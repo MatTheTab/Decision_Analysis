{
  "cells": [
    {
      "cell_type": "markdown",
      "metadata": {
        "id": "t_2jXftABAz4"
      },
      "source": [
        "# Decision Analysis - Project 3"
      ]
    },
    {
      "cell_type": "markdown",
      "metadata": {
        "id": "wtA10WhwBFvn"
      },
      "source": [
        "## Installs and Imports"
      ]
    },
    {
      "cell_type": "code",
      "execution_count": 21,
      "metadata": {
        "colab": {
          "base_uri": "https://localhost:8080/"
        },
        "id": "VWEVovHA56xe",
        "outputId": "590d3c88-b3ac-4772-b37a-34ecc7973e54"
      },
      "outputs": [
        {
          "output_type": "stream",
          "name": "stdout",
          "text": [
            "Requirement already satisfied: shap in /usr/local/lib/python3.10/dist-packages (0.45.0)\n",
            "Requirement already satisfied: numpy in /usr/local/lib/python3.10/dist-packages (from shap) (1.25.2)\n",
            "Requirement already satisfied: scipy in /usr/local/lib/python3.10/dist-packages (from shap) (1.11.4)\n",
            "Requirement already satisfied: scikit-learn in /usr/local/lib/python3.10/dist-packages (from shap) (1.2.2)\n",
            "Requirement already satisfied: pandas in /usr/local/lib/python3.10/dist-packages (from shap) (2.0.3)\n",
            "Requirement already satisfied: tqdm>=4.27.0 in /usr/local/lib/python3.10/dist-packages (from shap) (4.66.2)\n",
            "Requirement already satisfied: packaging>20.9 in /usr/local/lib/python3.10/dist-packages (from shap) (24.0)\n",
            "Requirement already satisfied: slicer==0.0.7 in /usr/local/lib/python3.10/dist-packages (from shap) (0.0.7)\n",
            "Requirement already satisfied: numba in /usr/local/lib/python3.10/dist-packages (from shap) (0.58.1)\n",
            "Requirement already satisfied: cloudpickle in /usr/local/lib/python3.10/dist-packages (from shap) (2.2.1)\n",
            "Requirement already satisfied: llvmlite<0.42,>=0.41.0dev0 in /usr/local/lib/python3.10/dist-packages (from numba->shap) (0.41.1)\n",
            "Requirement already satisfied: python-dateutil>=2.8.2 in /usr/local/lib/python3.10/dist-packages (from pandas->shap) (2.8.2)\n",
            "Requirement already satisfied: pytz>=2020.1 in /usr/local/lib/python3.10/dist-packages (from pandas->shap) (2023.4)\n",
            "Requirement already satisfied: tzdata>=2022.1 in /usr/local/lib/python3.10/dist-packages (from pandas->shap) (2024.1)\n",
            "Requirement already satisfied: joblib>=1.1.1 in /usr/local/lib/python3.10/dist-packages (from scikit-learn->shap) (1.4.0)\n",
            "Requirement already satisfied: threadpoolctl>=2.0.0 in /usr/local/lib/python3.10/dist-packages (from scikit-learn->shap) (3.4.0)\n",
            "Requirement already satisfied: six>=1.5 in /usr/local/lib/python3.10/dist-packages (from python-dateutil>=2.8.2->pandas->shap) (1.16.0)\n"
          ]
        }
      ],
      "source": [
        "!pip install shap"
      ]
    },
    {
      "cell_type": "code",
      "execution_count": 22,
      "metadata": {
        "id": "gAIJ-lb6BIbX"
      },
      "outputs": [],
      "source": [
        "import numpy as np\n",
        "import pandas as pd\n",
        "import matplotlib.pyplot as plt\n",
        "from sklearn.linear_model import LogisticRegression\n",
        "from sklearn.metrics import accuracy_score, f1_score, roc_auc_score\n",
        "from sklearn.base import BaseEstimator, ClassifierMixin\n",
        "import torch\n",
        "import torch.nn as nn\n",
        "import torch.optim as optim\n",
        "from torch.utils.data import DataLoader, TensorDataset\n",
        "from sklearn.model_selection import train_test_split\n",
        "import torch.nn.functional as F\n",
        "import random\n",
        "import os\n",
        "import warnings\n",
        "import shap\n",
        "from sklearn.linear_model import LogisticRegression\n",
        "#from sklearn.inspection import PartialDependenceDisplay, partial_dependence, plot_partial_dependence"
      ]
    },
    {
      "cell_type": "code",
      "execution_count": 23,
      "metadata": {
        "id": "2ptSN4cOa5S_"
      },
      "outputs": [],
      "source": [
        "def set_all_seeds(seed):\n",
        "    os.environ['PYTHONHASHSEED'] = str(seed)\n",
        "    random.seed(seed)\n",
        "    np.random.seed(seed)\n",
        "    torch.manual_seed(seed)\n",
        "    torch.cuda.manual_seed(seed)\n",
        "    torch.backends.cudnn.deterministic = True"
      ]
    },
    {
      "cell_type": "code",
      "execution_count": 24,
      "metadata": {
        "id": "QRrfj4evmmVm"
      },
      "outputs": [],
      "source": [
        "set_all_seeds(42)\n",
        "warnings.filterwarnings(\"ignore\")"
      ]
    },
    {
      "cell_type": "markdown",
      "metadata": {
        "id": "6jMjgDhiErSv"
      },
      "source": [
        "## Functions, Models and Utilities"
      ]
    },
    {
      "cell_type": "markdown",
      "metadata": {
        "id": "pSEOX1OgznEa"
      },
      "source": [
        "### Utils"
      ]
    },
    {
      "cell_type": "code",
      "execution_count": 25,
      "metadata": {
        "id": "SqyB4D6uEs-n"
      },
      "outputs": [],
      "source": [
        "def plot_columns(df, figsize = (12, 8), color=\"grey\"):\n",
        "    num_cols = len(df.columns)\n",
        "    num_rows = (num_cols + 1) // 2\n",
        "    fig, axes = plt.subplots(num_rows, 2, figsize=figsize)\n",
        "    if num_rows == 1:\n",
        "        axes = axes.reshape(1, -1)\n",
        "    for i, column in enumerate(df.columns):\n",
        "        ax = axes[i // 2, i % 2]\n",
        "        df[column].plot(kind='hist', ax=ax, title=column, color=color)\n",
        "        ax.set_title(f\"Distribution for {column}\")\n",
        "        ax.set_xlabel('Value')\n",
        "        ax.set_ylabel('Frequency')\n",
        "    fig.suptitle(\"Data Distribution Plot\")\n",
        "    plt.tight_layout()\n",
        "    plt.show()"
      ]
    },
    {
      "cell_type": "code",
      "execution_count": 26,
      "metadata": {
        "id": "-NzasLaGw2y4"
      },
      "outputs": [],
      "source": [
        "def plot_stats(accuracy, test_accuracy, f1, f1_test, auc, auc_test):\n",
        "    fig, axes = plt.subplots(1, 3, figsize=(12, 5))\n",
        "    color = 'grey'\n",
        "    axes[0].bar(['Train', 'Test'], [accuracy, test_accuracy], color=color)\n",
        "    axes[0].axhline(y=0.5, color='red', linestyle='--', label='Random Guess')\n",
        "    axes[0].set_title('Accuracy')\n",
        "    axes[0].legend()\n",
        "    axes[0].set_ylim(0, 1)\n",
        "    axes[1].bar(['Train', 'Test'], [f1, f1_test], color=color)\n",
        "    axes[1].set_title('F1 Score')\n",
        "    axes[1].set_ylim(0, 1)\n",
        "    axes[2].bar(['Train', 'Test'], [auc, auc_test], color=color)\n",
        "    axes[2].set_title('AUC')\n",
        "    axes[2].set_ylim(0, 1)\n",
        "    plt.tight_layout()\n",
        "    plt.show()"
      ]
    },
    {
      "cell_type": "code",
      "execution_count": 27,
      "metadata": {
        "id": "6VU7BnYCHKm2"
      },
      "outputs": [],
      "source": [
        "def use_model(model, X_train, y_train, X_test, y_test):\n",
        "    model.fit(X_train, y_train)\n",
        "    y_preds = model.predict(X_train)\n",
        "    accuracy = round(accuracy_score(y_train, y_preds), 4)\n",
        "    f1 = round(f1_score(y_train, y_preds), 4)\n",
        "    y_preds_positive = model.predict_proba(X_train)[:, 1]\n",
        "    auc = round(roc_auc_score(y_train, y_preds_positive), 4)\n",
        "\n",
        "    y_preds = model.predict(X_test)\n",
        "    accuracy_test = round(accuracy_score(y_test, y_preds), 4)\n",
        "    f1_test = round(f1_score(y_test, y_preds), 4)\n",
        "    y_preds_positive = model.predict_proba(X_test)[:, 1]\n",
        "    auc_test = round(roc_auc_score(y_test, y_preds_positive), 4)\n",
        "    return model, accuracy, f1, auc, accuracy_test, f1_test, auc_test"
      ]
    },
    {
      "cell_type": "code",
      "execution_count": 28,
      "metadata": {
        "id": "yfSG9_ZirQ52"
      },
      "outputs": [],
      "source": [
        "def get_logistic_regression_changed_prediction(test_example, columns, coefficients, intercept, classifier):\n",
        "    sum= 0.0\n",
        "    epsilon = 1e-3\n",
        "    example_list = list(test_example)\n",
        "    zipped_lists = zip(coefficients, example_list, range(len(coefficients)))\n",
        "    sorted_lists = sorted(zipped_lists, reverse=True)\n",
        "    sorted_coeffs, example_list, original_order = zip(*sorted_lists)\n",
        "    example_list = list(example_list)\n",
        "    original_order = list(original_order)\n",
        "    sorted_coeffs = list(sorted_coeffs)\n",
        "\n",
        "    for i in range(len(example_list)):\n",
        "        sum += example_list[i]*sorted_coeffs[i]\n",
        "    sum += intercept\n",
        "    prev_examples = example_list.copy()\n",
        "    if sum>=0:\n",
        "        for i in range(len(example_list)):\n",
        "            val = -1*intercept-epsilon\n",
        "            for j in range(len(example_list)):\n",
        "                if i != j:\n",
        "                    val -= example_list[j]*sorted_coeffs[j]\n",
        "            example_list[i] = val/sorted_coeffs[i]\n",
        "            if example_list[i]<0:\n",
        "                example_list[i] = 0\n",
        "            elif example_list[i]>1:\n",
        "                example_list[i] = 1\n",
        "            else:\n",
        "                break\n",
        "    else:\n",
        "        for i in range(len(example_list)):\n",
        "            val = -1*intercept+epsilon\n",
        "            for j in range(len(example_list)):\n",
        "                if i != j:\n",
        "                    val -= example_list[j]*sorted_coeffs[j]\n",
        "            example_list[i] = val/sorted_coeffs[i]\n",
        "            if example_list[i]<0:\n",
        "                example_list[i] = 0\n",
        "            elif example_list[i]>1:\n",
        "                example_list[i] = 1\n",
        "            else:\n",
        "                break\n",
        "\n",
        "    original_order = [original_order.index(i) for i in range(len(original_order))]\n",
        "    example_list = [example_list[i] for i in original_order]\n",
        "    prev_examples = [prev_examples[i] for i in original_order]\n",
        "    rounded_examples = [round(example, 4) for example in example_list]\n",
        "    rounded_prevs = [round(example, 4) for example in prev_examples]\n",
        "    differences = list(np.array(prev_examples) - np.array(example_list))\n",
        "    differences = [round(diff, 4) for diff in differences]\n",
        "    print(f\"Columns in order: {columns}\")\n",
        "    print(f\"Original Example: {rounded_prevs}\")\n",
        "    print(f\"New Example Assigned to a different class: {rounded_examples}\")\n",
        "    print(f\"Minimal Differences: {differences}\")\n",
        "    print(f\"Model's original decision {classifier.predict([prev_examples])}\")\n",
        "    print(f\"Model's new decision: {classifier.predict([example_list])}\")"
      ]
    },
    {
      "cell_type": "code",
      "execution_count": 29,
      "metadata": {
        "id": "bN4KeBCx12S2"
      },
      "outputs": [],
      "source": [
        "def change_class_by_sampling(test_example, columns, coefficients, classifier):\n",
        "    epsilon = 1e-3\n",
        "    example_list = list(test_example)\n",
        "    prev_examples = example_list.copy()\n",
        "    original_class = classifier.predict([example_list])[0]\n",
        "    i=0\n",
        "    while True:\n",
        "        zipped_lists = zip(coefficients, example_list, range(len(coefficients)))\n",
        "        sorted_lists = sorted(zipped_lists, reverse=True)\n",
        "        sorted_coeffs, example_list, original_order = zip(*sorted_lists)\n",
        "        example_list = list(example_list)\n",
        "        original_order = list(original_order)\n",
        "        sorted_coeffs = list(sorted_coeffs)\n",
        "        if original_class == 1:\n",
        "            example_list[i] -= epsilon\n",
        "        else:\n",
        "            example_list[i] += epsilon\n",
        "        if example_list[i]<=0:\n",
        "            example_list[i] = 0\n",
        "            i+=1\n",
        "        elif example_list[i]>=1:\n",
        "            example_list[i] = 1\n",
        "            i+=1\n",
        "        original_order = [original_order.index(i) for i in range(len(original_order))]\n",
        "        example_list = [example_list[i] for i in original_order]\n",
        "        new_class = classifier.predict([example_list])[0]\n",
        "        if new_class != original_class:\n",
        "            break\n",
        "\n",
        "    rounded_examples = [round(example, 4) for example in example_list]\n",
        "    rounded_prevs = [round(example, 4) for example in prev_examples]\n",
        "    differences = list(np.array(prev_examples) - np.array(example_list))\n",
        "    differences = [round(diff, 4) for diff in differences]\n",
        "    print(f\"Columns in order: {columns}\")\n",
        "    print(f\"Original Example: {rounded_prevs}\")\n",
        "    print(f\"New Example Assigned to a different class: {rounded_examples}\")\n",
        "    print(f\"Minimal Differences: {differences}\")\n",
        "    print(f\"Model's original decision {original_class}\")\n",
        "    print(f\"Model's new decision: {new_class}\")\n",
        "\n",
        "def nn_change_class_by_sampling(test_example, columns, classifier):\n",
        "    pass"
      ]
    },
    {
      "cell_type": "markdown",
      "metadata": {
        "id": "x785CK7FzqW7"
      },
      "source": [
        "### Neural MCDA"
      ]
    },
    {
      "cell_type": "code",
      "execution_count": 30,
      "metadata": {
        "id": "L6RIIxojibRH"
      },
      "outputs": [],
      "source": [
        "def morbius_transform(input_row):\n",
        "    result = list(input_row)\n",
        "    for i in range(len(input_row)):\n",
        "        for j in range(i+1, len(input_row)):\n",
        "            result.append(min(input_row[i], input_row[j]))\n",
        "\n",
        "    return np.array(result)"
      ]
    },
    {
      "cell_type": "code",
      "execution_count": 31,
      "metadata": {
        "id": "DpTeIKoRjnl_"
      },
      "outputs": [],
      "source": [
        "class CriteriaLayer(nn.Linear):\n",
        "    def __init__(self, num_in_features:int, include_bias:bool=False, min_weight:float=1e-8):\n",
        "        super().__init__(num_in_features, 1, include_bias)\n",
        "        self.is_bias = include_bias\n",
        "        self.min_w = min_weight\n",
        "        if include_bias:\n",
        "            nn.init.uniform_(self.bias, self.min_w ,1.0)\n",
        "        else:\n",
        "            self.bias = None\n",
        "\n",
        "    def reset_parameters(self):\n",
        "        nn.init.uniform_(self.weight, 0.1, 1.0)\n",
        "\n",
        "    def ensure_proper_weights(self):\n",
        "        with torch.no_grad():\n",
        "            self.weight.data[self.weight.data<0]=self.min_w\n",
        "        weights = self.weight\n",
        "        return weights\n",
        "\n",
        "    def forward(self, input:torch.Tensor)->torch.Tensor:\n",
        "        weights = self.ensure_proper_weights()\n",
        "        return F.linear(input, weights, self.bias)"
      ]
    },
    {
      "cell_type": "code",
      "execution_count": 32,
      "metadata": {
        "id": "QFUtIzbxlBC5"
      },
      "outputs": [],
      "source": [
        "class InteractionLayer(nn.Linear):\n",
        "    def __init__(self, num_in_features:int, criterion_layer:CriteriaLayer):\n",
        "        num_interactions = ((num_in_features-1)*num_in_features)//2\n",
        "        super().__init__(num_interactions, 1, False)\n",
        "        self.in_features = num_in_features\n",
        "        self.criterion_layer = criterion_layer\n",
        "        self.num_interactions = num_interactions\n",
        "\n",
        "    def reset_parameters(self):\n",
        "        nn.init.normal_(self.weight, 0.0, 0.1)\n",
        "\n",
        "    def ensure_proper_weights(self):\n",
        "        with torch.no_grad():\n",
        "            w_i=0\n",
        "            w = self.criterion_layer.ensure_proper_weights()\n",
        "            for i in range(self.in_features):\n",
        "                for j in range(i+1,self.in_features):\n",
        "                    self.weight.data[:,w_i] =  torch.max(self.weight.data[:,w_i], -w[:,i])\n",
        "                    self.weight.data[:,w_i] =  torch.max(self.weight.data[:,w_i], -w[:,j])\n",
        "                    w_i+=1\n",
        "        weights = self.weight\n",
        "        return weights\n",
        "\n",
        "    def forward(self, input:torch.Tensor)->torch.Tensor:\n",
        "        weights = self.ensure_proper_weights()\n",
        "        return F.linear(input, weights, None)"
      ]
    },
    {
      "cell_type": "code",
      "execution_count": 33,
      "metadata": {
        "id": "FDNGv_NMgCtH"
      },
      "outputs": [],
      "source": [
        "class ThresholdLayer(nn.Module):\n",
        "    def __init__(self, threshold: float = None, requires_grad: bool = True):\n",
        "        super().__init__()\n",
        "        if threshold is None:\n",
        "            self.threshold = nn.Parameter(torch.FloatTensor(1).uniform_(0.1, 0.9), requires_grad=requires_grad)\n",
        "        else:\n",
        "            self.threshold = nn.Parameter(torch.FloatTensor([threshold]), requires_grad=requires_grad)\n",
        "\n",
        "    def forward(self, x: torch.FloatTensor) -> torch.FloatTensor:\n",
        "        return x - self.threshold"
      ]
    },
    {
      "cell_type": "code",
      "execution_count": 34,
      "metadata": {
        "id": "NyoLm1HifrVf"
      },
      "outputs": [],
      "source": [
        "class ChoquetIntegralConstrained(nn.Module):\n",
        "    def __init__(self, num_criteria:int, mobius_transform):\n",
        "        super().__init__()\n",
        "        self.num_criteria = num_criteria\n",
        "        self.criteria_layer = CriteriaLayer(num_criteria)\n",
        "        self.interaction_layer = InteractionLayer(num_criteria, self.criteria_layer)\n",
        "        self.threshold_layer = ThresholdLayer()\n",
        "        self.transform = mobius_transform\n",
        "\n",
        "    def preprocess(self, input: np.array)->np.array:\n",
        "        processed = []\n",
        "        for row in input:\n",
        "            processed.append(self.transform(row))\n",
        "        return np.array(processed)\n",
        "\n",
        "    def forward(self, input:torch.Tensor)->torch.Tensor:\n",
        "        if len(input.shape)==3:\n",
        "            input = input[:,0,:]\n",
        "\n",
        "        x_wi = self.criteria_layer(input[:,:self.num_criteria])\n",
        "        x_wij = self.interaction_layer(input[:,self.num_criteria:])\n",
        "        weight_sum = self.criteria_layer.ensure_proper_weights().sum()+self.interaction_layer.ensure_proper_weights().sum()\n",
        "        score =  (x_wi+x_wij)/(weight_sum)\n",
        "        output = self.threshold_layer(score)\n",
        "        return output.squeeze()"
      ]
    },
    {
      "cell_type": "code",
      "execution_count": 35,
      "metadata": {
        "id": "uZNMwURY17AF"
      },
      "outputs": [],
      "source": [
        "def Regret(output: torch.FloatTensor, target: torch.LongTensor) -> torch.FloatTensor:\n",
        "    return torch.mean(F.relu(-(target >= 1).float() * output) + F.relu((target < 1).float() * output))"
      ]
    },
    {
      "cell_type": "markdown",
      "metadata": {
        "id": "CAn6mdluztnx"
      },
      "source": [
        "### ANN"
      ]
    },
    {
      "cell_type": "code",
      "execution_count": 36,
      "metadata": {
        "id": "TLLAITSFNHTH"
      },
      "outputs": [],
      "source": [
        "class ANN(nn.Module):\n",
        "    def __init__(self, input_dim, output_dim):\n",
        "        super(ANN, self).__init__()\n",
        "        self.fc1 = nn.Linear(input_dim, 32)\n",
        "        self.fc2 = nn.Linear(32, 64)\n",
        "        self.fc3 = nn.Linear(64, 32)\n",
        "        self.fc4 = nn.Linear(32, output_dim)\n",
        "        self.relu = nn.ReLU()\n",
        "        self.sigmoid = nn.Sigmoid()\n",
        "\n",
        "    def forward(self, x):\n",
        "        x = self.fc1(x)\n",
        "        x = self.relu(x)\n",
        "        x = self.fc2(x)\n",
        "        x = self.relu(x)\n",
        "        x = self.fc3(x)\n",
        "        x = self.relu(x)\n",
        "        x = self.fc4(x)\n",
        "        x = self.sigmoid(x)\n",
        "        return x.squeeze()\n",
        "\n",
        "class CompatibleTorchModel(BaseEstimator, ClassifierMixin):\n",
        "    def __init__(self, model, optimizer, criterion, num_epochs, custom_acc_threshold = False):\n",
        "        super(CompatibleTorchModel, self).__init__()\n",
        "        self.model = model\n",
        "        self.optimizer = optimizer\n",
        "        self.criterion = criterion\n",
        "        self.num_epochs = num_epochs\n",
        "        self.custom_acc_threshold = custom_acc_threshold\n",
        "        self.classes_ = None\n",
        "        self.fitted = False\n",
        "\n",
        "    def fit(self, X_train, y_train):\n",
        "        print(\"Fitting Neural Network Model\")\n",
        "        self.classes_ = np.unique(y_train)\n",
        "        self.model.train()\n",
        "        train_dataset = TensorDataset(torch.Tensor(X_train), torch.Tensor(y_train))\n",
        "        train_loader = DataLoader(train_dataset, batch_size=32, shuffle=True)\n",
        "        history = {'epoch': [], 'accuracy': [], 'loss': []}\n",
        "        for epoch in range(self.num_epochs):\n",
        "            epoch_loss = 0.0\n",
        "            correct = 0\n",
        "            total = 0\n",
        "            for inputs, targets in train_loader:\n",
        "                self.optimizer.zero_grad()\n",
        "                outputs = self.model(inputs)\n",
        "                loss = self.criterion(outputs, targets)\n",
        "                loss.backward()\n",
        "                self.optimizer.step()\n",
        "                epoch_loss += loss.item() * inputs.size(0)\n",
        "                predicted = outputs.detach().numpy()\n",
        "                if self.custom_acc_threshold:\n",
        "                    predicted[predicted>=0.0] = 1\n",
        "                    predicted[predicted<0.0] = 0\n",
        "                else:\n",
        "                    predicted[predicted>=0.5] = 1\n",
        "                    predicted[predicted<0.5] = 0\n",
        "                total += len(targets)\n",
        "                expected = targets.numpy()\n",
        "                correct += np.sum(predicted == expected)\n",
        "            epoch_loss /= len(train_loader.dataset)\n",
        "            epoch_accuracy = correct / total\n",
        "            print(f\"Training Results - Epoch: {epoch+1}  Avg accuracy: {round(epoch_accuracy, 4)} Avg loss: {round(epoch_loss, 4)}\")\n",
        "            history['epoch'].append(epoch)\n",
        "            history['accuracy'].append(epoch_accuracy)\n",
        "            history['loss'].append(epoch_loss)\n",
        "        plt.figure(figsize=(10, 5))\n",
        "        plt.subplot(1, 2, 1)\n",
        "        plt.plot(history['epoch'], history['loss'], label='Training Loss')\n",
        "        plt.xlabel('Epoch')\n",
        "        plt.ylabel('Loss')\n",
        "        plt.title('Training Loss')\n",
        "        plt.legend()\n",
        "        plt.subplot(1, 2, 2)\n",
        "        plt.plot(history['epoch'], history['accuracy'], label='Training Accuracy')\n",
        "        plt.xlabel('Epoch')\n",
        "        plt.ylabel('Accuracy')\n",
        "        plt.title('Training Accuracy')\n",
        "        plt.legend()\n",
        "        plt.tight_layout()\n",
        "        plt.show()\n",
        "        self.fitted = True\n",
        "\n",
        "    def predict(self, X):\n",
        "        self.model.eval()\n",
        "        predictions = []\n",
        "        for temp_X in X:\n",
        "            X_input = torch.tensor(temp_X).float()\n",
        "            with torch.no_grad():\n",
        "                output = self.model(X_input.unsqueeze(0))\n",
        "            if self.custom_acc_threshold:\n",
        "                output = 1 if output > 0.0 else 0\n",
        "            else:\n",
        "                output = 1 if output > 0.5 else 0\n",
        "            predictions.append(output)\n",
        "        return np.array(predictions)\n",
        "\n",
        "    def predict_proba(self, X):\n",
        "        self.model.eval()\n",
        "        predictions = []\n",
        "        for temp_X in X:\n",
        "            X_input = torch.tensor(temp_X).float()\n",
        "            with torch.no_grad():\n",
        "                output = self.model(X_input.unsqueeze(0))\n",
        "                output = np.round(output.item(), 4)\n",
        "                if self.custom_acc_threshold:\n",
        "                    output += 0.5\n",
        "                if output>1:\n",
        "                    output = 1\n",
        "            predictions.append([1-output, output])\n",
        "        return np.array(predictions)\n",
        "\n",
        "    def __sklearn_is_fitted__(self):\n",
        "        \"\"\"\n",
        "        Check fitted status and return a Boolean value.\n",
        "        Overwritten to save head pain.\n",
        "        \"\"\"\n",
        "        return self.fitted"
      ]
    },
    {
      "cell_type": "markdown",
      "metadata": {
        "id": "kTKe_JFCBIxv"
      },
      "source": [
        "## Data"
      ]
    },
    {
      "cell_type": "markdown",
      "metadata": {
        "id": "t89c4kor-7kC"
      },
      "source": [
        "https://archive.ics.uci.edu/dataset/161/mammographic+mass\n",
        "\n",
        "1. BI-RADS assessment: 1 to 5 (ordinal, non-predictive!)  \n",
        "\n",
        "2. Age: patient's age in years (integer)\n",
        "\n",
        "3. Shape: mass shape: round=1 oval=2 lobular=3 irregular=4 (nominal)\n",
        "\n",
        "4. Margin: mass margin: circumscribed=1 microlobulated=2 obscured=3 ill-defined=4 spiculated=5 (nominal)\n",
        "\n",
        "5. Density: mass density high=1 iso=2 low=3 fat-containing=4 (ordinal)\n",
        "\n",
        "6. Severity: benign=0 or malignant=1 (binominal, goal field!)"
      ]
    },
    {
      "cell_type": "code",
      "execution_count": 37,
      "metadata": {
        "colab": {
          "base_uri": "https://localhost:8080/",
          "height": 424
        },
        "id": "PePNeo4SAfcW",
        "outputId": "d7cf003b-105e-44ec-a0b5-bb687de11062"
      },
      "outputs": [
        {
          "output_type": "execute_result",
          "data": {
            "text/plain": [
              "      BI-RADS       Age     Shape  Margin   Density  Severity\n",
              "0    0.072727  0.525641  0.000000    0.00  0.666667       0.0\n",
              "1    0.072727  0.333333  0.333333    0.00  0.666667       0.0\n",
              "2    0.090909  0.474359  1.000000    1.00  0.666667       0.0\n",
              "3    0.072727  0.076923  0.333333    0.00  0.666667       0.0\n",
              "4    0.072727  0.358974  0.000000    0.00  0.666667       0.0\n",
              "..        ...       ...       ...     ...       ...       ...\n",
              "825  0.072727  0.615385  0.000000    0.00  0.666667       0.0\n",
              "826  0.072727  0.038462  0.333333    0.00  0.666667       0.0\n",
              "827  0.090909  0.833333  1.000000    0.75  0.666667       1.0\n",
              "828  0.090909  0.628205  1.000000    1.00  0.666667       1.0\n",
              "829  0.072727  0.641026  0.000000    0.00  0.666667       1.0\n",
              "\n",
              "[830 rows x 6 columns]"
            ],
            "text/html": [
              "\n",
              "  <div id=\"df-fdcbdbff-99f5-4f1c-872d-a4e30a7bb6d4\" class=\"colab-df-container\">\n",
              "    <div>\n",
              "<style scoped>\n",
              "    .dataframe tbody tr th:only-of-type {\n",
              "        vertical-align: middle;\n",
              "    }\n",
              "\n",
              "    .dataframe tbody tr th {\n",
              "        vertical-align: top;\n",
              "    }\n",
              "\n",
              "    .dataframe thead th {\n",
              "        text-align: right;\n",
              "    }\n",
              "</style>\n",
              "<table border=\"1\" class=\"dataframe\">\n",
              "  <thead>\n",
              "    <tr style=\"text-align: right;\">\n",
              "      <th></th>\n",
              "      <th>BI-RADS</th>\n",
              "      <th>Age</th>\n",
              "      <th>Shape</th>\n",
              "      <th>Margin</th>\n",
              "      <th>Density</th>\n",
              "      <th>Severity</th>\n",
              "    </tr>\n",
              "  </thead>\n",
              "  <tbody>\n",
              "    <tr>\n",
              "      <th>0</th>\n",
              "      <td>0.072727</td>\n",
              "      <td>0.525641</td>\n",
              "      <td>0.000000</td>\n",
              "      <td>0.00</td>\n",
              "      <td>0.666667</td>\n",
              "      <td>0.0</td>\n",
              "    </tr>\n",
              "    <tr>\n",
              "      <th>1</th>\n",
              "      <td>0.072727</td>\n",
              "      <td>0.333333</td>\n",
              "      <td>0.333333</td>\n",
              "      <td>0.00</td>\n",
              "      <td>0.666667</td>\n",
              "      <td>0.0</td>\n",
              "    </tr>\n",
              "    <tr>\n",
              "      <th>2</th>\n",
              "      <td>0.090909</td>\n",
              "      <td>0.474359</td>\n",
              "      <td>1.000000</td>\n",
              "      <td>1.00</td>\n",
              "      <td>0.666667</td>\n",
              "      <td>0.0</td>\n",
              "    </tr>\n",
              "    <tr>\n",
              "      <th>3</th>\n",
              "      <td>0.072727</td>\n",
              "      <td>0.076923</td>\n",
              "      <td>0.333333</td>\n",
              "      <td>0.00</td>\n",
              "      <td>0.666667</td>\n",
              "      <td>0.0</td>\n",
              "    </tr>\n",
              "    <tr>\n",
              "      <th>4</th>\n",
              "      <td>0.072727</td>\n",
              "      <td>0.358974</td>\n",
              "      <td>0.000000</td>\n",
              "      <td>0.00</td>\n",
              "      <td>0.666667</td>\n",
              "      <td>0.0</td>\n",
              "    </tr>\n",
              "    <tr>\n",
              "      <th>...</th>\n",
              "      <td>...</td>\n",
              "      <td>...</td>\n",
              "      <td>...</td>\n",
              "      <td>...</td>\n",
              "      <td>...</td>\n",
              "      <td>...</td>\n",
              "    </tr>\n",
              "    <tr>\n",
              "      <th>825</th>\n",
              "      <td>0.072727</td>\n",
              "      <td>0.615385</td>\n",
              "      <td>0.000000</td>\n",
              "      <td>0.00</td>\n",
              "      <td>0.666667</td>\n",
              "      <td>0.0</td>\n",
              "    </tr>\n",
              "    <tr>\n",
              "      <th>826</th>\n",
              "      <td>0.072727</td>\n",
              "      <td>0.038462</td>\n",
              "      <td>0.333333</td>\n",
              "      <td>0.00</td>\n",
              "      <td>0.666667</td>\n",
              "      <td>0.0</td>\n",
              "    </tr>\n",
              "    <tr>\n",
              "      <th>827</th>\n",
              "      <td>0.090909</td>\n",
              "      <td>0.833333</td>\n",
              "      <td>1.000000</td>\n",
              "      <td>0.75</td>\n",
              "      <td>0.666667</td>\n",
              "      <td>1.0</td>\n",
              "    </tr>\n",
              "    <tr>\n",
              "      <th>828</th>\n",
              "      <td>0.090909</td>\n",
              "      <td>0.628205</td>\n",
              "      <td>1.000000</td>\n",
              "      <td>1.00</td>\n",
              "      <td>0.666667</td>\n",
              "      <td>1.0</td>\n",
              "    </tr>\n",
              "    <tr>\n",
              "      <th>829</th>\n",
              "      <td>0.072727</td>\n",
              "      <td>0.641026</td>\n",
              "      <td>0.000000</td>\n",
              "      <td>0.00</td>\n",
              "      <td>0.666667</td>\n",
              "      <td>1.0</td>\n",
              "    </tr>\n",
              "  </tbody>\n",
              "</table>\n",
              "<p>830 rows × 6 columns</p>\n",
              "</div>\n",
              "    <div class=\"colab-df-buttons\">\n",
              "\n",
              "  <div class=\"colab-df-container\">\n",
              "    <button class=\"colab-df-convert\" onclick=\"convertToInteractive('df-fdcbdbff-99f5-4f1c-872d-a4e30a7bb6d4')\"\n",
              "            title=\"Convert this dataframe to an interactive table.\"\n",
              "            style=\"display:none;\">\n",
              "\n",
              "  <svg xmlns=\"http://www.w3.org/2000/svg\" height=\"24px\" viewBox=\"0 -960 960 960\">\n",
              "    <path d=\"M120-120v-720h720v720H120Zm60-500h600v-160H180v160Zm220 220h160v-160H400v160Zm0 220h160v-160H400v160ZM180-400h160v-160H180v160Zm440 0h160v-160H620v160ZM180-180h160v-160H180v160Zm440 0h160v-160H620v160Z\"/>\n",
              "  </svg>\n",
              "    </button>\n",
              "\n",
              "  <style>\n",
              "    .colab-df-container {\n",
              "      display:flex;\n",
              "      gap: 12px;\n",
              "    }\n",
              "\n",
              "    .colab-df-convert {\n",
              "      background-color: #E8F0FE;\n",
              "      border: none;\n",
              "      border-radius: 50%;\n",
              "      cursor: pointer;\n",
              "      display: none;\n",
              "      fill: #1967D2;\n",
              "      height: 32px;\n",
              "      padding: 0 0 0 0;\n",
              "      width: 32px;\n",
              "    }\n",
              "\n",
              "    .colab-df-convert:hover {\n",
              "      background-color: #E2EBFA;\n",
              "      box-shadow: 0px 1px 2px rgba(60, 64, 67, 0.3), 0px 1px 3px 1px rgba(60, 64, 67, 0.15);\n",
              "      fill: #174EA6;\n",
              "    }\n",
              "\n",
              "    .colab-df-buttons div {\n",
              "      margin-bottom: 4px;\n",
              "    }\n",
              "\n",
              "    [theme=dark] .colab-df-convert {\n",
              "      background-color: #3B4455;\n",
              "      fill: #D2E3FC;\n",
              "    }\n",
              "\n",
              "    [theme=dark] .colab-df-convert:hover {\n",
              "      background-color: #434B5C;\n",
              "      box-shadow: 0px 1px 3px 1px rgba(0, 0, 0, 0.15);\n",
              "      filter: drop-shadow(0px 1px 2px rgba(0, 0, 0, 0.3));\n",
              "      fill: #FFFFFF;\n",
              "    }\n",
              "  </style>\n",
              "\n",
              "    <script>\n",
              "      const buttonEl =\n",
              "        document.querySelector('#df-fdcbdbff-99f5-4f1c-872d-a4e30a7bb6d4 button.colab-df-convert');\n",
              "      buttonEl.style.display =\n",
              "        google.colab.kernel.accessAllowed ? 'block' : 'none';\n",
              "\n",
              "      async function convertToInteractive(key) {\n",
              "        const element = document.querySelector('#df-fdcbdbff-99f5-4f1c-872d-a4e30a7bb6d4');\n",
              "        const dataTable =\n",
              "          await google.colab.kernel.invokeFunction('convertToInteractive',\n",
              "                                                    [key], {});\n",
              "        if (!dataTable) return;\n",
              "\n",
              "        const docLinkHtml = 'Like what you see? Visit the ' +\n",
              "          '<a target=\"_blank\" href=https://colab.research.google.com/notebooks/data_table.ipynb>data table notebook</a>'\n",
              "          + ' to learn more about interactive tables.';\n",
              "        element.innerHTML = '';\n",
              "        dataTable['output_type'] = 'display_data';\n",
              "        await google.colab.output.renderOutput(dataTable, element);\n",
              "        const docLink = document.createElement('div');\n",
              "        docLink.innerHTML = docLinkHtml;\n",
              "        element.appendChild(docLink);\n",
              "      }\n",
              "    </script>\n",
              "  </div>\n",
              "\n",
              "\n",
              "<div id=\"df-9d6729f4-7bd5-4449-862a-3a29bcb53b82\">\n",
              "  <button class=\"colab-df-quickchart\" onclick=\"quickchart('df-9d6729f4-7bd5-4449-862a-3a29bcb53b82')\"\n",
              "            title=\"Suggest charts\"\n",
              "            style=\"display:none;\">\n",
              "\n",
              "<svg xmlns=\"http://www.w3.org/2000/svg\" height=\"24px\"viewBox=\"0 0 24 24\"\n",
              "     width=\"24px\">\n",
              "    <g>\n",
              "        <path d=\"M19 3H5c-1.1 0-2 .9-2 2v14c0 1.1.9 2 2 2h14c1.1 0 2-.9 2-2V5c0-1.1-.9-2-2-2zM9 17H7v-7h2v7zm4 0h-2V7h2v10zm4 0h-2v-4h2v4z\"/>\n",
              "    </g>\n",
              "</svg>\n",
              "  </button>\n",
              "\n",
              "<style>\n",
              "  .colab-df-quickchart {\n",
              "      --bg-color: #E8F0FE;\n",
              "      --fill-color: #1967D2;\n",
              "      --hover-bg-color: #E2EBFA;\n",
              "      --hover-fill-color: #174EA6;\n",
              "      --disabled-fill-color: #AAA;\n",
              "      --disabled-bg-color: #DDD;\n",
              "  }\n",
              "\n",
              "  [theme=dark] .colab-df-quickchart {\n",
              "      --bg-color: #3B4455;\n",
              "      --fill-color: #D2E3FC;\n",
              "      --hover-bg-color: #434B5C;\n",
              "      --hover-fill-color: #FFFFFF;\n",
              "      --disabled-bg-color: #3B4455;\n",
              "      --disabled-fill-color: #666;\n",
              "  }\n",
              "\n",
              "  .colab-df-quickchart {\n",
              "    background-color: var(--bg-color);\n",
              "    border: none;\n",
              "    border-radius: 50%;\n",
              "    cursor: pointer;\n",
              "    display: none;\n",
              "    fill: var(--fill-color);\n",
              "    height: 32px;\n",
              "    padding: 0;\n",
              "    width: 32px;\n",
              "  }\n",
              "\n",
              "  .colab-df-quickchart:hover {\n",
              "    background-color: var(--hover-bg-color);\n",
              "    box-shadow: 0 1px 2px rgba(60, 64, 67, 0.3), 0 1px 3px 1px rgba(60, 64, 67, 0.15);\n",
              "    fill: var(--button-hover-fill-color);\n",
              "  }\n",
              "\n",
              "  .colab-df-quickchart-complete:disabled,\n",
              "  .colab-df-quickchart-complete:disabled:hover {\n",
              "    background-color: var(--disabled-bg-color);\n",
              "    fill: var(--disabled-fill-color);\n",
              "    box-shadow: none;\n",
              "  }\n",
              "\n",
              "  .colab-df-spinner {\n",
              "    border: 2px solid var(--fill-color);\n",
              "    border-color: transparent;\n",
              "    border-bottom-color: var(--fill-color);\n",
              "    animation:\n",
              "      spin 1s steps(1) infinite;\n",
              "  }\n",
              "\n",
              "  @keyframes spin {\n",
              "    0% {\n",
              "      border-color: transparent;\n",
              "      border-bottom-color: var(--fill-color);\n",
              "      border-left-color: var(--fill-color);\n",
              "    }\n",
              "    20% {\n",
              "      border-color: transparent;\n",
              "      border-left-color: var(--fill-color);\n",
              "      border-top-color: var(--fill-color);\n",
              "    }\n",
              "    30% {\n",
              "      border-color: transparent;\n",
              "      border-left-color: var(--fill-color);\n",
              "      border-top-color: var(--fill-color);\n",
              "      border-right-color: var(--fill-color);\n",
              "    }\n",
              "    40% {\n",
              "      border-color: transparent;\n",
              "      border-right-color: var(--fill-color);\n",
              "      border-top-color: var(--fill-color);\n",
              "    }\n",
              "    60% {\n",
              "      border-color: transparent;\n",
              "      border-right-color: var(--fill-color);\n",
              "    }\n",
              "    80% {\n",
              "      border-color: transparent;\n",
              "      border-right-color: var(--fill-color);\n",
              "      border-bottom-color: var(--fill-color);\n",
              "    }\n",
              "    90% {\n",
              "      border-color: transparent;\n",
              "      border-bottom-color: var(--fill-color);\n",
              "    }\n",
              "  }\n",
              "</style>\n",
              "\n",
              "  <script>\n",
              "    async function quickchart(key) {\n",
              "      const quickchartButtonEl =\n",
              "        document.querySelector('#' + key + ' button');\n",
              "      quickchartButtonEl.disabled = true;  // To prevent multiple clicks.\n",
              "      quickchartButtonEl.classList.add('colab-df-spinner');\n",
              "      try {\n",
              "        const charts = await google.colab.kernel.invokeFunction(\n",
              "            'suggestCharts', [key], {});\n",
              "      } catch (error) {\n",
              "        console.error('Error during call to suggestCharts:', error);\n",
              "      }\n",
              "      quickchartButtonEl.classList.remove('colab-df-spinner');\n",
              "      quickchartButtonEl.classList.add('colab-df-quickchart-complete');\n",
              "    }\n",
              "    (() => {\n",
              "      let quickchartButtonEl =\n",
              "        document.querySelector('#df-9d6729f4-7bd5-4449-862a-3a29bcb53b82 button');\n",
              "      quickchartButtonEl.style.display =\n",
              "        google.colab.kernel.accessAllowed ? 'block' : 'none';\n",
              "    })();\n",
              "  </script>\n",
              "</div>\n",
              "    </div>\n",
              "  </div>\n"
            ],
            "application/vnd.google.colaboratory.intrinsic+json": {
              "type": "dataframe",
              "variable_name": "data",
              "summary": "{\n  \"name\": \"data\",\n  \"rows\": 830,\n  \"fields\": [\n    {\n      \"column\": \"BI-RADS\",\n      \"properties\": {\n        \"dtype\": \"number\",\n        \"std\": 0.034334026582659494,\n        \"min\": 0.0,\n        \"max\": 1.0,\n        \"num_unique_values\": 7,\n        \"samples\": [\n          0.07272727272727272,\n          0.09090909090909091,\n          0.0\n        ],\n        \"semantic_type\": \"\",\n        \"description\": \"\"\n      }\n    },\n    {\n      \"column\": \"Age\",\n      \"properties\": {\n        \"dtype\": \"number\",\n        \"std\": 0.18809977178510603,\n        \"min\": 0.0,\n        \"max\": 1.0,\n        \"num_unique_values\": 72,\n        \"samples\": [\n          0.358974358974359,\n          0.01282051282051282,\n          0.2692307692307692\n        ],\n        \"semantic_type\": \"\",\n        \"description\": \"\"\n      }\n    },\n    {\n      \"column\": \"Shape\",\n      \"properties\": {\n        \"dtype\": \"number\",\n        \"std\": 0.41412031188024095,\n        \"min\": 0.0,\n        \"max\": 1.0,\n        \"num_unique_values\": 4,\n        \"samples\": [\n          0.3333333333333333,\n          0.6666666666666666,\n          0.0\n        ],\n        \"semantic_type\": \"\",\n        \"description\": \"\"\n      }\n    },\n    {\n      \"column\": \"Margin\",\n      \"properties\": {\n        \"dtype\": \"number\",\n        \"std\": 0.391793667778384,\n        \"min\": 0.0,\n        \"max\": 1.0,\n        \"num_unique_values\": 5,\n        \"samples\": [\n          1.0,\n          0.5,\n          0.25\n        ],\n        \"semantic_type\": \"\",\n        \"description\": \"\"\n      }\n    },\n    {\n      \"column\": \"Density\",\n      \"properties\": {\n        \"dtype\": \"number\",\n        \"std\": 0.11697866578361528,\n        \"min\": 0.0,\n        \"max\": 1.0,\n        \"num_unique_values\": 4,\n        \"samples\": [\n          0.3333333333333333,\n          0.0,\n          0.6666666666666666\n        ],\n        \"semantic_type\": \"\",\n        \"description\": \"\"\n      }\n    },\n    {\n      \"column\": \"Severity\",\n      \"properties\": {\n        \"dtype\": \"number\",\n        \"std\": 0.5000922786066085,\n        \"min\": 0.0,\n        \"max\": 1.0,\n        \"num_unique_values\": 2,\n        \"samples\": [\n          1.0,\n          0.0\n        ],\n        \"semantic_type\": \"\",\n        \"description\": \"\"\n      }\n    }\n  ]\n}"
            }
          },
          "metadata": {},
          "execution_count": 37
        }
      ],
      "source": [
        "# data = pd.read_csv(\"/content/mammographic.csv\")\n",
        "data = pd.read_csv(\"mammographic.csv\")\n",
        "data = (data - data.min()) / (data.max() - data.min())\n",
        "data = data.sample(frac=1, random_state=42).reset_index(drop=True)\n",
        "data"
      ]
    },
    {
      "cell_type": "code",
      "execution_count": 38,
      "metadata": {
        "colab": {
          "base_uri": "https://localhost:8080/",
          "height": 805
        },
        "id": "KrDC3UA4Eb0G",
        "outputId": "9e05d325-ac9f-4b31-a267-beb507aa3441"
      },
      "outputs": [
        {
          "output_type": "display_data",
          "data": {
            "text/plain": [
              "<Figure size 1200x800 with 6 Axes>"
            ],
            "image/png": "[encoded data removed]"
          },
          "metadata": {}
        }
      ],
      "source": [
        "plot_columns(data)"
      ]
    },
    {
      "cell_type": "code",
      "execution_count": 39,
      "metadata": {
        "id": "8e1qRi-BclKy"
      },
      "outputs": [],
      "source": [
        "X = data.drop(columns = [\"Severity\"])\n",
        "y = data[\"Severity\"]\n",
        "X_train, X_test, y_train, y_test = train_test_split(X, y, test_size=0.2, stratify=y, random_state=42)"
      ]
    },
    {
      "cell_type": "markdown",
      "metadata": {
        "id": "fQEQwqvdtcaH"
      },
      "source": [
        "## Simple Explainable Model - Logistic Regression"
      ]
    },
    {
      "cell_type": "markdown",
      "metadata": {
        "id": "nQebcN7FZoy2"
      },
      "source": [
        "### Training"
      ]
    },
    {
      "cell_type": "code",
      "execution_count": 40,
      "metadata": {
        "id": "svD-B46atisn"
      },
      "outputs": [],
      "source": [
        "simple_model = LogisticRegression()\n",
        "simple_model, accuracy, f1, auc, accuracy_test, f1_test, auc_test = use_model(simple_model, X_train, y_train, X_test, y_test)"
      ]
    },
    {
      "cell_type": "code",
      "execution_count": 41,
      "metadata": {
        "colab": {
          "base_uri": "https://localhost:8080/"
        },
        "id": "FauHOatiwWJp",
        "outputId": "0b86fc67-f230-4d78-a602-d4318372c94c"
      },
      "outputs": [
        {
          "output_type": "stream",
          "name": "stdout",
          "text": [
            "Train set accuracy: 0.8163\n",
            "Train set F1: 0.8174\n",
            "Train set AUC: 0.8773\n",
            "Test set accuracy: 0.7711\n",
            "Test set F1: 0.7912\n",
            "Test set AUC: 0.8444\n"
          ]
        }
      ],
      "source": [
        "print(f\"Train set accuracy: {accuracy}\")\n",
        "print(f\"Train set F1: {f1}\")\n",
        "print(f\"Train set AUC: {auc}\")\n",
        "print(f\"Test set accuracy: {accuracy_test}\")\n",
        "print(f\"Test set F1: {f1_test}\")\n",
        "print(f\"Test set AUC: {auc_test}\")"
      ]
    },
    {
      "cell_type": "code",
      "execution_count": 42,
      "metadata": {
        "colab": {
          "base_uri": "https://localhost:8080/",
          "height": 507
        },
        "id": "UbcmD_xcw0y_",
        "outputId": "f2eca996-6d5a-4dee-faa8-1547bd1f75b1"
      },
      "outputs": [
        {
          "output_type": "display_data",
          "data": {
            "text/plain": [
              "<Figure size 1200x500 with 3 Axes>"
            ],
            "image/png": "[encoded data removed]"
          },
          "metadata": {}
        }
      ],
      "source": [
        "plot_stats(accuracy, accuracy_test, f1, f1_test, auc, auc_test)"
      ]
    },
    {
      "cell_type": "markdown",
      "metadata": {
        "id": "_xh4nTiVZrrP"
      },
      "source": [
        "### 2.1. Explanation of the decisions"
      ]
    },
    {
      "cell_type": "code",
      "execution_count": 43,
      "metadata": {
        "colab": {
          "base_uri": "https://localhost:8080/"
        },
        "id": "eKewooxHZSpW",
        "outputId": "9a8851ac-7812-45b6-c047-14a72bfd7bf1"
      },
      "outputs": [
        {
          "output_type": "stream",
          "name": "stdout",
          "text": [
            "Coefficients: [[1.16315803 3.33063052 1.8128958  1.68386309 0.39304664]]\n",
            "intercept: [-3.91537883]\n"
          ]
        }
      ],
      "source": [
        "feature_names = X_train.columns\n",
        "coefficients = simple_model.coef_\n",
        "intercept = simple_model.intercept_\n",
        "\n",
        "print(f\"Coefficients: {coefficients}\")\n",
        "print(f\"intercept: {intercept}\")"
      ]
    },
    {
      "cell_type": "code",
      "execution_count": 44,
      "metadata": {
        "colab": {
          "base_uri": "https://localhost:8080/",
          "height": 600
        },
        "id": "gqgvc_W4aQx0",
        "outputId": "93bdad67-47f6-4f26-e69b-3ce33b7429b5"
      },
      "outputs": [
        {
          "output_type": "display_data",
          "data": {
            "text/plain": [
              "<Figure size 1000x600 with 1 Axes>"
            ],
            "image/png": "[encoded data removed]"
          },
          "metadata": {}
        }
      ],
      "source": [
        "plt.figure(figsize=(10, 6))\n",
        "plt.bar(range(len(feature_names)), coefficients[0], color=\"grey\")\n",
        "plt.xticks(range(len(feature_names)), feature_names, rotation=45)\n",
        "plt.xlabel('Feature')\n",
        "plt.ylabel('Coefficient Value')\n",
        "plt.title('Coefficients of Logistic Regression Model')\n",
        "plt.show()"
      ]
    },
    {
      "cell_type": "code",
      "execution_count": 45,
      "metadata": {
        "colab": {
          "base_uri": "https://localhost:8080/",
          "height": 424
        },
        "id": "_gQnwwDHba6Z",
        "outputId": "131d9a60-2213-4a2f-f738-9c3f28fc067e"
      },
      "outputs": [
        {
          "output_type": "execute_result",
          "data": {
            "text/plain": [
              "      BI-RADS       Age     Shape  Margin   Density\n",
              "162  0.090909  0.730769  1.000000    0.75  0.666667\n",
              "305  0.072727  0.666667  1.000000    0.25  0.333333\n",
              "24   0.090909  0.538462  1.000000    0.50  0.666667\n",
              "667  0.072727  0.294872  0.333333    0.25  0.666667\n",
              "574  0.072727  0.705128  1.000000    0.50  0.666667\n",
              "..        ...       ...       ...     ...       ...\n",
              "695  0.090909  0.743590  0.000000    0.75  0.666667\n",
              "379  0.072727  0.589744  0.333333    0.75  0.666667\n",
              "208  0.072727  0.294872  0.000000    0.00  0.666667\n",
              "388  0.072727  0.435897  1.000000    0.75  0.666667\n",
              "37   0.072727  0.461538  1.000000    0.75  0.666667\n",
              "\n",
              "[166 rows x 5 columns]"
            ],
            "text/html": [
              "\n",
              "  <div id=\"df-8dcded57-1642-4e58-a047-ab1a0158305b\" class=\"colab-df-container\">\n",
              "    <div>\n",
              "<style scoped>\n",
              "    .dataframe tbody tr th:only-of-type {\n",
              "        vertical-align: middle;\n",
              "    }\n",
              "\n",
              "    .dataframe tbody tr th {\n",
              "        vertical-align: top;\n",
              "    }\n",
              "\n",
              "    .dataframe thead th {\n",
              "        text-align: right;\n",
              "    }\n",
              "</style>\n",
              "<table border=\"1\" class=\"dataframe\">\n",
              "  <thead>\n",
              "    <tr style=\"text-align: right;\">\n",
              "      <th></th>\n",
              "      <th>BI-RADS</th>\n",
              "      <th>Age</th>\n",
              "      <th>Shape</th>\n",
              "      <th>Margin</th>\n",
              "      <th>Density</th>\n",
              "    </tr>\n",
              "  </thead>\n",
              "  <tbody>\n",
              "    <tr>\n",
              "      <th>162</th>\n",
              "      <td>0.090909</td>\n",
              "      <td>0.730769</td>\n",
              "      <td>1.000000</td>\n",
              "      <td>0.75</td>\n",
              "      <td>0.666667</td>\n",
              "    </tr>\n",
              "    <tr>\n",
              "      <th>305</th>\n",
              "      <td>0.072727</td>\n",
              "      <td>0.666667</td>\n",
              "      <td>1.000000</td>\n",
              "      <td>0.25</td>\n",
              "      <td>0.333333</td>\n",
              "    </tr>\n",
              "    <tr>\n",
              "      <th>24</th>\n",
              "      <td>0.090909</td>\n",
              "      <td>0.538462</td>\n",
              "      <td>1.000000</td>\n",
              "      <td>0.50</td>\n",
              "      <td>0.666667</td>\n",
              "    </tr>\n",
              "    <tr>\n",
              "      <th>667</th>\n",
              "      <td>0.072727</td>\n",
              "      <td>0.294872</td>\n",
              "      <td>0.333333</td>\n",
              "      <td>0.25</td>\n",
              "      <td>0.666667</td>\n",
              "    </tr>\n",
              "    <tr>\n",
              "      <th>574</th>\n",
              "      <td>0.072727</td>\n",
              "      <td>0.705128</td>\n",
              "      <td>1.000000</td>\n",
              "      <td>0.50</td>\n",
              "      <td>0.666667</td>\n",
              "    </tr>\n",
              "    <tr>\n",
              "      <th>...</th>\n",
              "      <td>...</td>\n",
              "      <td>...</td>\n",
              "      <td>...</td>\n",
              "      <td>...</td>\n",
              "      <td>...</td>\n",
              "    </tr>\n",
              "    <tr>\n",
              "      <th>695</th>\n",
              "      <td>0.090909</td>\n",
              "      <td>0.743590</td>\n",
              "      <td>0.000000</td>\n",
              "      <td>0.75</td>\n",
              "      <td>0.666667</td>\n",
              "    </tr>\n",
              "    <tr>\n",
              "      <th>379</th>\n",
              "      <td>0.072727</td>\n",
              "      <td>0.589744</td>\n",
              "      <td>0.333333</td>\n",
              "      <td>0.75</td>\n",
              "      <td>0.666667</td>\n",
              "    </tr>\n",
              "    <tr>\n",
              "      <th>208</th>\n",
              "      <td>0.072727</td>\n",
              "      <td>0.294872</td>\n",
              "      <td>0.000000</td>\n",
              "      <td>0.00</td>\n",
              "      <td>0.666667</td>\n",
              "    </tr>\n",
              "    <tr>\n",
              "      <th>388</th>\n",
              "      <td>0.072727</td>\n",
              "      <td>0.435897</td>\n",
              "      <td>1.000000</td>\n",
              "      <td>0.75</td>\n",
              "      <td>0.666667</td>\n",
              "    </tr>\n",
              "    <tr>\n",
              "      <th>37</th>\n",
              "      <td>0.072727</td>\n",
              "      <td>0.461538</td>\n",
              "      <td>1.000000</td>\n",
              "      <td>0.75</td>\n",
              "      <td>0.666667</td>\n",
              "    </tr>\n",
              "  </tbody>\n",
              "</table>\n",
              "<p>166 rows × 5 columns</p>\n",
              "</div>\n",
              "    <div class=\"colab-df-buttons\">\n",
              "\n",
              "  <div class=\"colab-df-container\">\n",
              "    <button class=\"colab-df-convert\" onclick=\"convertToInteractive('df-8dcded57-1642-4e58-a047-ab1a0158305b')\"\n",
              "            title=\"Convert this dataframe to an interactive table.\"\n",
              "            style=\"display:none;\">\n",
              "\n",
              "  <svg xmlns=\"http://www.w3.org/2000/svg\" height=\"24px\" viewBox=\"0 -960 960 960\">\n",
              "    <path d=\"M120-120v-720h720v720H120Zm60-500h600v-160H180v160Zm220 220h160v-160H400v160Zm0 220h160v-160H400v160ZM180-400h160v-160H180v160Zm440 0h160v-160H620v160ZM180-180h160v-160H180v160Zm440 0h160v-160H620v160Z\"/>\n",
              "  </svg>\n",
              "    </button>\n",
              "\n",
              "  <style>\n",
              "    .colab-df-container {\n",
              "      display:flex;\n",
              "      gap: 12px;\n",
              "    }\n",
              "\n",
              "    .colab-df-convert {\n",
              "      background-color: #E8F0FE;\n",
              "      border: none;\n",
              "      border-radius: 50%;\n",
              "      cursor: pointer;\n",
              "      display: none;\n",
              "      fill: #1967D2;\n",
              "      height: 32px;\n",
              "      padding: 0 0 0 0;\n",
              "      width: 32px;\n",
              "    }\n",
              "\n",
              "    .colab-df-convert:hover {\n",
              "      background-color: #E2EBFA;\n",
              "      box-shadow: 0px 1px 2px rgba(60, 64, 67, 0.3), 0px 1px 3px 1px rgba(60, 64, 67, 0.15);\n",
              "      fill: #174EA6;\n",
              "    }\n",
              "\n",
              "    .colab-df-buttons div {\n",
              "      margin-bottom: 4px;\n",
              "    }\n",
              "\n",
              "    [theme=dark] .colab-df-convert {\n",
              "      background-color: #3B4455;\n",
              "      fill: #D2E3FC;\n",
              "    }\n",
              "\n",
              "    [theme=dark] .colab-df-convert:hover {\n",
              "      background-color: #434B5C;\n",
              "      box-shadow: 0px 1px 3px 1px rgba(0, 0, 0, 0.15);\n",
              "      filter: drop-shadow(0px 1px 2px rgba(0, 0, 0, 0.3));\n",
              "      fill: #FFFFFF;\n",
              "    }\n",
              "  </style>\n",
              "\n",
              "    <script>\n",
              "      const buttonEl =\n",
              "        document.querySelector('#df-8dcded57-1642-4e58-a047-ab1a0158305b button.colab-df-convert');\n",
              "      buttonEl.style.display =\n",
              "        google.colab.kernel.accessAllowed ? 'block' : 'none';\n",
              "\n",
              "      async function convertToInteractive(key) {\n",
              "        const element = document.querySelector('#df-8dcded57-1642-4e58-a047-ab1a0158305b');\n",
              "        const dataTable =\n",
              "          await google.colab.kernel.invokeFunction('convertToInteractive',\n",
              "                                                    [key], {});\n",
              "        if (!dataTable) return;\n",
              "\n",
              "        const docLinkHtml = 'Like what you see? Visit the ' +\n",
              "          '<a target=\"_blank\" href=https://colab.research.google.com/notebooks/data_table.ipynb>data table notebook</a>'\n",
              "          + ' to learn more about interactive tables.';\n",
              "        element.innerHTML = '';\n",
              "        dataTable['output_type'] = 'display_data';\n",
              "        await google.colab.output.renderOutput(dataTable, element);\n",
              "        const docLink = document.createElement('div');\n",
              "        docLink.innerHTML = docLinkHtml;\n",
              "        element.appendChild(docLink);\n",
              "      }\n",
              "    </script>\n",
              "  </div>\n",
              "\n",
              "\n",
              "<div id=\"df-384d9f63-4817-45ff-a83e-65f1c6c94333\">\n",
              "  <button class=\"colab-df-quickchart\" onclick=\"quickchart('df-384d9f63-4817-45ff-a83e-65f1c6c94333')\"\n",
              "            title=\"Suggest charts\"\n",
              "            style=\"display:none;\">\n",
              "\n",
              "<svg xmlns=\"http://www.w3.org/2000/svg\" height=\"24px\"viewBox=\"0 0 24 24\"\n",
              "     width=\"24px\">\n",
              "    <g>\n",
              "        <path d=\"M19 3H5c-1.1 0-2 .9-2 2v14c0 1.1.9 2 2 2h14c1.1 0 2-.9 2-2V5c0-1.1-.9-2-2-2zM9 17H7v-7h2v7zm4 0h-2V7h2v10zm4 0h-2v-4h2v4z\"/>\n",
              "    </g>\n",
              "</svg>\n",
              "  </button>\n",
              "\n",
              "<style>\n",
              "  .colab-df-quickchart {\n",
              "      --bg-color: #E8F0FE;\n",
              "      --fill-color: #1967D2;\n",
              "      --hover-bg-color: #E2EBFA;\n",
              "      --hover-fill-color: #174EA6;\n",
              "      --disabled-fill-color: #AAA;\n",
              "      --disabled-bg-color: #DDD;\n",
              "  }\n",
              "\n",
              "  [theme=dark] .colab-df-quickchart {\n",
              "      --bg-color: #3B4455;\n",
              "      --fill-color: #D2E3FC;\n",
              "      --hover-bg-color: #434B5C;\n",
              "      --hover-fill-color: #FFFFFF;\n",
              "      --disabled-bg-color: #3B4455;\n",
              "      --disabled-fill-color: #666;\n",
              "  }\n",
              "\n",
              "  .colab-df-quickchart {\n",
              "    background-color: var(--bg-color);\n",
              "    border: none;\n",
              "    border-radius: 50%;\n",
              "    cursor: pointer;\n",
              "    display: none;\n",
              "    fill: var(--fill-color);\n",
              "    height: 32px;\n",
              "    padding: 0;\n",
              "    width: 32px;\n",
              "  }\n",
              "\n",
              "  .colab-df-quickchart:hover {\n",
              "    background-color: var(--hover-bg-color);\n",
              "    box-shadow: 0 1px 2px rgba(60, 64, 67, 0.3), 0 1px 3px 1px rgba(60, 64, 67, 0.15);\n",
              "    fill: var(--button-hover-fill-color);\n",
              "  }\n",
              "\n",
              "  .colab-df-quickchart-complete:disabled,\n",
              "  .colab-df-quickchart-complete:disabled:hover {\n",
              "    background-color: var(--disabled-bg-color);\n",
              "    fill: var(--disabled-fill-color);\n",
              "    box-shadow: none;\n",
              "  }\n",
              "\n",
              "  .colab-df-spinner {\n",
              "    border: 2px solid var(--fill-color);\n",
              "    border-color: transparent;\n",
              "    border-bottom-color: var(--fill-color);\n",
              "    animation:\n",
              "      spin 1s steps(1) infinite;\n",
              "  }\n",
              "\n",
              "  @keyframes spin {\n",
              "    0% {\n",
              "      border-color: transparent;\n",
              "      border-bottom-color: var(--fill-color);\n",
              "      border-left-color: var(--fill-color);\n",
              "    }\n",
              "    20% {\n",
              "      border-color: transparent;\n",
              "      border-left-color: var(--fill-color);\n",
              "      border-top-color: var(--fill-color);\n",
              "    }\n",
              "    30% {\n",
              "      border-color: transparent;\n",
              "      border-left-color: var(--fill-color);\n",
              "      border-top-color: var(--fill-color);\n",
              "      border-right-color: var(--fill-color);\n",
              "    }\n",
              "    40% {\n",
              "      border-color: transparent;\n",
              "      border-right-color: var(--fill-color);\n",
              "      border-top-color: var(--fill-color);\n",
              "    }\n",
              "    60% {\n",
              "      border-color: transparent;\n",
              "      border-right-color: var(--fill-color);\n",
              "    }\n",
              "    80% {\n",
              "      border-color: transparent;\n",
              "      border-right-color: var(--fill-color);\n",
              "      border-bottom-color: var(--fill-color);\n",
              "    }\n",
              "    90% {\n",
              "      border-color: transparent;\n",
              "      border-bottom-color: var(--fill-color);\n",
              "    }\n",
              "  }\n",
              "</style>\n",
              "\n",
              "  <script>\n",
              "    async function quickchart(key) {\n",
              "      const quickchartButtonEl =\n",
              "        document.querySelector('#' + key + ' button');\n",
              "      quickchartButtonEl.disabled = true;  // To prevent multiple clicks.\n",
              "      quickchartButtonEl.classList.add('colab-df-spinner');\n",
              "      try {\n",
              "        const charts = await google.colab.kernel.invokeFunction(\n",
              "            'suggestCharts', [key], {});\n",
              "      } catch (error) {\n",
              "        console.error('Error during call to suggestCharts:', error);\n",
              "      }\n",
              "      quickchartButtonEl.classList.remove('colab-df-spinner');\n",
              "      quickchartButtonEl.classList.add('colab-df-quickchart-complete');\n",
              "    }\n",
              "    (() => {\n",
              "      let quickchartButtonEl =\n",
              "        document.querySelector('#df-384d9f63-4817-45ff-a83e-65f1c6c94333 button');\n",
              "      quickchartButtonEl.style.display =\n",
              "        google.colab.kernel.accessAllowed ? 'block' : 'none';\n",
              "    })();\n",
              "  </script>\n",
              "</div>\n",
              "    </div>\n",
              "  </div>\n"
            ],
            "application/vnd.google.colaboratory.intrinsic+json": {
              "type": "dataframe",
              "variable_name": "X_test",
              "summary": "{\n  \"name\": \"X_test\",\n  \"rows\": 166,\n  \"fields\": [\n    {\n      \"column\": \"BI-RADS\",\n      \"properties\": {\n        \"dtype\": \"number\",\n        \"std\": 0.011758659021930679,\n        \"min\": 0.03636363636363636,\n        \"max\": 0.10909090909090909,\n        \"num_unique_values\": 5,\n        \"samples\": [\n          0.07272727272727272,\n          0.10909090909090909,\n          0.05454545454545454\n        ],\n        \"semantic_type\": \"\",\n        \"description\": \"\"\n      }\n    },\n    {\n      \"column\": \"Age\",\n      \"properties\": {\n        \"dtype\": \"number\",\n        \"std\": 0.19615880062611468,\n        \"min\": 0.02564102564102564,\n        \"max\": 0.8717948717948718,\n        \"num_unique_values\": 57,\n        \"samples\": [\n          0.7307692307692307,\n          0.47435897435897434,\n          0.717948717948718\n        ],\n        \"semantic_type\": \"\",\n        \"description\": \"\"\n      }\n    },\n    {\n      \"column\": \"Shape\",\n      \"properties\": {\n        \"dtype\": \"number\",\n        \"std\": 0.41884243896959716,\n        \"min\": 0.0,\n        \"max\": 1.0,\n        \"num_unique_values\": 4,\n        \"samples\": [\n          0.3333333333333333,\n          0.6666666666666666,\n          1.0\n        ],\n        \"semantic_type\": \"\",\n        \"description\": \"\"\n      }\n    },\n    {\n      \"column\": \"Margin\",\n      \"properties\": {\n        \"dtype\": \"number\",\n        \"std\": 0.3672078965441925,\n        \"min\": 0.0,\n        \"max\": 1.0,\n        \"num_unique_values\": 5,\n        \"samples\": [\n          0.25,\n          0.0,\n          0.5\n        ],\n        \"semantic_type\": \"\",\n        \"description\": \"\"\n      }\n    },\n    {\n      \"column\": \"Density\",\n      \"properties\": {\n        \"dtype\": \"number\",\n        \"std\": 0.131411857551824,\n        \"min\": 0.0,\n        \"max\": 1.0,\n        \"num_unique_values\": 4,\n        \"samples\": [\n          0.3333333333333333,\n          1.0,\n          0.6666666666666666\n        ],\n        \"semantic_type\": \"\",\n        \"description\": \"\"\n      }\n    }\n  ]\n}"
            }
          },
          "metadata": {},
          "execution_count": 45
        }
      ],
      "source": [
        "X_test"
      ]
    },
    {
      "cell_type": "code",
      "execution_count": 46,
      "metadata": {
        "colab": {
          "base_uri": "https://localhost:8080/"
        },
        "id": "XRa6hCCOaqdI",
        "outputId": "e8e04940-1a0c-4efb-dd59-501946e893ec"
      },
      "outputs": [
        {
          "output_type": "stream",
          "name": "stdout",
          "text": [
            "Test example:\n",
            "BI-RADS    0.090909\n",
            "Age        0.730769\n",
            "Shape      1.000000\n",
            "Margin     0.750000\n",
            "Density    0.666667\n",
            "Name: 162, dtype: float64\n",
            "\n",
            "Assigned Label: 1.0\n",
            "________________________________\n",
            "Test example:\n",
            "BI-RADS    0.072727\n",
            "Age        0.666667\n",
            "Shape      1.000000\n",
            "Margin     0.250000\n",
            "Density    0.333333\n",
            "Name: 305, dtype: float64\n",
            "\n",
            "Assigned Label: 1.0\n",
            "________________________________\n",
            "Test example:\n",
            "BI-RADS    0.072727\n",
            "Age        0.282051\n",
            "Shape      0.333333\n",
            "Margin     0.000000\n",
            "Density    0.666667\n",
            "Name: 462, dtype: float64\n",
            "\n",
            "Assigned Label: 0.0\n"
          ]
        }
      ],
      "source": [
        "test_example_1 = X_test.iloc[0]\n",
        "test_label_1 = simple_model.predict(X_test.iloc[0].values.reshape(1, -1))[0]\n",
        "test_example_2 = X_test.iloc[1]\n",
        "test_label_2 = simple_model.predict(X_test.iloc[1].values.reshape(1, -1))[0]\n",
        "test_example_3 = X_test.iloc[9] #taking the 9th example, since we wanted variety with classes\n",
        "test_label_3 = simple_model.predict(X_test.iloc[9].values.reshape(1, -1))[0]\n",
        "print(f\"Test example:\\n{test_example_1}\")\n",
        "print(f\"\\nAssigned Label: {test_label_1}\")\n",
        "print(\"________________________________\")\n",
        "print(f\"Test example:\\n{test_example_2}\")\n",
        "print(f\"\\nAssigned Label: {test_label_2}\")\n",
        "print(\"________________________________\")\n",
        "print(f\"Test example:\\n{test_example_3}\")\n",
        "print(f\"\\nAssigned Label: {test_label_3}\")"
      ]
    },
    {
      "cell_type": "markdown",
      "metadata": {
        "id": "c_6UlD8I1_QN"
      },
      "source": [
        "#### Changes from Theoretical Calculations\n",
        "\n"
      ]
    },
    {
      "cell_type": "code",
      "execution_count": 47,
      "metadata": {
        "colab": {
          "base_uri": "https://localhost:8080/"
        },
        "id": "US7QRsZbeWY3",
        "outputId": "783aa203-c0e4-4922-cc58-88b054ada49b"
      },
      "outputs": [
        {
          "output_type": "stream",
          "name": "stdout",
          "text": [
            "Columns in order: ['BI-RADS', 'Age', 'Shape', 'Margin', 'Density']\n",
            "Original Example: [0.0909, 0.7308, 1.0, 0.75, 0.6667]\n",
            "New Example Assigned to a different class: [0.0909, 0.1414, 1.0, 0.75, 0.6667]\n",
            "Minimal Differences: [0.0, 0.5894, 0.0, 0.0, 0.0]\n",
            "Model's original decision [1.]\n",
            "Model's new decision: [0.]\n"
          ]
        }
      ],
      "source": [
        "get_logistic_regression_changed_prediction(test_example_1, list(X_train.columns), coefficients[0], intercept[0], simple_model)"
      ]
    },
    {
      "cell_type": "code",
      "execution_count": 48,
      "metadata": {
        "colab": {
          "base_uri": "https://localhost:8080/"
        },
        "id": "PTjljLpTnKnj",
        "outputId": "f663889b-6a72-4394-fbf1-df412645f5e2"
      },
      "outputs": [
        {
          "output_type": "stream",
          "name": "stdout",
          "text": [
            "Columns in order: ['BI-RADS', 'Age', 'Shape', 'Margin', 'Density']\n",
            "Original Example: [0.0727, 0.6667, 1.0, 0.25, 0.3333]\n",
            "New Example Assigned to a different class: [0.0727, 0.4398, 1.0, 0.25, 0.3333]\n",
            "Minimal Differences: [0.0, 0.2268, 0.0, 0.0, 0.0]\n",
            "Model's original decision [1.]\n",
            "Model's new decision: [0.]\n"
          ]
        }
      ],
      "source": [
        "get_logistic_regression_changed_prediction(test_example_2, list(X_train.columns), coefficients[0], intercept[0], simple_model)"
      ]
    },
    {
      "cell_type": "code",
      "execution_count": 49,
      "metadata": {
        "colab": {
          "base_uri": "https://localhost:8080/"
        },
        "id": "iHyTyBpdrJZF",
        "outputId": "7568673a-769a-458c-d7a9-c340c4511432"
      },
      "outputs": [
        {
          "output_type": "stream",
          "name": "stdout",
          "text": [
            "Columns in order: ['BI-RADS', 'Age', 'Shape', 'Margin', 'Density']\n",
            "Original Example: [0.0727, 0.2821, 0.3333, 0.0, 0.6667]\n",
            "New Example Assigned to a different class: [0.0727, 0.8904, 0.3333, 0.0, 0.6667]\n",
            "Minimal Differences: [0.0, -0.6083, 0.0, 0.0, 0.0]\n",
            "Model's original decision [0.]\n",
            "Model's new decision: [1.]\n"
          ]
        }
      ],
      "source": [
        "get_logistic_regression_changed_prediction(test_example_3, list(X_train.columns), coefficients[0], intercept[0], simple_model)"
      ]
    },
    {
      "cell_type": "markdown",
      "metadata": {
        "id": "NsmA8qqS2EfH"
      },
      "source": [
        "#### Changes from Sampling"
      ]
    },
    {
      "cell_type": "code",
      "execution_count": 50,
      "metadata": {
        "colab": {
          "base_uri": "https://localhost:8080/"
        },
        "id": "noxvSg7hwl1v",
        "outputId": "64389bb8-9fe8-4373-fd50-b3db67ad61b4"
      },
      "outputs": [
        {
          "output_type": "stream",
          "name": "stdout",
          "text": [
            "Columns in order: ['BI-RADS', 'Age', 'Shape', 'Margin', 'Density']\n",
            "Original Example: [0.0909, 0.7308, 1.0, 0.75, 0.6667]\n",
            "New Example Assigned to a different class: [0.0909, 0.1408, 1.0, 0.75, 0.6667]\n",
            "Minimal Differences: [0.0, 0.59, 0.0, 0.0, 0.0]\n",
            "Model's original decision 1.0\n",
            "Model's new decision: 0.0\n"
          ]
        }
      ],
      "source": [
        "change_class_by_sampling(test_example_1, list(X_train.columns), coefficients[0], simple_model)"
      ]
    },
    {
      "cell_type": "code",
      "execution_count": 51,
      "metadata": {
        "colab": {
          "base_uri": "https://localhost:8080/"
        },
        "id": "Cw9buzO_wmR1",
        "outputId": "1b2595c5-b634-44e3-e5a0-2b2e3898c6da"
      },
      "outputs": [
        {
          "output_type": "stream",
          "name": "stdout",
          "text": [
            "Columns in order: ['BI-RADS', 'Age', 'Shape', 'Margin', 'Density']\n",
            "Original Example: [0.0727, 0.6667, 1.0, 0.25, 0.3333]\n",
            "New Example Assigned to a different class: [0.0727, 0.4397, 1.0, 0.25, 0.3333]\n",
            "Minimal Differences: [0.0, 0.227, 0.0, 0.0, 0.0]\n",
            "Model's original decision 1.0\n",
            "Model's new decision: 0.0\n"
          ]
        }
      ],
      "source": [
        "change_class_by_sampling(test_example_2, list(X_train.columns), coefficients[0], simple_model)"
      ]
    },
    {
      "cell_type": "code",
      "execution_count": 52,
      "metadata": {
        "colab": {
          "base_uri": "https://localhost:8080/"
        },
        "id": "IAco4utkwmjH",
        "outputId": "74e839c0-5d9a-4467-b881-72a9bcd0123a"
      },
      "outputs": [
        {
          "output_type": "stream",
          "name": "stdout",
          "text": [
            "Columns in order: ['BI-RADS', 'Age', 'Shape', 'Margin', 'Density']\n",
            "Original Example: [0.0727, 0.2821, 0.3333, 0.0, 0.6667]\n",
            "New Example Assigned to a different class: [0.0727, 0.8911, 0.3333, 0.0, 0.6667]\n",
            "Minimal Differences: [0.0, -0.609, 0.0, 0.0, 0.0]\n",
            "Model's original decision 0.0\n",
            "Model's new decision: 1.0\n"
          ]
        }
      ],
      "source": [
        "change_class_by_sampling(test_example_3, list(X_train.columns), coefficients[0], simple_model)"
      ]
    },
    {
      "cell_type": "markdown",
      "metadata": {
        "id": "euRioC-S5AYe"
      },
      "source": [
        "### SHAP explanation"
      ]
    },
    {
      "cell_type": "code",
      "execution_count": 53,
      "metadata": {
        "colab": {
          "base_uri": "https://localhost:8080/",
          "height": 357
        },
        "id": "zIPSrsq35AHV",
        "outputId": "bd82234c-3334-443b-a4ea-2497ed407ada"
      },
      "outputs": [
        {
          "output_type": "display_data",
          "data": {
            "text/plain": [
              "<Figure size 800x350 with 2 Axes>"
            ],
            "image/png": "[encoded data removed]"
          },
          "metadata": {}
        }
      ],
      "source": [
        "explainer = shap.Explainer(simple_model, X_train)\n",
        "shap_values = explainer(X_test)\n",
        "shap.summary_plot(shap_values, X_test, feature_names=X_test.columns)"
      ]
    },
    {
      "cell_type": "code",
      "execution_count": 54,
      "metadata": {
        "colab": {
          "base_uri": "https://localhost:8080/",
          "height": 425
        },
        "id": "CkccdCNIKdUG",
        "outputId": "e4d7c2cd-720e-4a09-e08f-e5d45a385b98"
      },
      "outputs": [
        {
          "output_type": "display_data",
          "data": {
            "text/plain": [
              "<Figure size 800x400 with 3 Axes>"
            ],
            "image/png": "[encoded data removed]"
          },
          "metadata": {}
        }
      ],
      "source": [
        "shap.plots.waterfall(shap_values[0])"
      ]
    },
    {
      "cell_type": "code",
      "execution_count": 55,
      "metadata": {
        "colab": {
          "base_uri": "https://localhost:8080/",
          "height": 425
        },
        "id": "tn9NsH1UKub6",
        "outputId": "866dd075-8914-490f-f5cc-da2f4a8d4913"
      },
      "outputs": [
        {
          "output_type": "display_data",
          "data": {
            "text/plain": [
              "<Figure size 800x400 with 3 Axes>"
            ],
            "image/png": "[encoded data removed]"
          },
          "metadata": {}
        }
      ],
      "source": [
        "shap.plots.waterfall(shap_values[1])"
      ]
    },
    {
      "cell_type": "code",
      "execution_count": 56,
      "metadata": {
        "colab": {
          "base_uri": "https://localhost:8080/",
          "height": 425
        },
        "id": "jeOF5eUiKwxV",
        "outputId": "bd2e112a-4b31-460c-8202-60ecb35c925a"
      },
      "outputs": [
        {
          "output_type": "display_data",
          "data": {
            "text/plain": [
              "<Figure size 800x400 with 3 Axes>"
            ],
            "image/png": "[encoded data removed]"
          },
          "metadata": {}
        }
      ],
      "source": [
        "shap.plots.waterfall(shap_values[9])"
      ]
    },
    {
      "cell_type": "code",
      "execution_count": 57,
      "metadata": {
        "colab": {
          "base_uri": "https://localhost:8080/",
          "height": 476
        },
        "id": "JifiTwVMLTx3",
        "outputId": "45b7079f-5db7-4713-be74-88f32d68568b"
      },
      "outputs": [
        {
          "output_type": "display_data",
          "data": {
            "text/plain": [
              "<Figure size 750x500 with 3 Axes>"
            ],
            "image/png": "[encoded data removed]"
          },
          "metadata": {}
        }
      ],
      "source": [
        "shap.plots.scatter(shap_values[:, \"BI-RADS\"], color=shap_values)"
      ]
    },
    {
      "cell_type": "markdown",
      "metadata": {
        "id": "G53iGoeS-7kN"
      },
      "source": [
        "### Pearson correlation as criteria dependence measure"
      ]
    },
    {
      "cell_type": "code",
      "execution_count": 58,
      "metadata": {
        "colab": {
          "base_uri": "https://localhost:8080/",
          "height": 206
        },
        "id": "DCYJ7HqT-7kN",
        "outputId": "581d5678-b6fe-449b-f0eb-e41bfdd84f9c"
      },
      "outputs": [
        {
          "output_type": "execute_result",
          "data": {
            "text/plain": [
              "          BI-RADS       Age     Shape    Margin   Density\n",
              "BI-RADS  1.000000  0.094623  0.180120  0.157771  0.028356\n",
              "Age      0.094623  1.000000  0.380096  0.420913  0.052417\n",
              "Shape    0.180120  0.380096  1.000000  0.738014  0.073969\n",
              "Margin   0.157771  0.420913  0.738014  1.000000  0.124860\n",
              "Density  0.028356  0.052417  0.073969  0.124860  1.000000"
            ],
            "text/html": [
              "\n",
              "  <div id=\"df-1dcd3483-46ff-4dda-a677-5e2366663b85\" class=\"colab-df-container\">\n",
              "    <div>\n",
              "<style scoped>\n",
              "    .dataframe tbody tr th:only-of-type {\n",
              "        vertical-align: middle;\n",
              "    }\n",
              "\n",
              "    .dataframe tbody tr th {\n",
              "        vertical-align: top;\n",
              "    }\n",
              "\n",
              "    .dataframe thead th {\n",
              "        text-align: right;\n",
              "    }\n",
              "</style>\n",
              "<table border=\"1\" class=\"dataframe\">\n",
              "  <thead>\n",
              "    <tr style=\"text-align: right;\">\n",
              "      <th></th>\n",
              "      <th>BI-RADS</th>\n",
              "      <th>Age</th>\n",
              "      <th>Shape</th>\n",
              "      <th>Margin</th>\n",
              "      <th>Density</th>\n",
              "    </tr>\n",
              "  </thead>\n",
              "  <tbody>\n",
              "    <tr>\n",
              "      <th>BI-RADS</th>\n",
              "      <td>1.000000</td>\n",
              "      <td>0.094623</td>\n",
              "      <td>0.180120</td>\n",
              "      <td>0.157771</td>\n",
              "      <td>0.028356</td>\n",
              "    </tr>\n",
              "    <tr>\n",
              "      <th>Age</th>\n",
              "      <td>0.094623</td>\n",
              "      <td>1.000000</td>\n",
              "      <td>0.380096</td>\n",
              "      <td>0.420913</td>\n",
              "      <td>0.052417</td>\n",
              "    </tr>\n",
              "    <tr>\n",
              "      <th>Shape</th>\n",
              "      <td>0.180120</td>\n",
              "      <td>0.380096</td>\n",
              "      <td>1.000000</td>\n",
              "      <td>0.738014</td>\n",
              "      <td>0.073969</td>\n",
              "    </tr>\n",
              "    <tr>\n",
              "      <th>Margin</th>\n",
              "      <td>0.157771</td>\n",
              "      <td>0.420913</td>\n",
              "      <td>0.738014</td>\n",
              "      <td>1.000000</td>\n",
              "      <td>0.124860</td>\n",
              "    </tr>\n",
              "    <tr>\n",
              "      <th>Density</th>\n",
              "      <td>0.028356</td>\n",
              "      <td>0.052417</td>\n",
              "      <td>0.073969</td>\n",
              "      <td>0.124860</td>\n",
              "      <td>1.000000</td>\n",
              "    </tr>\n",
              "  </tbody>\n",
              "</table>\n",
              "</div>\n",
              "    <div class=\"colab-df-buttons\">\n",
              "\n",
              "  <div class=\"colab-df-container\">\n",
              "    <button class=\"colab-df-convert\" onclick=\"convertToInteractive('df-1dcd3483-46ff-4dda-a677-5e2366663b85')\"\n",
              "            title=\"Convert this dataframe to an interactive table.\"\n",
              "            style=\"display:none;\">\n",
              "\n",
              "  <svg xmlns=\"http://www.w3.org/2000/svg\" height=\"24px\" viewBox=\"0 -960 960 960\">\n",
              "    <path d=\"M120-120v-720h720v720H120Zm60-500h600v-160H180v160Zm220 220h160v-160H400v160Zm0 220h160v-160H400v160ZM180-400h160v-160H180v160Zm440 0h160v-160H620v160ZM180-180h160v-160H180v160Zm440 0h160v-160H620v160Z\"/>\n",
              "  </svg>\n",
              "    </button>\n",
              "\n",
              "  <style>\n",
              "    .colab-df-container {\n",
              "      display:flex;\n",
              "      gap: 12px;\n",
              "    }\n",
              "\n",
              "    .colab-df-convert {\n",
              "      background-color: #E8F0FE;\n",
              "      border: none;\n",
              "      border-radius: 50%;\n",
              "      cursor: pointer;\n",
              "      display: none;\n",
              "      fill: #1967D2;\n",
              "      height: 32px;\n",
              "      padding: 0 0 0 0;\n",
              "      width: 32px;\n",
              "    }\n",
              "\n",
              "    .colab-df-convert:hover {\n",
              "      background-color: #E2EBFA;\n",
              "      box-shadow: 0px 1px 2px rgba(60, 64, 67, 0.3), 0px 1px 3px 1px rgba(60, 64, 67, 0.15);\n",
              "      fill: #174EA6;\n",
              "    }\n",
              "\n",
              "    .colab-df-buttons div {\n",
              "      margin-bottom: 4px;\n",
              "    }\n",
              "\n",
              "    [theme=dark] .colab-df-convert {\n",
              "      background-color: #3B4455;\n",
              "      fill: #D2E3FC;\n",
              "    }\n",
              "\n",
              "    [theme=dark] .colab-df-convert:hover {\n",
              "      background-color: #434B5C;\n",
              "      box-shadow: 0px 1px 3px 1px rgba(0, 0, 0, 0.15);\n",
              "      filter: drop-shadow(0px 1px 2px rgba(0, 0, 0, 0.3));\n",
              "      fill: #FFFFFF;\n",
              "    }\n",
              "  </style>\n",
              "\n",
              "    <script>\n",
              "      const buttonEl =\n",
              "        document.querySelector('#df-1dcd3483-46ff-4dda-a677-5e2366663b85 button.colab-df-convert');\n",
              "      buttonEl.style.display =\n",
              "        google.colab.kernel.accessAllowed ? 'block' : 'none';\n",
              "\n",
              "      async function convertToInteractive(key) {\n",
              "        const element = document.querySelector('#df-1dcd3483-46ff-4dda-a677-5e2366663b85');\n",
              "        const dataTable =\n",
              "          await google.colab.kernel.invokeFunction('convertToInteractive',\n",
              "                                                    [key], {});\n",
              "        if (!dataTable) return;\n",
              "\n",
              "        const docLinkHtml = 'Like what you see? Visit the ' +\n",
              "          '<a target=\"_blank\" href=https://colab.research.google.com/notebooks/data_table.ipynb>data table notebook</a>'\n",
              "          + ' to learn more about interactive tables.';\n",
              "        element.innerHTML = '';\n",
              "        dataTable['output_type'] = 'display_data';\n",
              "        await google.colab.output.renderOutput(dataTable, element);\n",
              "        const docLink = document.createElement('div');\n",
              "        docLink.innerHTML = docLinkHtml;\n",
              "        element.appendChild(docLink);\n",
              "      }\n",
              "    </script>\n",
              "  </div>\n",
              "\n",
              "\n",
              "<div id=\"df-b07280dd-6e39-4f2d-a962-37565ec3de1a\">\n",
              "  <button class=\"colab-df-quickchart\" onclick=\"quickchart('df-b07280dd-6e39-4f2d-a962-37565ec3de1a')\"\n",
              "            title=\"Suggest charts\"\n",
              "            style=\"display:none;\">\n",
              "\n",
              "<svg xmlns=\"http://www.w3.org/2000/svg\" height=\"24px\"viewBox=\"0 0 24 24\"\n",
              "     width=\"24px\">\n",
              "    <g>\n",
              "        <path d=\"M19 3H5c-1.1 0-2 .9-2 2v14c0 1.1.9 2 2 2h14c1.1 0 2-.9 2-2V5c0-1.1-.9-2-2-2zM9 17H7v-7h2v7zm4 0h-2V7h2v10zm4 0h-2v-4h2v4z\"/>\n",
              "    </g>\n",
              "</svg>\n",
              "  </button>\n",
              "\n",
              "<style>\n",
              "  .colab-df-quickchart {\n",
              "      --bg-color: #E8F0FE;\n",
              "      --fill-color: #1967D2;\n",
              "      --hover-bg-color: #E2EBFA;\n",
              "      --hover-fill-color: #174EA6;\n",
              "      --disabled-fill-color: #AAA;\n",
              "      --disabled-bg-color: #DDD;\n",
              "  }\n",
              "\n",
              "  [theme=dark] .colab-df-quickchart {\n",
              "      --bg-color: #3B4455;\n",
              "      --fill-color: #D2E3FC;\n",
              "      --hover-bg-color: #434B5C;\n",
              "      --hover-fill-color: #FFFFFF;\n",
              "      --disabled-bg-color: #3B4455;\n",
              "      --disabled-fill-color: #666;\n",
              "  }\n",
              "\n",
              "  .colab-df-quickchart {\n",
              "    background-color: var(--bg-color);\n",
              "    border: none;\n",
              "    border-radius: 50%;\n",
              "    cursor: pointer;\n",
              "    display: none;\n",
              "    fill: var(--fill-color);\n",
              "    height: 32px;\n",
              "    padding: 0;\n",
              "    width: 32px;\n",
              "  }\n",
              "\n",
              "  .colab-df-quickchart:hover {\n",
              "    background-color: var(--hover-bg-color);\n",
              "    box-shadow: 0 1px 2px rgba(60, 64, 67, 0.3), 0 1px 3px 1px rgba(60, 64, 67, 0.15);\n",
              "    fill: var(--button-hover-fill-color);\n",
              "  }\n",
              "\n",
              "  .colab-df-quickchart-complete:disabled,\n",
              "  .colab-df-quickchart-complete:disabled:hover {\n",
              "    background-color: var(--disabled-bg-color);\n",
              "    fill: var(--disabled-fill-color);\n",
              "    box-shadow: none;\n",
              "  }\n",
              "\n",
              "  .colab-df-spinner {\n",
              "    border: 2px solid var(--fill-color);\n",
              "    border-color: transparent;\n",
              "    border-bottom-color: var(--fill-color);\n",
              "    animation:\n",
              "      spin 1s steps(1) infinite;\n",
              "  }\n",
              "\n",
              "  @keyframes spin {\n",
              "    0% {\n",
              "      border-color: transparent;\n",
              "      border-bottom-color: var(--fill-color);\n",
              "      border-left-color: var(--fill-color);\n",
              "    }\n",
              "    20% {\n",
              "      border-color: transparent;\n",
              "      border-left-color: var(--fill-color);\n",
              "      border-top-color: var(--fill-color);\n",
              "    }\n",
              "    30% {\n",
              "      border-color: transparent;\n",
              "      border-left-color: var(--fill-color);\n",
              "      border-top-color: var(--fill-color);\n",
              "      border-right-color: var(--fill-color);\n",
              "    }\n",
              "    40% {\n",
              "      border-color: transparent;\n",
              "      border-right-color: var(--fill-color);\n",
              "      border-top-color: var(--fill-color);\n",
              "    }\n",
              "    60% {\n",
              "      border-color: transparent;\n",
              "      border-right-color: var(--fill-color);\n",
              "    }\n",
              "    80% {\n",
              "      border-color: transparent;\n",
              "      border-right-color: var(--fill-color);\n",
              "      border-bottom-color: var(--fill-color);\n",
              "    }\n",
              "    90% {\n",
              "      border-color: transparent;\n",
              "      border-bottom-color: var(--fill-color);\n",
              "    }\n",
              "  }\n",
              "</style>\n",
              "\n",
              "  <script>\n",
              "    async function quickchart(key) {\n",
              "      const quickchartButtonEl =\n",
              "        document.querySelector('#' + key + ' button');\n",
              "      quickchartButtonEl.disabled = true;  // To prevent multiple clicks.\n",
              "      quickchartButtonEl.classList.add('colab-df-spinner');\n",
              "      try {\n",
              "        const charts = await google.colab.kernel.invokeFunction(\n",
              "            'suggestCharts', [key], {});\n",
              "      } catch (error) {\n",
              "        console.error('Error during call to suggestCharts:', error);\n",
              "      }\n",
              "      quickchartButtonEl.classList.remove('colab-df-spinner');\n",
              "      quickchartButtonEl.classList.add('colab-df-quickchart-complete');\n",
              "    }\n",
              "    (() => {\n",
              "      let quickchartButtonEl =\n",
              "        document.querySelector('#df-b07280dd-6e39-4f2d-a962-37565ec3de1a button');\n",
              "      quickchartButtonEl.style.display =\n",
              "        google.colab.kernel.accessAllowed ? 'block' : 'none';\n",
              "    })();\n",
              "  </script>\n",
              "</div>\n",
              "    </div>\n",
              "  </div>\n"
            ],
            "application/vnd.google.colaboratory.intrinsic+json": {
              "type": "dataframe",
              "summary": "{\n  \"name\": \"X\",\n  \"rows\": 5,\n  \"fields\": [\n    {\n      \"column\": \"BI-RADS\",\n      \"properties\": {\n        \"dtype\": \"number\",\n        \"std\": 0.40008253215445927,\n        \"min\": 0.028356364812667,\n        \"max\": 1.0,\n        \"num_unique_values\": 5,\n        \"samples\": [\n          0.09462301362357764,\n          0.028356364812667,\n          0.18012016685336144\n        ],\n        \"semantic_type\": \"\",\n        \"description\": \"\"\n      }\n    },\n    {\n      \"column\": \"Age\",\n      \"properties\": {\n        \"dtype\": \"number\",\n        \"std\": 0.37893373615320664,\n        \"min\": 0.052416557042942256,\n        \"max\": 1.0,\n        \"num_unique_values\": 5,\n        \"samples\": [\n          1.0,\n          0.052416557042942256,\n          0.38009628320166744\n        ],\n        \"semantic_type\": \"\",\n        \"description\": \"\"\n      }\n    },\n    {\n      \"column\": \"Shape\",\n      \"properties\": {\n        \"dtype\": \"number\",\n        \"std\": 0.3878100459624609,\n        \"min\": 0.07396886823485534,\n        \"max\": 1.0,\n        \"num_unique_values\": 5,\n        \"samples\": [\n          0.38009628320166744,\n          0.07396886823485534,\n          1.0\n        ],\n        \"semantic_type\": \"\",\n        \"description\": \"\"\n      }\n    },\n    {\n      \"column\": \"Margin\",\n      \"properties\": {\n        \"dtype\": \"number\",\n        \"std\": 0.37751592506575427,\n        \"min\": 0.12486015439847781,\n        \"max\": 1.0,\n        \"num_unique_values\": 5,\n        \"samples\": [\n          0.4209133954744206,\n          0.12486015439847781,\n          0.7380138699828017\n        ],\n        \"semantic_type\": \"\",\n        \"description\": \"\"\n      }\n    },\n    {\n      \"column\": \"Density\",\n      \"properties\": {\n        \"dtype\": \"number\",\n        \"std\": 0.4174735929475078,\n        \"min\": 0.028356364812667,\n        \"max\": 1.0,\n        \"num_unique_values\": 5,\n        \"samples\": [\n          0.052416557042942256,\n          1.0,\n          0.07396886823485534\n        ],\n        \"semantic_type\": \"\",\n        \"description\": \"\"\n      }\n    }\n  ]\n}"
            }
          },
          "metadata": {},
          "execution_count": 58
        }
      ],
      "source": [
        "X.corr(method=\"pearson\")"
      ]
    },
    {
      "cell_type": "markdown",
      "metadata": {
        "id": "S3d1r72L-7kO"
      },
      "source": [
        "### Partial Dependence Plot"
      ]
    },
    {
      "cell_type": "markdown",
      "metadata": {
        "id": "5-mxEXq-8ZRN"
      },
      "source": [
        "#### Conclusions"
      ]
    },
    {
      "cell_type": "markdown",
      "metadata": {
        "id": "5w23D2l48as2"
      },
      "source": [
        "According to the above calculations, the most influential feature when it comes to making the decision is the BI-RADS of the patient. The higher the BI-RADS of the patient, the higher the chance of the example being classified as severe. In addition, all considered values when high, increase likely hood of positive (severe) classification. Additionally, as has been seen in the above tests, we can change the classification of the diagnosis only by manipulating the BI-RADS (in this case the theoretical and the practical results seem to allign, barring some small differences probably caused by rounding or values of respective epsilons in the functions). When it comes to concrete examples, we have managed to change the classification result for the first tested patient, by simply changing their BI-RADS. However, it is important to note that the difference is significant in practice and the tested person's mammogram results would be very different if such a change were to occur in reality.\n",
        "\n",
        "Lastly, when looking at the results from both SHAP's summary plot and the achieved weight coefficents, we can see that age, shape and margin can also strongly influence the classification result of our model."
      ]
    },
    {
      "cell_type": "markdown",
      "metadata": {
        "id": "MwJ_Bg4-77V7"
      },
      "source": [
        "### 2.2. Interpretation of the model"
      ]
    },
    {
      "cell_type": "markdown",
      "metadata": {
        "id": "rYiykfB78Q_G"
      },
      "source": [
        "• Based on the parameters obtained, can we say something about the user’s preferences? <br>\n",
        "\n",
        "According to the model's coefficients, the user prefers high scores of alternatives on all criteria in order to make the positive (malignant) classification. The user should pay high attention to the Age criteria in particular as it the most influential in the decision.\n",
        "\n",
        "• What was the influence of the criteria? Are there any criteria that have no effect, or have a decisive influence? <br>\n",
        "\n",
        "Based on the model's coefficients we can infer that the Age criteria has more influence than Shape, Margin and Bi-RADS which have a notably higher influence than the Density criteria.\n",
        "\n",
        "• Are there any dependencies between the criteria? <br>\n",
        "\n",
        "When it comes to analysis of the data itself, there is a positive Pearson correlation between every pair of criteria however most of them are weak (0; 0.3] or moderate (0.3; 0.5] with the exception of Shape and Margin with a strong correlation of 0.74 indicating a possible degree of linear dependency between them.  \n",
        "\n",
        "On the other hand, when analysing the dependencies of the criteria as defined after fitting the model, our logistic regression assumes independence between criteria, as the class assignment is dependent on the weighted sum with the inclusion of the intercept, and the weighted sum model does not model dependencies between criteria.\n",
        "\n",
        "• What is the nature of the criterion, gain, cost, non-monotonic? <br>\n",
        "\n",
        "Based on the model's coefficients we can infer that the criteria are of gain type i.e. the increase of a criteria increases the possibility of assignment to the positive (severe) class.\n",
        "\n",
        "• Whether there are any preference thresholds? Are there any evaluations on criteria that are indifferent in terms of preferences? <br>\n",
        "\n",
        "Threshold for logistic regression for assigning the positive class is the 0.0 point, i.e. if the weighted sum plus the intercept is greater than 0 than the assignment is positive. This means that the preference threshold when looking the criteria themselves is the value equal to the intercept (-6.44428443) since the weighted sum result of the model must be greater than the intercept.\n",
        "\n",
        "• Interpret the model by at least one (Global Surrogate, Partial Dependence Plot, Permutation Feature Importance ...) <br>\n",
        "\n",
        "According to the Partial Dependence Plot, every criteria increases the probability of assignment of a positive class (severe) with the increase of values with the steepest slope for the Age criteria. Both Shape and Margin seem to have a significant influence in the decision making process unlike Density and Bi-RADS which are providing only a slight difference on their own. Similar conclusions can be derived by looking at the joint Partial Dependence Plots with two criteria determining the value of Partial Dependence.\n"
      ]
    },
    {
      "cell_type": "markdown",
      "metadata": {
        "id": "A5rcKtIPtjEY"
      },
      "source": [
        "## Interpretable Neural MCDA - ANN-Ch-Constr."
      ]
    },
    {
      "cell_type": "code",
      "execution_count": 59,
      "metadata": {
        "id": "wqnAaisy1IAs"
      },
      "outputs": [],
      "source": [
        "lr = 1e-3\n",
        "weight_decay = 1e-4\n",
        "criterion = Regret\n",
        "num_epochs = 100"
      ]
    },
    {
      "cell_type": "code",
      "execution_count": 60,
      "metadata": {
        "colab": {
          "base_uri": "https://localhost:8080/",
          "height": 1000
        },
        "id": "yG9lMjJFt4ej",
        "outputId": "2524f644-fcc0-4042-a896-888f14003b4f"
      },
      "outputs": [
        {
          "output_type": "stream",
          "name": "stdout",
          "text": [
            "Fitting Neural Network Model\n",
            "Training Results - Epoch: 1  Avg accuracy: 0.7922 Avg loss: 0.0265\n",
            "Training Results - Epoch: 2  Avg accuracy: 0.7922 Avg loss: 0.0224\n",
            "Training Results - Epoch: 3  Avg accuracy: 0.7997 Avg loss: 0.0188\n",
            "Training Results - Epoch: 4  Avg accuracy: 0.8012 Avg loss: 0.0158\n",
            "Training Results - Epoch: 5  Avg accuracy: 0.7997 Avg loss: 0.0141\n",
            "Training Results - Epoch: 6  Avg accuracy: 0.8012 Avg loss: 0.0131\n",
            "Training Results - Epoch: 7  Avg accuracy: 0.8027 Avg loss: 0.0123\n",
            "Training Results - Epoch: 8  Avg accuracy: 0.8012 Avg loss: 0.0116\n",
            "Training Results - Epoch: 9  Avg accuracy: 0.8012 Avg loss: 0.0109\n",
            "Training Results - Epoch: 10  Avg accuracy: 0.8027 Avg loss: 0.0102\n",
            "Training Results - Epoch: 11  Avg accuracy: 0.8012 Avg loss: 0.0095\n",
            "Training Results - Epoch: 12  Avg accuracy: 0.8042 Avg loss: 0.0088\n",
            "Training Results - Epoch: 13  Avg accuracy: 0.8027 Avg loss: 0.0083\n",
            "Training Results - Epoch: 14  Avg accuracy: 0.8027 Avg loss: 0.0079\n",
            "Training Results - Epoch: 15  Avg accuracy: 0.7952 Avg loss: 0.0076\n",
            "Training Results - Epoch: 16  Avg accuracy: 0.7967 Avg loss: 0.0073\n",
            "Training Results - Epoch: 17  Avg accuracy: 0.7982 Avg loss: 0.0071\n",
            "Training Results - Epoch: 18  Avg accuracy: 0.7922 Avg loss: 0.0069\n",
            "Training Results - Epoch: 19  Avg accuracy: 0.7967 Avg loss: 0.0066\n",
            "Training Results - Epoch: 20  Avg accuracy: 0.7907 Avg loss: 0.0064\n",
            "Training Results - Epoch: 21  Avg accuracy: 0.7892 Avg loss: 0.0063\n",
            "Training Results - Epoch: 22  Avg accuracy: 0.7907 Avg loss: 0.0061\n",
            "Training Results - Epoch: 23  Avg accuracy: 0.7907 Avg loss: 0.006\n",
            "Training Results - Epoch: 24  Avg accuracy: 0.7907 Avg loss: 0.0058\n",
            "Training Results - Epoch: 25  Avg accuracy: 0.7907 Avg loss: 0.0057\n",
            "Training Results - Epoch: 26  Avg accuracy: 0.7846 Avg loss: 0.0056\n",
            "Training Results - Epoch: 27  Avg accuracy: 0.7846 Avg loss: 0.0055\n",
            "Training Results - Epoch: 28  Avg accuracy: 0.7877 Avg loss: 0.0054\n",
            "Training Results - Epoch: 29  Avg accuracy: 0.7892 Avg loss: 0.0052\n",
            "Training Results - Epoch: 30  Avg accuracy: 0.7861 Avg loss: 0.0052\n",
            "Training Results - Epoch: 31  Avg accuracy: 0.7892 Avg loss: 0.0051\n",
            "Training Results - Epoch: 32  Avg accuracy: 0.7861 Avg loss: 0.005\n",
            "Training Results - Epoch: 33  Avg accuracy: 0.7786 Avg loss: 0.0049\n",
            "Training Results - Epoch: 34  Avg accuracy: 0.7786 Avg loss: 0.0048\n",
            "Training Results - Epoch: 35  Avg accuracy: 0.7816 Avg loss: 0.0048\n",
            "Training Results - Epoch: 36  Avg accuracy: 0.7771 Avg loss: 0.0048\n",
            "Training Results - Epoch: 37  Avg accuracy: 0.7967 Avg loss: 0.0048\n",
            "Training Results - Epoch: 38  Avg accuracy: 0.7846 Avg loss: 0.0046\n",
            "Training Results - Epoch: 39  Avg accuracy: 0.7786 Avg loss: 0.0045\n",
            "Training Results - Epoch: 40  Avg accuracy: 0.7831 Avg loss: 0.0046\n",
            "Training Results - Epoch: 41  Avg accuracy: 0.7861 Avg loss: 0.0044\n",
            "Training Results - Epoch: 42  Avg accuracy: 0.7831 Avg loss: 0.0044\n",
            "Training Results - Epoch: 43  Avg accuracy: 0.7952 Avg loss: 0.0043\n",
            "Training Results - Epoch: 44  Avg accuracy: 0.7877 Avg loss: 0.0043\n",
            "Training Results - Epoch: 45  Avg accuracy: 0.7937 Avg loss: 0.0043\n",
            "Training Results - Epoch: 46  Avg accuracy: 0.7786 Avg loss: 0.0042\n",
            "Training Results - Epoch: 47  Avg accuracy: 0.7801 Avg loss: 0.0042\n",
            "Training Results - Epoch: 48  Avg accuracy: 0.8012 Avg loss: 0.0041\n",
            "Training Results - Epoch: 49  Avg accuracy: 0.7907 Avg loss: 0.0041\n",
            "Training Results - Epoch: 50  Avg accuracy: 0.7831 Avg loss: 0.0042\n",
            "Training Results - Epoch: 51  Avg accuracy: 0.7756 Avg loss: 0.004\n",
            "Training Results - Epoch: 52  Avg accuracy: 0.7892 Avg loss: 0.004\n",
            "Training Results - Epoch: 53  Avg accuracy: 0.7907 Avg loss: 0.004\n",
            "Training Results - Epoch: 54  Avg accuracy: 0.7907 Avg loss: 0.004\n",
            "Training Results - Epoch: 55  Avg accuracy: 0.7937 Avg loss: 0.0039\n",
            "Training Results - Epoch: 56  Avg accuracy: 0.7907 Avg loss: 0.0039\n",
            "Training Results - Epoch: 57  Avg accuracy: 0.7922 Avg loss: 0.0039\n",
            "Training Results - Epoch: 58  Avg accuracy: 0.7892 Avg loss: 0.0038\n",
            "Training Results - Epoch: 59  Avg accuracy: 0.7861 Avg loss: 0.0038\n",
            "Training Results - Epoch: 60  Avg accuracy: 0.7877 Avg loss: 0.0038\n",
            "Training Results - Epoch: 61  Avg accuracy: 0.7877 Avg loss: 0.0037\n",
            "Training Results - Epoch: 62  Avg accuracy: 0.7846 Avg loss: 0.0037\n",
            "Training Results - Epoch: 63  Avg accuracy: 0.7846 Avg loss: 0.0037\n",
            "Training Results - Epoch: 64  Avg accuracy: 0.7907 Avg loss: 0.0036\n",
            "Training Results - Epoch: 65  Avg accuracy: 0.7846 Avg loss: 0.0036\n",
            "Training Results - Epoch: 66  Avg accuracy: 0.7756 Avg loss: 0.0037\n",
            "Training Results - Epoch: 67  Avg accuracy: 0.7846 Avg loss: 0.0036\n",
            "Training Results - Epoch: 68  Avg accuracy: 0.7937 Avg loss: 0.0035\n",
            "Training Results - Epoch: 69  Avg accuracy: 0.7831 Avg loss: 0.0035\n",
            "Training Results - Epoch: 70  Avg accuracy: 0.7952 Avg loss: 0.0035\n",
            "Training Results - Epoch: 71  Avg accuracy: 0.7922 Avg loss: 0.0034\n",
            "Training Results - Epoch: 72  Avg accuracy: 0.7922 Avg loss: 0.0034\n",
            "Training Results - Epoch: 73  Avg accuracy: 0.7967 Avg loss: 0.0034\n",
            "Training Results - Epoch: 74  Avg accuracy: 0.7861 Avg loss: 0.0034\n",
            "Training Results - Epoch: 75  Avg accuracy: 0.7922 Avg loss: 0.0034\n",
            "Training Results - Epoch: 76  Avg accuracy: 0.7937 Avg loss: 0.0033\n",
            "Training Results - Epoch: 77  Avg accuracy: 0.7877 Avg loss: 0.0033\n",
            "Training Results - Epoch: 78  Avg accuracy: 0.7922 Avg loss: 0.0033\n",
            "Training Results - Epoch: 79  Avg accuracy: 0.7892 Avg loss: 0.0032\n",
            "Training Results - Epoch: 80  Avg accuracy: 0.7967 Avg loss: 0.0032\n",
            "Training Results - Epoch: 81  Avg accuracy: 0.7892 Avg loss: 0.0032\n",
            "Training Results - Epoch: 82  Avg accuracy: 0.7907 Avg loss: 0.0032\n",
            "Training Results - Epoch: 83  Avg accuracy: 0.7877 Avg loss: 0.0032\n",
            "Training Results - Epoch: 84  Avg accuracy: 0.7922 Avg loss: 0.0031\n",
            "Training Results - Epoch: 85  Avg accuracy: 0.8027 Avg loss: 0.0031\n",
            "Training Results - Epoch: 86  Avg accuracy: 0.7967 Avg loss: 0.0031\n",
            "Training Results - Epoch: 87  Avg accuracy: 0.7967 Avg loss: 0.003\n",
            "Training Results - Epoch: 88  Avg accuracy: 0.7982 Avg loss: 0.0031\n",
            "Training Results - Epoch: 89  Avg accuracy: 0.7937 Avg loss: 0.003\n",
            "Training Results - Epoch: 90  Avg accuracy: 0.7922 Avg loss: 0.003\n",
            "Training Results - Epoch: 91  Avg accuracy: 0.7982 Avg loss: 0.003\n",
            "Training Results - Epoch: 92  Avg accuracy: 0.7967 Avg loss: 0.0029\n",
            "Training Results - Epoch: 93  Avg accuracy: 0.8027 Avg loss: 0.0029\n",
            "Training Results - Epoch: 94  Avg accuracy: 0.7801 Avg loss: 0.003\n",
            "Training Results - Epoch: 95  Avg accuracy: 0.7846 Avg loss: 0.003\n",
            "Training Results - Epoch: 96  Avg accuracy: 0.7997 Avg loss: 0.0029\n",
            "Training Results - Epoch: 97  Avg accuracy: 0.7937 Avg loss: 0.0028\n",
            "Training Results - Epoch: 98  Avg accuracy: 0.7861 Avg loss: 0.0028\n",
            "Training Results - Epoch: 99  Avg accuracy: 0.7952 Avg loss: 0.0028\n",
            "Training Results - Epoch: 100  Avg accuracy: 0.8012 Avg loss: 0.0028\n"
          ]
        },
        {
          "output_type": "display_data",
          "data": {
            "text/plain": [
              "<Figure size 1000x500 with 2 Axes>"
            ],
            "image/png": "[encoded data removed]"
          },
          "metadata": {}
        }
      ],
      "source": [
        "num_criteria = len(X_train.columns)\n",
        "neural_MCDA_model = ChoquetIntegralConstrained(num_criteria = num_criteria, mobius_transform = morbius_transform)\n",
        "X_train_processed = neural_MCDA_model.preprocess(X_train.values)\n",
        "X_test_processed = neural_MCDA_model.preprocess(X_test.values)\n",
        "optimizer = optim.AdamW(neural_MCDA_model.parameters(), lr=lr, weight_decay=weight_decay)\n",
        "neural_MCDA_compatible = CompatibleTorchModel(neural_MCDA_model, optimizer, criterion, num_epochs, custom_acc_threshold=True)\n",
        "neural_MCDA_compatible, accuracy, f1, auc, accuracy_test, f1_test, auc_test = use_model(neural_MCDA_compatible, X_train_processed, y_train.values, X_test_processed, y_test.values)\n",
        "neural_MCDA_model = neural_MCDA_compatible.model"
      ]
    },
    {
      "cell_type": "code",
      "execution_count": 61,
      "metadata": {
        "id": "ElwqfZQd-7kP"
      },
      "outputs": [],
      "source": [
        "column_names = list(X_test.columns)\n",
        "new_cols = []\n",
        "for i in range(len(column_names)):\n",
        "    for ii in range(i+1, len(column_names)):\n",
        "        new_cols.append(column_names[i] + \"_\" + column_names[ii])\n",
        "column_names += new_cols"
      ]
    },
    {
      "cell_type": "code",
      "execution_count": 62,
      "metadata": {
        "colab": {
          "base_uri": "https://localhost:8080/",
          "height": 81
        },
        "id": "WUnnNHYQ-7kP",
        "outputId": "7314b25d-6309-4254-f29b-c21cebf12a7a"
      },
      "outputs": [
        {
          "output_type": "execute_result",
          "data": {
            "text/plain": [
              "    BI-RADS       Age  Shape  Margin   Density  BI-RADS_Age  BI-RADS_Shape  \\\n",
              "0  0.090909  0.730769    1.0    0.75  0.666667     0.090909       0.090909   \n",
              "\n",
              "   BI-RADS_Margin  BI-RADS_Density  Age_Shape  Age_Margin  Age_Density  \\\n",
              "0        0.090909         0.090909   0.730769    0.730769     0.666667   \n",
              "\n",
              "   Shape_Margin  Shape_Density  Margin_Density  \n",
              "0          0.75       0.666667        0.666667  "
            ],
            "text/html": [
              "\n",
              "  <div id=\"df-6289c1dd-07a3-484e-aa11-0deb789b24b8\" class=\"colab-df-container\">\n",
              "    <div>\n",
              "<style scoped>\n",
              "    .dataframe tbody tr th:only-of-type {\n",
              "        vertical-align: middle;\n",
              "    }\n",
              "\n",
              "    .dataframe tbody tr th {\n",
              "        vertical-align: top;\n",
              "    }\n",
              "\n",
              "    .dataframe thead th {\n",
              "        text-align: right;\n",
              "    }\n",
              "</style>\n",
              "<table border=\"1\" class=\"dataframe\">\n",
              "  <thead>\n",
              "    <tr style=\"text-align: right;\">\n",
              "      <th></th>\n",
              "      <th>BI-RADS</th>\n",
              "      <th>Age</th>\n",
              "      <th>Shape</th>\n",
              "      <th>Margin</th>\n",
              "      <th>Density</th>\n",
              "      <th>BI-RADS_Age</th>\n",
              "      <th>BI-RADS_Shape</th>\n",
              "      <th>BI-RADS_Margin</th>\n",
              "      <th>BI-RADS_Density</th>\n",
              "      <th>Age_Shape</th>\n",
              "      <th>Age_Margin</th>\n",
              "      <th>Age_Density</th>\n",
              "      <th>Shape_Margin</th>\n",
              "      <th>Shape_Density</th>\n",
              "      <th>Margin_Density</th>\n",
              "    </tr>\n",
              "  </thead>\n",
              "  <tbody>\n",
              "    <tr>\n",
              "      <th>0</th>\n",
              "      <td>0.090909</td>\n",
              "      <td>0.730769</td>\n",
              "      <td>1.0</td>\n",
              "      <td>0.75</td>\n",
              "      <td>0.666667</td>\n",
              "      <td>0.090909</td>\n",
              "      <td>0.090909</td>\n",
              "      <td>0.090909</td>\n",
              "      <td>0.090909</td>\n",
              "      <td>0.730769</td>\n",
              "      <td>0.730769</td>\n",
              "      <td>0.666667</td>\n",
              "      <td>0.75</td>\n",
              "      <td>0.666667</td>\n",
              "      <td>0.666667</td>\n",
              "    </tr>\n",
              "  </tbody>\n",
              "</table>\n",
              "</div>\n",
              "    <div class=\"colab-df-buttons\">\n",
              "\n",
              "  <div class=\"colab-df-container\">\n",
              "    <button class=\"colab-df-convert\" onclick=\"convertToInteractive('df-6289c1dd-07a3-484e-aa11-0deb789b24b8')\"\n",
              "            title=\"Convert this dataframe to an interactive table.\"\n",
              "            style=\"display:none;\">\n",
              "\n",
              "  <svg xmlns=\"http://www.w3.org/2000/svg\" height=\"24px\" viewBox=\"0 -960 960 960\">\n",
              "    <path d=\"M120-120v-720h720v720H120Zm60-500h600v-160H180v160Zm220 220h160v-160H400v160Zm0 220h160v-160H400v160ZM180-400h160v-160H180v160Zm440 0h160v-160H620v160ZM180-180h160v-160H180v160Zm440 0h160v-160H620v160Z\"/>\n",
              "  </svg>\n",
              "    </button>\n",
              "\n",
              "  <style>\n",
              "    .colab-df-container {\n",
              "      display:flex;\n",
              "      gap: 12px;\n",
              "    }\n",
              "\n",
              "    .colab-df-convert {\n",
              "      background-color: #E8F0FE;\n",
              "      border: none;\n",
              "      border-radius: 50%;\n",
              "      cursor: pointer;\n",
              "      display: none;\n",
              "      fill: #1967D2;\n",
              "      height: 32px;\n",
              "      padding: 0 0 0 0;\n",
              "      width: 32px;\n",
              "    }\n",
              "\n",
              "    .colab-df-convert:hover {\n",
              "      background-color: #E2EBFA;\n",
              "      box-shadow: 0px 1px 2px rgba(60, 64, 67, 0.3), 0px 1px 3px 1px rgba(60, 64, 67, 0.15);\n",
              "      fill: #174EA6;\n",
              "    }\n",
              "\n",
              "    .colab-df-buttons div {\n",
              "      margin-bottom: 4px;\n",
              "    }\n",
              "\n",
              "    [theme=dark] .colab-df-convert {\n",
              "      background-color: #3B4455;\n",
              "      fill: #D2E3FC;\n",
              "    }\n",
              "\n",
              "    [theme=dark] .colab-df-convert:hover {\n",
              "      background-color: #434B5C;\n",
              "      box-shadow: 0px 1px 3px 1px rgba(0, 0, 0, 0.15);\n",
              "      filter: drop-shadow(0px 1px 2px rgba(0, 0, 0, 0.3));\n",
              "      fill: #FFFFFF;\n",
              "    }\n",
              "  </style>\n",
              "\n",
              "    <script>\n",
              "      const buttonEl =\n",
              "        document.querySelector('#df-6289c1dd-07a3-484e-aa11-0deb789b24b8 button.colab-df-convert');\n",
              "      buttonEl.style.display =\n",
              "        google.colab.kernel.accessAllowed ? 'block' : 'none';\n",
              "\n",
              "      async function convertToInteractive(key) {\n",
              "        const element = document.querySelector('#df-6289c1dd-07a3-484e-aa11-0deb789b24b8');\n",
              "        const dataTable =\n",
              "          await google.colab.kernel.invokeFunction('convertToInteractive',\n",
              "                                                    [key], {});\n",
              "        if (!dataTable) return;\n",
              "\n",
              "        const docLinkHtml = 'Like what you see? Visit the ' +\n",
              "          '<a target=\"_blank\" href=https://colab.research.google.com/notebooks/data_table.ipynb>data table notebook</a>'\n",
              "          + ' to learn more about interactive tables.';\n",
              "        element.innerHTML = '';\n",
              "        dataTable['output_type'] = 'display_data';\n",
              "        await google.colab.output.renderOutput(dataTable, element);\n",
              "        const docLink = document.createElement('div');\n",
              "        docLink.innerHTML = docLinkHtml;\n",
              "        element.appendChild(docLink);\n",
              "      }\n",
              "    </script>\n",
              "  </div>\n",
              "\n",
              "    </div>\n",
              "  </div>\n"
            ],
            "application/vnd.google.colaboratory.intrinsic+json": {
              "type": "dataframe",
              "variable_name": "X_test_processed",
              "summary": "{\n  \"name\": \"X_test_processed\",\n  \"rows\": 166,\n  \"fields\": [\n    {\n      \"column\": \"BI-RADS\",\n      \"properties\": {\n        \"dtype\": \"number\",\n        \"std\": 0.011758659021930679,\n        \"min\": 0.03636363636363636,\n        \"max\": 0.10909090909090909,\n        \"num_unique_values\": 5,\n        \"samples\": [\n          0.07272727272727272,\n          0.10909090909090909,\n          0.05454545454545454\n        ],\n        \"semantic_type\": \"\",\n        \"description\": \"\"\n      }\n    },\n    {\n      \"column\": \"Age\",\n      \"properties\": {\n        \"dtype\": \"number\",\n        \"std\": 0.19615880062611468,\n        \"min\": 0.02564102564102564,\n        \"max\": 0.8717948717948718,\n        \"num_unique_values\": 57,\n        \"samples\": [\n          0.7307692307692307,\n          0.47435897435897434,\n          0.717948717948718\n        ],\n        \"semantic_type\": \"\",\n        \"description\": \"\"\n      }\n    },\n    {\n      \"column\": \"Shape\",\n      \"properties\": {\n        \"dtype\": \"number\",\n        \"std\": 0.41884243896959716,\n        \"min\": 0.0,\n        \"max\": 1.0,\n        \"num_unique_values\": 4,\n        \"samples\": [\n          0.3333333333333333,\n          0.6666666666666666,\n          1.0\n        ],\n        \"semantic_type\": \"\",\n        \"description\": \"\"\n      }\n    },\n    {\n      \"column\": \"Margin\",\n      \"properties\": {\n        \"dtype\": \"number\",\n        \"std\": 0.3672078965441925,\n        \"min\": 0.0,\n        \"max\": 1.0,\n        \"num_unique_values\": 5,\n        \"samples\": [\n          0.25,\n          0.0,\n          0.5\n        ],\n        \"semantic_type\": \"\",\n        \"description\": \"\"\n      }\n    },\n    {\n      \"column\": \"Density\",\n      \"properties\": {\n        \"dtype\": \"number\",\n        \"std\": 0.131411857551824,\n        \"min\": 0.0,\n        \"max\": 1.0,\n        \"num_unique_values\": 4,\n        \"samples\": [\n          0.3333333333333333,\n          1.0,\n          0.6666666666666666\n        ],\n        \"semantic_type\": \"\",\n        \"description\": \"\"\n      }\n    },\n    {\n      \"column\": \"BI-RADS_Age\",\n      \"properties\": {\n        \"dtype\": \"number\",\n        \"std\": 0.013135847895259548,\n        \"min\": 0.02564102564102564,\n        \"max\": 0.10909090909090909,\n        \"num_unique_values\": 9,\n        \"samples\": [\n          0.03636363636363636,\n          0.07272727272727272,\n          0.038461538461538464\n        ],\n        \"semantic_type\": \"\",\n        \"description\": \"\"\n      }\n    },\n    {\n      \"column\": \"BI-RADS_Shape\",\n      \"properties\": {\n        \"dtype\": \"number\",\n        \"std\": 0.03535116767714183,\n        \"min\": 0.0,\n        \"max\": 0.10909090909090909,\n        \"num_unique_values\": 6,\n        \"samples\": [\n          0.09090909090909091,\n          0.07272727272727272,\n          0.10909090909090909\n        ],\n        \"semantic_type\": \"\",\n        \"description\": \"\"\n      }\n    },\n    {\n      \"column\": \"BI-RADS_Margin\",\n      \"properties\": {\n        \"dtype\": \"number\",\n        \"std\": 0.04026890563802367,\n        \"min\": 0.0,\n        \"max\": 0.10909090909090909,\n        \"num_unique_values\": 4,\n        \"samples\": [\n          0.07272727272727272,\n          0.10909090909090909,\n          0.09090909090909091\n        ],\n        \"semantic_type\": \"\",\n        \"description\": \"\"\n      }\n    },\n    {\n      \"column\": \"BI-RADS_Density\",\n      \"properties\": {\n        \"dtype\": \"number\",\n        \"std\": 0.014663795534708438,\n        \"min\": 0.0,\n        \"max\": 0.10909090909090909,\n        \"num_unique_values\": 6,\n        \"samples\": [\n          0.09090909090909091,\n          0.07272727272727272,\n          0.10909090909090909\n        ],\n        \"semantic_type\": \"\",\n        \"description\": \"\"\n      }\n    },\n    {\n      \"column\": \"Age_Shape\",\n      \"properties\": {\n        \"dtype\": \"number\",\n        \"std\": 0.26003514490336177,\n        \"min\": 0.0,\n        \"max\": 0.8717948717948718,\n        \"num_unique_values\": 49,\n        \"samples\": [\n          0.6153846153846154,\n          0.19230769230769232,\n          0.46153846153846156\n        ],\n        \"semantic_type\": \"\",\n        \"description\": \"\"\n      }\n    },\n    {\n      \"column\": \"Age_Margin\",\n      \"properties\": {\n        \"dtype\": \"number\",\n        \"std\": 0.2702047719241496,\n        \"min\": 0.0,\n        \"max\": 0.8461538461538461,\n        \"num_unique_values\": 41,\n        \"samples\": [\n          0.3333333333333333,\n          0.24358974358974358,\n          0.6025641025641025\n        ],\n        \"semantic_type\": \"\",\n        \"description\": \"\"\n      }\n    },\n    {\n      \"column\": \"Age_Density\",\n      \"properties\": {\n        \"dtype\": \"number\",\n        \"std\": 0.18257768629275742,\n        \"min\": 0.0,\n        \"max\": 0.7564102564102564,\n        \"num_unique_values\": 47,\n        \"samples\": [\n          0.1794871794871795,\n          0.4230769230769231,\n          0.5897435897435898\n        ],\n        \"semantic_type\": \"\",\n        \"description\": \"\"\n      }\n    },\n    {\n      \"column\": \"Shape_Margin\",\n      \"properties\": {\n        \"dtype\": \"number\",\n        \"std\": 0.36873717025292807,\n        \"min\": 0.0,\n        \"max\": 1.0,\n        \"num_unique_values\": 7,\n        \"samples\": [\n          0.75,\n          0.25,\n          0.3333333333333333\n        ],\n        \"semantic_type\": \"\",\n        \"description\": \"\"\n      }\n    },\n    {\n      \"column\": \"Shape_Density\",\n      \"properties\": {\n        \"dtype\": \"number\",\n        \"std\": 0.28157199384264525,\n        \"min\": 0.0,\n        \"max\": 1.0,\n        \"num_unique_values\": 4,\n        \"samples\": [\n          0.3333333333333333,\n          1.0,\n          0.6666666666666666\n        ],\n        \"semantic_type\": \"\",\n        \"description\": \"\"\n      }\n    },\n    {\n      \"column\": \"Margin_Density\",\n      \"properties\": {\n        \"dtype\": \"number\",\n        \"std\": 0.2963255152726172,\n        \"min\": 0.0,\n        \"max\": 1.0,\n        \"num_unique_values\": 7,\n        \"samples\": [\n          0.6666666666666666,\n          0.25,\n          0.75\n        ],\n        \"semantic_type\": \"\",\n        \"description\": \"\"\n      }\n    }\n  ]\n}"
            }
          },
          "metadata": {},
          "execution_count": 62
        }
      ],
      "source": [
        "X_test_processed = pd.DataFrame(X_test_processed, columns=column_names)\n",
        "X_train_processed = pd.DataFrame(X_train_processed, columns=column_names)\n",
        "\n",
        "X_test_processed.head(1)"
      ]
    },
    {
      "cell_type": "code",
      "execution_count": 63,
      "metadata": {
        "colab": {
          "base_uri": "https://localhost:8080/"
        },
        "id": "XCKbuKCu2iAD",
        "outputId": "fc4ff931-d5d1-4125-ea4b-6392f156cdcf"
      },
      "outputs": [
        {
          "output_type": "stream",
          "name": "stdout",
          "text": [
            "Train set accuracy: 0.7967\n",
            "Train set F1: 0.7833\n",
            "Train set AUC: 0.8695\n",
            "Test set accuracy: 0.8072\n",
            "Test set F1: 0.8118\n",
            "Test set AUC: 0.8365\n"
          ]
        }
      ],
      "source": [
        "print(f\"Train set accuracy: {accuracy}\")\n",
        "print(f\"Train set F1: {f1}\")\n",
        "print(f\"Train set AUC: {auc}\")\n",
        "print(f\"Test set accuracy: {accuracy_test}\")\n",
        "print(f\"Test set F1: {f1_test}\")\n",
        "print(f\"Test set AUC: {auc_test}\")"
      ]
    },
    {
      "cell_type": "code",
      "execution_count": 64,
      "metadata": {
        "colab": {
          "base_uri": "https://localhost:8080/",
          "height": 507
        },
        "id": "V520MmKt2l1Y",
        "outputId": "88f94b10-f39d-455f-e414-71b0ad3efede"
      },
      "outputs": [
        {
          "output_type": "display_data",
          "data": {
            "text/plain": [
              "<Figure size 1200x500 with 3 Axes>"
            ],
            "image/png": "[encoded data removed]"
          },
          "metadata": {}
        }
      ],
      "source": [
        "plot_stats(accuracy, accuracy_test, f1, f1_test, auc, auc_test)"
      ]
    },
    {
      "cell_type": "markdown",
      "metadata": {
        "id": "uurG5npT9S-u"
      },
      "source": [
        "### 2.1. Explanation of the decisions"
      ]
    },
    {
      "cell_type": "code",
      "execution_count": 100,
      "metadata": {
        "id": "-fqOM2j3-7kQ"
      },
      "outputs": [],
      "source": [
        "weights = neural_MCDA_model.criteria_layer.weight.detach().numpy()[0]\n",
        "interaction_weights = neural_MCDA_model.interaction_layer.weight.detach().numpy()[0]\n",
        "threshold = float(neural_MCDA_model.threshold_layer.threshold.detach()[0])\n",
        "# print(weights, interaction_weights)\n",
        "s = weights.sum() + interaction_weights.sum()\n",
        "weights = weights/s\n",
        "interaction_weights = interaction_weights/s\n",
        "\n",
        "interactions = np.zeros((num_criteria, num_criteria))\n",
        "weight_id = 0\n",
        "for i in range(num_criteria):\n",
        "    for j in range(i+1,num_criteria):\n",
        "\n",
        "        interactions[i,j] = interactions[j,i] = interaction_weights[weight_id]\n",
        "        weight_id+=1"
      ]
    },
    {
      "cell_type": "code",
      "execution_count": 66,
      "metadata": {
        "colab": {
          "base_uri": "https://localhost:8080/"
        },
        "id": "Ka4LdqOv-7kQ",
        "outputId": "5941a875-4762-49f1-f3a8-48451141671c"
      },
      "outputs": [
        {
          "output_type": "stream",
          "name": "stdout",
          "text": [
            "Criteria weights:\n",
            "[0.37248096 0.21053836 0.06431395 0.13479477 0.19946831]\n",
            "\n",
            "Criteria interactions:\n",
            "[[ 0.          0.10924687  0.05881075  0.12213708  0.11239024]\n",
            " [ 0.10924687  0.         -0.03203436 -0.05688313 -0.12308846]\n",
            " [ 0.05881075 -0.03203436  0.         -0.06431395 -0.02559807]\n",
            " [ 0.12213708 -0.05688313 -0.06431395  0.         -0.08226335]\n",
            " [ 0.11239024 -0.12308846 -0.02559807 -0.08226335  0.        ]]\n"
          ]
        }
      ],
      "source": [
        "print('Criteria weights:')\n",
        "print(weights)\n",
        "print()\n",
        "print('Criteria interactions:')\n",
        "print(interactions)"
      ]
    },
    {
      "cell_type": "code",
      "execution_count": 67,
      "metadata": {
        "colab": {
          "base_uri": "https://localhost:8080/"
        },
        "id": "sqReV8zI-7kQ",
        "outputId": "2e0e4eec-8f7f-4278-fb91-adde7bba5e56"
      },
      "outputs": [
        {
          "output_type": "execute_result",
          "data": {
            "text/plain": [
              "[0.37248096,\n",
              " 0.21053836,\n",
              " 0.06431395,\n",
              " 0.13479477,\n",
              " 0.19946831,\n",
              " 0.1092468723654747,\n",
              " 0.058810751885175705,\n",
              " 0.12213707715272903,\n",
              " 0.11239024251699448,\n",
              " -0.032034363597631454,\n",
              " -0.05688312649726868,\n",
              " -0.12308846414089203,\n",
              " -0.06431394815444946,\n",
              " -0.025598065927624702,\n",
              " -0.08226335048675537]"
            ]
          },
          "metadata": {},
          "execution_count": 67
        }
      ],
      "source": [
        "combined_weights = list(weights.copy())\n",
        "for x in range(interactions.shape[0]):\n",
        "    for y in range(interactions.shape[1]):\n",
        "        if y > x:\n",
        "            combined_weights.append(interactions[x,y])\n",
        "\n",
        "combined_weights"
      ]
    },
    {
      "cell_type": "code",
      "execution_count": 68,
      "metadata": {
        "colab": {
          "base_uri": "https://localhost:8080/",
          "height": 642
        },
        "id": "yQLAdnQD-7kQ",
        "outputId": "6e832eba-4e8e-4dbe-94ae-a59c12654ff9"
      },
      "outputs": [
        {
          "output_type": "display_data",
          "data": {
            "text/plain": [
              "<Figure size 1000x600 with 1 Axes>"
            ],
            "image/png": "[encoded data removed]"
          },
          "metadata": {}
        }
      ],
      "source": [
        "plt.figure(figsize=(10, 6))\n",
        "plt.bar(range(len(column_names)), combined_weights, color=\"grey\")\n",
        "plt.xticks(range(len(column_names)), column_names, rotation=45)\n",
        "plt.xlabel('Feature')\n",
        "plt.ylabel('Feature Weight value')\n",
        "plt.title('Weights of Choquet Integral ANN Model')\n",
        "plt.show()"
      ]
    },
    {
      "cell_type": "code",
      "execution_count": 69,
      "metadata": {
        "colab": {
          "base_uri": "https://localhost:8080/"
        },
        "id": "h0zlDi8U-7kQ",
        "outputId": "f444c868-2124-4d18-8e96-d48bea6d7978"
      },
      "outputs": [
        {
          "output_type": "stream",
          "name": "stdout",
          "text": [
            "Importance of criterina (Shapley value):\n",
            "[0.57377343 0.15915882 0.03274614 0.0941331  0.1401885 ]\n"
          ]
        }
      ],
      "source": [
        "shapley = weights + interactions.sum(0)/2\n",
        "print('Importance of criterina (Shapley value):')\n",
        "print(shapley)"
      ]
    },
    {
      "cell_type": "code",
      "execution_count": 70,
      "metadata": {
        "colab": {
          "base_uri": "https://localhost:8080/"
        },
        "id": "fIYOvUJZ-7kR",
        "outputId": "9c526105-3e41-47ea-e30c-656dd0037458"
      },
      "outputs": [
        {
          "output_type": "stream",
          "name": "stdout",
          "text": [
            "Test example:\n",
            "BI-RADS            0.090909\n",
            "Age                0.730769\n",
            "Shape              1.000000\n",
            "Margin             0.750000\n",
            "Density            0.666667\n",
            "BI-RADS_Age        0.090909\n",
            "BI-RADS_Shape      0.090909\n",
            "BI-RADS_Margin     0.090909\n",
            "BI-RADS_Density    0.090909\n",
            "Age_Shape          0.730769\n",
            "Age_Margin         0.730769\n",
            "Age_Density        0.666667\n",
            "Shape_Margin       0.750000\n",
            "Shape_Density      0.666667\n",
            "Margin_Density     0.666667\n",
            "Name: 0, dtype: float64\n",
            "\n",
            "Assigned Label: 1\n",
            "________________________________\n",
            "Test example:\n",
            "BI-RADS            0.072727\n",
            "Age                0.666667\n",
            "Shape              1.000000\n",
            "Margin             0.250000\n",
            "Density            0.333333\n",
            "BI-RADS_Age        0.072727\n",
            "BI-RADS_Shape      0.072727\n",
            "BI-RADS_Margin     0.072727\n",
            "BI-RADS_Density    0.072727\n",
            "Age_Shape          0.666667\n",
            "Age_Margin         0.250000\n",
            "Age_Density        0.333333\n",
            "Shape_Margin       0.250000\n",
            "Shape_Density      0.333333\n",
            "Margin_Density     0.250000\n",
            "Name: 1, dtype: float64\n",
            "\n",
            "Assigned Label: 1\n",
            "________________________________\n",
            "Test example:\n",
            "BI-RADS            0.072727\n",
            "Age                0.282051\n",
            "Shape              0.333333\n",
            "Margin             0.000000\n",
            "Density            0.666667\n",
            "BI-RADS_Age        0.072727\n",
            "BI-RADS_Shape      0.072727\n",
            "BI-RADS_Margin     0.000000\n",
            "BI-RADS_Density    0.072727\n",
            "Age_Shape          0.282051\n",
            "Age_Margin         0.000000\n",
            "Age_Density        0.282051\n",
            "Shape_Margin       0.000000\n",
            "Shape_Density      0.333333\n",
            "Margin_Density     0.000000\n",
            "Name: 9, dtype: float64\n",
            "\n",
            "Assigned Label: 0\n"
          ]
        }
      ],
      "source": [
        "test_example_1 = X_test_processed.iloc[0]\n",
        "test_label_1 = neural_MCDA_compatible.predict(X_test_processed.iloc[0].values.reshape(1, -1))[0]\n",
        "test_example_2 = X_test_processed.iloc[1]\n",
        "test_label_2 = neural_MCDA_compatible.predict(X_test_processed.iloc[1].values.reshape(1, -1))[0]\n",
        "test_example_3 = X_test_processed.iloc[9] #taking the 9th example, since we wanted variety with classes\n",
        "test_label_3 = neural_MCDA_compatible.predict(X_test_processed.iloc[9].values.reshape(1, -1))[0]\n",
        "print(f\"Test example:\\n{test_example_1}\")\n",
        "print(f\"\\nAssigned Label: {test_label_1}\")\n",
        "print(\"________________________________\")\n",
        "print(f\"Test example:\\n{test_example_2}\")\n",
        "print(f\"\\nAssigned Label: {test_label_2}\")\n",
        "print(\"________________________________\")\n",
        "print(f\"Test example:\\n{test_example_3}\")\n",
        "print(f\"\\nAssigned Label: {test_label_3}\")"
      ]
    },
    {
      "cell_type": "markdown",
      "metadata": {
        "id": "fddPZuZ_9d8O"
      },
      "source": [
        "#### Changes from Theoretical Calculations"
      ]
    },
    {
      "cell_type": "code",
      "source": [
        "## NEW!\n",
        "def change_class_by_sampling_MCDA(test_example, columns, coefficients, classifier, most_influencial_column = \"BI-RADS\", skip_cols = \"None\"):\n",
        "    epsilon = 1e-3\n",
        "    cols_to_change = [i for i in range(len(columns)) if (most_influencial_column in columns[i] and skip_cols not in columns[i])]\n",
        "    example_list = list(test_example)\n",
        "    prev_examples = example_list.copy()\n",
        "    original_class = classifier.predict([example_list])[0]\n",
        "    i=0\n",
        "    while True:\n",
        "        zipped_lists = zip(coefficients, example_list, range(len(coefficients)))\n",
        "        sorted_lists = sorted(zipped_lists, reverse=True)\n",
        "        sorted_coeffs, example_list, original_order = zip(*sorted_lists)\n",
        "        example_list = list(example_list)\n",
        "        original_order = list(original_order)\n",
        "        sorted_coeffs = list(sorted_coeffs)\n",
        "        if original_class == 1:\n",
        "            for i in cols_to_change:\n",
        "                example_list[i] -= epsilon\n",
        "        else:\n",
        "            for i in cols_to_change:\n",
        "                example_list[i] += epsilon\n",
        "        original_order = [original_order.index(i) for i in range(len(original_order))]\n",
        "        example_list = [example_list[i] for i in original_order]\n",
        "        new_class = classifier.predict([example_list])[0]\n",
        "        if new_class != original_class:\n",
        "            break\n",
        "\n",
        "    rounded_examples = [round(example, 4) for example in example_list]\n",
        "    rounded_prevs = [round(example, 4) for example in prev_examples]\n",
        "    differences = list(np.array(prev_examples) - np.array(example_list))\n",
        "    differences = [round(diff, 4) for diff in differences]\n",
        "    print(f\"Columns in order: {columns}\")\n",
        "    print(f\"Original Example: {rounded_prevs}\")\n",
        "    print(f\"New Example Assigned to a different class: {rounded_examples}\")\n",
        "    print(f\"Minimal Differences: {differences}\")\n",
        "    print(f\"Model's original decision {original_class}\")\n",
        "    print(f\"Model's new decision: {new_class}\")"
      ],
      "metadata": {
        "id": "8zFbe0F7Zotk"
      },
      "execution_count": 229,
      "outputs": []
    },
    {
      "cell_type": "code",
      "execution_count": 249,
      "metadata": {
        "id": "PACPic-B-7kR"
      },
      "outputs": [],
      "source": [
        "# NEW!:\n",
        "def calculate_smallest_change_MCDA(test_example, columns, combined_weights, neural_MCDA_compatible, threshold, most_influencial_column = \"BI-RADS\", skip_cols = \"None\"):\n",
        "    original_class = neural_MCDA_compatible.predict([test_example])[0]\n",
        "    if original_class == 0:\n",
        "        epsilon = 1e-3\n",
        "    else:\n",
        "        epsilon = -1e-3\n",
        "    target_weights = [combined_weights[i] for i in range(len(columns)) if (most_influencial_column in columns[i] and skip_cols not in columns[i])]\n",
        "    test_example_copy = test_example.copy()\n",
        "    test_example_copy = [0 if (most_influencial_column in columns[i] and skip_cols not in columns[i]) else test_example[i] for i in range(len(columns))]\n",
        "    value = epsilon\n",
        "    value += (threshold) - np.sum(np.array(test_example_copy)*np.array(combined_weights))\n",
        "    value /= sum(target_weights)\n",
        "    result = test_example.copy()\n",
        "    for i in range(len(columns)):\n",
        "        if most_influencial_column in columns[i] and skip_cols not in columns[i]:\n",
        "            result[i] = value\n",
        "\n",
        "    result = list(result)\n",
        "    prev_result = list(test_example)\n",
        "    rounded_result = [round(example, 4) for example in result]\n",
        "    rounded_prevs = [round(example, 4) for example in prev_result]\n",
        "    differences = list(np.array(prev_result) - np.array(result))\n",
        "    differences = [round(diff, 4) for diff in differences]\n",
        "    print(f\"Columns in order: {columns}\")\n",
        "    print(f\"Original Example: {rounded_prevs}\")\n",
        "    print(f\"New Example Assigned to a different class: {rounded_result}\")\n",
        "    print(f\"Minimal Differences: {differences}\")\n",
        "    print(f\"Model's original decision {neural_MCDA_compatible.predict([test_example])}\")\n",
        "    print(f\"Model's new decision: {neural_MCDA_compatible.predict([result])}\")"
      ]
    },
    {
      "cell_type": "code",
      "source": [
        "# NEW!:\n",
        "calculate_smallest_change_MCDA(test_example_1, list(X_train_processed.columns), combined_weights, neural_MCDA_compatible, threshold)"
      ],
      "metadata": {
        "colab": {
          "base_uri": "https://localhost:8080/"
        },
        "id": "QIRsS_x4HRs4",
        "outputId": "3b5bc12a-5753-4ea4-830c-de457b41163c"
      },
      "execution_count": 246,
      "outputs": [
        {
          "output_type": "stream",
          "name": "stdout",
          "text": [
            "Columns in order: ['BI-RADS', 'Age', 'Shape', 'Margin', 'Density', 'BI-RADS_Age', 'BI-RADS_Shape', 'BI-RADS_Margin', 'BI-RADS_Density', 'Age_Shape', 'Age_Margin', 'Age_Density', 'Shape_Margin', 'Shape_Density', 'Margin_Density']\n",
            "Original Example: [0.0909, 0.7308, 1.0, 0.75, 0.6667, 0.0909, 0.0909, 0.0909, 0.0909, 0.7308, 0.7308, 0.6667, 0.75, 0.6667, 0.6667]\n",
            "New Example Assigned to a different class: [0.0622, 0.7308, 1.0, 0.75, 0.6667, 0.0622, 0.0622, 0.0622, 0.0622, 0.7308, 0.7308, 0.6667, 0.75, 0.6667, 0.6667]\n",
            "Minimal Differences: [0.0287, 0.0, 0.0, 0.0, 0.0, 0.0287, 0.0287, 0.0287, 0.0287, 0.0, 0.0, 0.0, 0.0, 0.0, 0.0]\n",
            "Model's original decision [1]\n",
            "Model's new decision: [0]\n"
          ]
        }
      ]
    },
    {
      "cell_type": "code",
      "source": [
        "# NEW!:\n",
        "calculate_smallest_change_MCDA(test_example_2, list(X_train_processed.columns), combined_weights, neural_MCDA_compatible, threshold)"
      ],
      "metadata": {
        "colab": {
          "base_uri": "https://localhost:8080/"
        },
        "id": "FotN4Tw4Tt64",
        "outputId": "b70b075a-7c66-46eb-b862-8320bfffb4e9"
      },
      "execution_count": 247,
      "outputs": [
        {
          "output_type": "stream",
          "name": "stdout",
          "text": [
            "Columns in order: ['BI-RADS', 'Age', 'Shape', 'Margin', 'Density', 'BI-RADS_Age', 'BI-RADS_Shape', 'BI-RADS_Margin', 'BI-RADS_Density', 'Age_Shape', 'Age_Margin', 'Age_Density', 'Shape_Margin', 'Shape_Density', 'Margin_Density']\n",
            "Original Example: [0.0727, 0.6667, 1.0, 0.25, 0.3333, 0.0727, 0.0727, 0.0727, 0.0727, 0.6667, 0.25, 0.3333, 0.25, 0.3333, 0.25]\n",
            "New Example Assigned to a different class: [0.0648, 0.6667, 1.0, 0.25, 0.3333, 0.0648, 0.0648, 0.0648, 0.0648, 0.6667, 0.25, 0.3333, 0.25, 0.3333, 0.25]\n",
            "Minimal Differences: [0.008, 0.0, 0.0, 0.0, 0.0, 0.008, 0.008, 0.008, 0.008, 0.0, 0.0, 0.0, 0.0, 0.0, 0.0]\n",
            "Model's original decision [1]\n",
            "Model's new decision: [0]\n"
          ]
        }
      ]
    },
    {
      "cell_type": "code",
      "source": [
        "# NEW!:\n",
        "calculate_smallest_change_MCDA(test_example_3, list(X_train_processed.columns), combined_weights, neural_MCDA_compatible, threshold, skip_cols = \"Margin\")"
      ],
      "metadata": {
        "colab": {
          "base_uri": "https://localhost:8080/"
        },
        "id": "xj12tu3qTuel",
        "outputId": "a6b42988-bd93-45df-ea8c-7260199e70fb"
      },
      "execution_count": 250,
      "outputs": [
        {
          "output_type": "stream",
          "name": "stdout",
          "text": [
            "Columns in order: ['BI-RADS', 'Age', 'Shape', 'Margin', 'Density', 'BI-RADS_Age', 'BI-RADS_Shape', 'BI-RADS_Margin', 'BI-RADS_Density', 'Age_Shape', 'Age_Margin', 'Age_Density', 'Shape_Margin', 'Shape_Density', 'Margin_Density']\n",
            "Original Example: [0.0727, 0.2821, 0.3333, 0.0, 0.6667, 0.0727, 0.0727, 0.0, 0.0727, 0.2821, 0.0, 0.2821, 0.0, 0.3333, 0.0]\n",
            "New Example Assigned to a different class: [0.113, 0.2821, 0.3333, 0.0, 0.6667, 0.113, 0.113, 0.0, 0.113, 0.2821, 0.0, 0.2821, 0.0, 0.3333, 0.0]\n",
            "Minimal Differences: [-0.0403, 0.0, 0.0, 0.0, 0.0, -0.0403, -0.0403, 0.0, -0.0403, 0.0, 0.0, 0.0, 0.0, 0.0, 0.0]\n",
            "Model's original decision [0]\n",
            "Model's new decision: [1]\n"
          ]
        }
      ]
    },
    {
      "cell_type": "markdown",
      "metadata": {
        "id": "vcrAx3kN9egc"
      },
      "source": [
        "#### Changes from Sampling"
      ]
    },
    {
      "cell_type": "code",
      "execution_count": 234,
      "metadata": {
        "colab": {
          "base_uri": "https://localhost:8080/"
        },
        "id": "FD-2qBzl-7kR",
        "outputId": "49bf5caf-c8d4-4dac-9111-a58edd41abf8"
      },
      "outputs": [
        {
          "output_type": "stream",
          "name": "stdout",
          "text": [
            "Columns in order: ['BI-RADS', 'Age', 'Shape', 'Margin', 'Density', 'BI-RADS_Age', 'BI-RADS_Shape', 'BI-RADS_Margin', 'BI-RADS_Density', 'Age_Shape', 'Age_Margin', 'Age_Density', 'Shape_Margin', 'Shape_Density', 'Margin_Density']\n",
            "Original Example: [0.0909, 0.7308, 1.0, 0.75, 0.6667, 0.0909, 0.0909, 0.0909, 0.0909, 0.7308, 0.7308, 0.6667, 0.75, 0.6667, 0.6667]\n",
            "New Example Assigned to a different class: [0.0609, 0.7308, 0.97, 0.75, 0.6667, 0.0609, 0.0609, 0.0909, 0.0609, 0.7308, 0.7308, 0.6667, 0.75, 0.6667, 0.6667]\n",
            "Minimal Differences: [0.03, 0.0, 0.03, 0.0, 0.0, 0.03, 0.03, 0.0, 0.03, 0.0, 0.0, 0.0, 0.0, 0.0, 0.0]\n",
            "Model's original decision 1\n",
            "Model's new decision: 0\n"
          ]
        }
      ],
      "source": [
        "# NEW!:\n",
        "change_class_by_sampling_MCDA(test_example_1, list(X_train_processed.columns), combined_weights, neural_MCDA_compatible)"
      ]
    },
    {
      "cell_type": "code",
      "execution_count": 235,
      "metadata": {
        "colab": {
          "base_uri": "https://localhost:8080/"
        },
        "id": "XPfa0EP0-7kR",
        "outputId": "f3d34f03-aa0b-4b3e-8efd-49598d987fec"
      },
      "outputs": [
        {
          "output_type": "stream",
          "name": "stdout",
          "text": [
            "Columns in order: ['BI-RADS', 'Age', 'Shape', 'Margin', 'Density', 'BI-RADS_Age', 'BI-RADS_Shape', 'BI-RADS_Margin', 'BI-RADS_Density', 'Age_Shape', 'Age_Margin', 'Age_Density', 'Shape_Margin', 'Shape_Density', 'Margin_Density']\n",
            "Original Example: [0.0727, 0.6667, 1.0, 0.25, 0.3333, 0.0727, 0.0727, 0.0727, 0.0727, 0.6667, 0.25, 0.3333, 0.25, 0.3333, 0.25]\n",
            "New Example Assigned to a different class: [0.0647, 0.6667, 0.992, 0.25, 0.3333, 0.0647, 0.0647, 0.0727, 0.0647, 0.6667, 0.25, 0.3333, 0.25, 0.3333, 0.25]\n",
            "Minimal Differences: [0.008, 0.0, 0.008, 0.0, 0.0, 0.008, 0.008, 0.0, 0.008, 0.0, 0.0, 0.0, 0.0, 0.0, 0.0]\n",
            "Model's original decision 1\n",
            "Model's new decision: 0\n"
          ]
        }
      ],
      "source": [
        "# NEW!:\n",
        "change_class_by_sampling_MCDA(test_example_2, list(X_train_processed.columns), combined_weights, neural_MCDA_compatible)"
      ]
    },
    {
      "cell_type": "code",
      "execution_count": 251,
      "metadata": {
        "colab": {
          "base_uri": "https://localhost:8080/"
        },
        "id": "YK3du-Tr-7kR",
        "outputId": "49c09eb2-36ad-41e0-b8c7-d7fbde3e10f2"
      },
      "outputs": [
        {
          "output_type": "stream",
          "name": "stdout",
          "text": [
            "Columns in order: ['BI-RADS', 'Age', 'Shape', 'Margin', 'Density', 'BI-RADS_Age', 'BI-RADS_Shape', 'BI-RADS_Margin', 'BI-RADS_Density', 'Age_Shape', 'Age_Margin', 'Age_Density', 'Shape_Margin', 'Shape_Density', 'Margin_Density']\n",
            "Original Example: [0.0727, 0.2821, 0.3333, 0.0, 0.6667, 0.0727, 0.0727, 0.0, 0.0727, 0.2821, 0.0, 0.2821, 0.0, 0.3333, 0.0]\n",
            "New Example Assigned to a different class: [0.1117, 0.2821, 0.3333, 0.0, 0.6667, 0.1117, 0.1117, 0.0, 0.1117, 0.2821, 0.0, 0.2821, 0.0, 0.3333, 0.0]\n",
            "Minimal Differences: [-0.039, 0.0, 0.0, 0.0, 0.0, -0.039, -0.039, 0.0, -0.039, 0.0, 0.0, 0.0, 0.0, 0.0, 0.0]\n",
            "Model's original decision 0\n",
            "Model's new decision: 1\n"
          ]
        }
      ],
      "source": [
        "# NEW!:\n",
        "change_class_by_sampling_MCDA(test_example_3, list(X_train_processed.columns), combined_weights, neural_MCDA_compatible, skip_cols = \"Margin\")"
      ]
    },
    {
      "cell_type": "markdown",
      "metadata": {
        "id": "-jDhITwy-4O1"
      },
      "source": [
        "### SHAP explanation"
      ]
    },
    {
      "cell_type": "markdown",
      "metadata": {
        "id": "fBZnoYYw-7kS"
      },
      "source": [
        "#### Explainer"
      ]
    },
    {
      "cell_type": "code",
      "execution_count": 76,
      "metadata": {
        "colab": {
          "base_uri": "https://localhost:8080/",
          "height": 339
        },
        "id": "bRUDY0PW-7kS",
        "outputId": "24621131-bac1-4105-e05a-681177e5a954"
      },
      "outputs": [
        {
          "output_type": "stream",
          "name": "stderr",
          "text": [
            "PermutationExplainer explainer:  60%|██████    | 6/10 [06:14<04:59, 74.91s/it]\n"
          ]
        },
        {
          "output_type": "error",
          "ename": "KeyboardInterrupt",
          "evalue": "",
          "traceback": [
            "\u001b[0;31m---------------------------------------------------------------------------\u001b[0m",
            "\u001b[0;31mKeyboardInterrupt\u001b[0m                         Traceback (most recent call last)",
            "\u001b[0;32m<ipython-input-76-ce53c17b74af>\u001b[0m in \u001b[0;36m<cell line: 6>\u001b[0;34m()\u001b[0m\n\u001b[1;32m      4\u001b[0m \u001b[0;34m\u001b[0m\u001b[0m\n\u001b[1;32m      5\u001b[0m \u001b[0;31m# shap_values = explainer(X_test_processed) # takes > 1hr :(\u001b[0m\u001b[0;34m\u001b[0m\u001b[0;34m\u001b[0m\u001b[0m\n\u001b[0;32m----> 6\u001b[0;31m \u001b[0mshap_values\u001b[0m \u001b[0;34m=\u001b[0m \u001b[0mexplainer\u001b[0m\u001b[0;34m(\u001b[0m\u001b[0mmasker\u001b[0m\u001b[0;34m.\u001b[0m\u001b[0mdata\u001b[0m\u001b[0;34m)\u001b[0m\u001b[0;34m\u001b[0m\u001b[0;34m\u001b[0m\u001b[0m\n\u001b[0m",
            "\u001b[0;32m/usr/local/lib/python3.10/dist-packages/shap/explainers/_permutation.py\u001b[0m in \u001b[0;36m__call__\u001b[0;34m(self, max_evals, main_effects, error_bounds, batch_size, outputs, silent, *args)\u001b[0m\n\u001b[1;32m     75\u001b[0m                  outputs=None, silent=False):\n\u001b[1;32m     76\u001b[0m         \u001b[0;34m\"\"\"Explain the output of the model on the given arguments.\"\"\"\u001b[0m\u001b[0;34m\u001b[0m\u001b[0;34m\u001b[0m\u001b[0m\n\u001b[0;32m---> 77\u001b[0;31m         return super().__call__(\n\u001b[0m\u001b[1;32m     78\u001b[0m             \u001b[0;34m*\u001b[0m\u001b[0margs\u001b[0m\u001b[0;34m,\u001b[0m \u001b[0mmax_evals\u001b[0m\u001b[0;34m=\u001b[0m\u001b[0mmax_evals\u001b[0m\u001b[0;34m,\u001b[0m \u001b[0mmain_effects\u001b[0m\u001b[0;34m=\u001b[0m\u001b[0mmain_effects\u001b[0m\u001b[0;34m,\u001b[0m \u001b[0merror_bounds\u001b[0m\u001b[0;34m=\u001b[0m\u001b[0merror_bounds\u001b[0m\u001b[0;34m,\u001b[0m \u001b[0mbatch_size\u001b[0m\u001b[0;34m=\u001b[0m\u001b[0mbatch_size\u001b[0m\u001b[0;34m,\u001b[0m\u001b[0;34m\u001b[0m\u001b[0;34m\u001b[0m\u001b[0m\n\u001b[1;32m     79\u001b[0m             \u001b[0moutputs\u001b[0m\u001b[0;34m=\u001b[0m\u001b[0moutputs\u001b[0m\u001b[0;34m,\u001b[0m \u001b[0msilent\u001b[0m\u001b[0;34m=\u001b[0m\u001b[0msilent\u001b[0m\u001b[0;34m\u001b[0m\u001b[0;34m\u001b[0m\u001b[0m\n",
            "\u001b[0;32m/usr/local/lib/python3.10/dist-packages/shap/explainers/_explainer.py\u001b[0m in \u001b[0;36m__call__\u001b[0;34m(self, max_evals, main_effects, error_bounds, batch_size, outputs, silent, *args, **kwargs)\u001b[0m\n\u001b[1;32m    264\u001b[0m             \u001b[0mfeature_names\u001b[0m \u001b[0;34m=\u001b[0m \u001b[0;34m[\u001b[0m\u001b[0;34m[\u001b[0m\u001b[0;34m]\u001b[0m \u001b[0;32mfor\u001b[0m \u001b[0m_\u001b[0m \u001b[0;32min\u001b[0m \u001b[0mrange\u001b[0m\u001b[0;34m(\u001b[0m\u001b[0mlen\u001b[0m\u001b[0;34m(\u001b[0m\u001b[0margs\u001b[0m\u001b[0;34m)\u001b[0m\u001b[0;34m)\u001b[0m\u001b[0;34m]\u001b[0m\u001b[0;34m\u001b[0m\u001b[0;34m\u001b[0m\u001b[0m\n\u001b[1;32m    265\u001b[0m         \u001b[0;32mfor\u001b[0m \u001b[0mrow_args\u001b[0m \u001b[0;32min\u001b[0m \u001b[0mshow_progress\u001b[0m\u001b[0;34m(\u001b[0m\u001b[0mzip\u001b[0m\u001b[0;34m(\u001b[0m\u001b[0;34m*\u001b[0m\u001b[0margs\u001b[0m\u001b[0;34m)\u001b[0m\u001b[0;34m,\u001b[0m \u001b[0mnum_rows\u001b[0m\u001b[0;34m,\u001b[0m \u001b[0mself\u001b[0m\u001b[0;34m.\u001b[0m\u001b[0m__class__\u001b[0m\u001b[0;34m.\u001b[0m\u001b[0m__name__\u001b[0m\u001b[0;34m+\u001b[0m\u001b[0;34m\" explainer\"\u001b[0m\u001b[0;34m,\u001b[0m \u001b[0msilent\u001b[0m\u001b[0;34m)\u001b[0m\u001b[0;34m:\u001b[0m\u001b[0;34m\u001b[0m\u001b[0;34m\u001b[0m\u001b[0m\n\u001b[0;32m--> 266\u001b[0;31m             row_result = self.explain_row(\n\u001b[0m\u001b[1;32m    267\u001b[0m                 \u001b[0;34m*\u001b[0m\u001b[0mrow_args\u001b[0m\u001b[0;34m,\u001b[0m \u001b[0mmax_evals\u001b[0m\u001b[0;34m=\u001b[0m\u001b[0mmax_evals\u001b[0m\u001b[0;34m,\u001b[0m \u001b[0mmain_effects\u001b[0m\u001b[0;34m=\u001b[0m\u001b[0mmain_effects\u001b[0m\u001b[0;34m,\u001b[0m \u001b[0merror_bounds\u001b[0m\u001b[0;34m=\u001b[0m\u001b[0merror_bounds\u001b[0m\u001b[0;34m,\u001b[0m\u001b[0;34m\u001b[0m\u001b[0;34m\u001b[0m\u001b[0m\n\u001b[1;32m    268\u001b[0m                 \u001b[0mbatch_size\u001b[0m\u001b[0;34m=\u001b[0m\u001b[0mbatch_size\u001b[0m\u001b[0;34m,\u001b[0m \u001b[0moutputs\u001b[0m\u001b[0;34m=\u001b[0m\u001b[0moutputs\u001b[0m\u001b[0;34m,\u001b[0m \u001b[0msilent\u001b[0m\u001b[0;34m=\u001b[0m\u001b[0msilent\u001b[0m\u001b[0;34m,\u001b[0m \u001b[0;34m**\u001b[0m\u001b[0mkwargs\u001b[0m\u001b[0;34m\u001b[0m\u001b[0;34m\u001b[0m\u001b[0m\n",
            "\u001b[0;32m/usr/local/lib/python3.10/dist-packages/shap/explainers/_permutation.py\u001b[0m in \u001b[0;36mexplain_row\u001b[0;34m(self, max_evals, main_effects, error_bounds, batch_size, outputs, silent, *row_args)\u001b[0m\n\u001b[1;32m    131\u001b[0m \u001b[0;34m\u001b[0m\u001b[0m\n\u001b[1;32m    132\u001b[0m                 \u001b[0;31m# evaluate the masked model\u001b[0m\u001b[0;34m\u001b[0m\u001b[0;34m\u001b[0m\u001b[0m\n\u001b[0;32m--> 133\u001b[0;31m                 \u001b[0moutputs\u001b[0m \u001b[0;34m=\u001b[0m \u001b[0mfm\u001b[0m\u001b[0;34m(\u001b[0m\u001b[0mmasks\u001b[0m\u001b[0;34m,\u001b[0m \u001b[0mzero_index\u001b[0m\u001b[0;34m=\u001b[0m\u001b[0;36m0\u001b[0m\u001b[0;34m,\u001b[0m \u001b[0mbatch_size\u001b[0m\u001b[0;34m=\u001b[0m\u001b[0mbatch_size\u001b[0m\u001b[0;34m)\u001b[0m\u001b[0;34m\u001b[0m\u001b[0;34m\u001b[0m\u001b[0m\n\u001b[0m\u001b[1;32m    134\u001b[0m \u001b[0;34m\u001b[0m\u001b[0m\n\u001b[1;32m    135\u001b[0m                 \u001b[0;32mif\u001b[0m \u001b[0mrow_values\u001b[0m \u001b[0;32mis\u001b[0m \u001b[0;32mNone\u001b[0m\u001b[0;34m:\u001b[0m\u001b[0;34m\u001b[0m\u001b[0;34m\u001b[0m\u001b[0m\n",
            "\u001b[0;32m/usr/local/lib/python3.10/dist-packages/shap/utils/_masked_model.py\u001b[0m in \u001b[0;36m__call__\u001b[0;34m(self, masks, zero_index, batch_size)\u001b[0m\n\u001b[1;32m     58\u001b[0m         \u001b[0;32mif\u001b[0m \u001b[0mlen\u001b[0m\u001b[0;34m(\u001b[0m\u001b[0mmasks\u001b[0m\u001b[0;34m.\u001b[0m\u001b[0mshape\u001b[0m\u001b[0;34m)\u001b[0m \u001b[0;34m==\u001b[0m \u001b[0;36m1\u001b[0m\u001b[0;34m:\u001b[0m\u001b[0;34m\u001b[0m\u001b[0;34m\u001b[0m\u001b[0m\n\u001b[1;32m     59\u001b[0m             \u001b[0;32mif\u001b[0m \u001b[0mgetattr\u001b[0m\u001b[0;34m(\u001b[0m\u001b[0mself\u001b[0m\u001b[0;34m.\u001b[0m\u001b[0mmasker\u001b[0m\u001b[0;34m,\u001b[0m \u001b[0;34m\"supports_delta_masking\"\u001b[0m\u001b[0;34m,\u001b[0m \u001b[0;32mFalse\u001b[0m\u001b[0;34m)\u001b[0m\u001b[0;34m:\u001b[0m\u001b[0;34m\u001b[0m\u001b[0;34m\u001b[0m\u001b[0m\n\u001b[0;32m---> 60\u001b[0;31m                 \u001b[0;32mreturn\u001b[0m \u001b[0mself\u001b[0m\u001b[0;34m.\u001b[0m\u001b[0m_delta_masking_call\u001b[0m\u001b[0;34m(\u001b[0m\u001b[0mmasks\u001b[0m\u001b[0;34m,\u001b[0m \u001b[0mzero_index\u001b[0m\u001b[0;34m=\u001b[0m\u001b[0mzero_index\u001b[0m\u001b[0;34m,\u001b[0m \u001b[0mbatch_size\u001b[0m\u001b[0;34m=\u001b[0m\u001b[0mbatch_size\u001b[0m\u001b[0;34m)\u001b[0m\u001b[0;34m\u001b[0m\u001b[0;34m\u001b[0m\u001b[0m\n\u001b[0m\u001b[1;32m     61\u001b[0m \u001b[0;34m\u001b[0m\u001b[0m\n\u001b[1;32m     62\u001b[0m             \u001b[0;31m# we need to convert from delta masking to a full masking call because we were given a delta masking\u001b[0m\u001b[0;34m\u001b[0m\u001b[0;34m\u001b[0m\u001b[0m\n",
            "\u001b[0;32m/usr/local/lib/python3.10/dist-packages/shap/utils/_masked_model.py\u001b[0m in \u001b[0;36m_delta_masking_call\u001b[0;34m(self, masks, zero_index, batch_size)\u001b[0m\n\u001b[1;32m    204\u001b[0m \u001b[0;34m\u001b[0m\u001b[0m\n\u001b[1;32m    205\u001b[0m         \u001b[0;31m# joined_masked_inputs = self._stack_inputs(all_masked_inputs)\u001b[0m\u001b[0;34m\u001b[0m\u001b[0;34m\u001b[0m\u001b[0m\n\u001b[0;32m--> 206\u001b[0;31m         \u001b[0moutputs\u001b[0m \u001b[0;34m=\u001b[0m \u001b[0mself\u001b[0m\u001b[0;34m.\u001b[0m\u001b[0mmodel\u001b[0m\u001b[0;34m(\u001b[0m\u001b[0;34m*\u001b[0m\u001b[0msubset_masked_inputs\u001b[0m\u001b[0;34m)\u001b[0m\u001b[0;34m\u001b[0m\u001b[0;34m\u001b[0m\u001b[0m\n\u001b[0m\u001b[1;32m    207\u001b[0m         \u001b[0m_assert_output_input_match\u001b[0m\u001b[0;34m(\u001b[0m\u001b[0msubset_masked_inputs\u001b[0m\u001b[0;34m,\u001b[0m \u001b[0moutputs\u001b[0m\u001b[0;34m)\u001b[0m\u001b[0;34m\u001b[0m\u001b[0;34m\u001b[0m\u001b[0m\n\u001b[1;32m    208\u001b[0m \u001b[0;34m\u001b[0m\u001b[0m\n",
            "\u001b[0;32m/usr/local/lib/python3.10/dist-packages/shap/models/_model.py\u001b[0m in \u001b[0;36m__call__\u001b[0;34m(self, *args)\u001b[0m\n\u001b[1;32m     19\u001b[0m \u001b[0;34m\u001b[0m\u001b[0m\n\u001b[1;32m     20\u001b[0m     \u001b[0;32mdef\u001b[0m \u001b[0m__call__\u001b[0m\u001b[0;34m(\u001b[0m\u001b[0mself\u001b[0m\u001b[0;34m,\u001b[0m \u001b[0;34m*\u001b[0m\u001b[0margs\u001b[0m\u001b[0;34m)\u001b[0m\u001b[0;34m:\u001b[0m\u001b[0;34m\u001b[0m\u001b[0;34m\u001b[0m\u001b[0m\n\u001b[0;32m---> 21\u001b[0;31m         \u001b[0mout\u001b[0m \u001b[0;34m=\u001b[0m \u001b[0mself\u001b[0m\u001b[0;34m.\u001b[0m\u001b[0minner_model\u001b[0m\u001b[0;34m(\u001b[0m\u001b[0;34m*\u001b[0m\u001b[0margs\u001b[0m\u001b[0;34m)\u001b[0m\u001b[0;34m\u001b[0m\u001b[0;34m\u001b[0m\u001b[0m\n\u001b[0m\u001b[1;32m     22\u001b[0m         \u001b[0mis_tensor\u001b[0m \u001b[0;34m=\u001b[0m \u001b[0msafe_isinstance\u001b[0m\u001b[0;34m(\u001b[0m\u001b[0mout\u001b[0m\u001b[0;34m,\u001b[0m \u001b[0;34m\"torch.Tensor\"\u001b[0m\u001b[0;34m)\u001b[0m\u001b[0;34m\u001b[0m\u001b[0;34m\u001b[0m\u001b[0m\n\u001b[1;32m     23\u001b[0m         \u001b[0mout\u001b[0m \u001b[0;34m=\u001b[0m \u001b[0mout\u001b[0m\u001b[0;34m.\u001b[0m\u001b[0mcpu\u001b[0m\u001b[0;34m(\u001b[0m\u001b[0;34m)\u001b[0m\u001b[0;34m.\u001b[0m\u001b[0mdetach\u001b[0m\u001b[0;34m(\u001b[0m\u001b[0;34m)\u001b[0m\u001b[0;34m.\u001b[0m\u001b[0mnumpy\u001b[0m\u001b[0;34m(\u001b[0m\u001b[0;34m)\u001b[0m \u001b[0;32mif\u001b[0m \u001b[0mis_tensor\u001b[0m \u001b[0;32melse\u001b[0m \u001b[0mnp\u001b[0m\u001b[0;34m.\u001b[0m\u001b[0marray\u001b[0m\u001b[0;34m(\u001b[0m\u001b[0mout\u001b[0m\u001b[0;34m)\u001b[0m\u001b[0;34m\u001b[0m\u001b[0;34m\u001b[0m\u001b[0m\n",
            "\u001b[0;32m<ipython-input-36-95591f36c3af>\u001b[0m in \u001b[0;36mpredict\u001b[0;34m(self, X)\u001b[0m\n\u001b[1;32m     88\u001b[0m             \u001b[0mX_input\u001b[0m \u001b[0;34m=\u001b[0m \u001b[0mtorch\u001b[0m\u001b[0;34m.\u001b[0m\u001b[0mtensor\u001b[0m\u001b[0;34m(\u001b[0m\u001b[0mtemp_X\u001b[0m\u001b[0;34m)\u001b[0m\u001b[0;34m.\u001b[0m\u001b[0mfloat\u001b[0m\u001b[0;34m(\u001b[0m\u001b[0;34m)\u001b[0m\u001b[0;34m\u001b[0m\u001b[0;34m\u001b[0m\u001b[0m\n\u001b[1;32m     89\u001b[0m             \u001b[0;32mwith\u001b[0m \u001b[0mtorch\u001b[0m\u001b[0;34m.\u001b[0m\u001b[0mno_grad\u001b[0m\u001b[0;34m(\u001b[0m\u001b[0;34m)\u001b[0m\u001b[0;34m:\u001b[0m\u001b[0;34m\u001b[0m\u001b[0;34m\u001b[0m\u001b[0m\n\u001b[0;32m---> 90\u001b[0;31m                 \u001b[0moutput\u001b[0m \u001b[0;34m=\u001b[0m \u001b[0mself\u001b[0m\u001b[0;34m.\u001b[0m\u001b[0mmodel\u001b[0m\u001b[0;34m(\u001b[0m\u001b[0mX_input\u001b[0m\u001b[0;34m.\u001b[0m\u001b[0munsqueeze\u001b[0m\u001b[0;34m(\u001b[0m\u001b[0;36m0\u001b[0m\u001b[0;34m)\u001b[0m\u001b[0;34m)\u001b[0m\u001b[0;34m\u001b[0m\u001b[0;34m\u001b[0m\u001b[0m\n\u001b[0m\u001b[1;32m     91\u001b[0m             \u001b[0;32mif\u001b[0m \u001b[0mself\u001b[0m\u001b[0;34m.\u001b[0m\u001b[0mcustom_acc_threshold\u001b[0m\u001b[0;34m:\u001b[0m\u001b[0;34m\u001b[0m\u001b[0;34m\u001b[0m\u001b[0m\n\u001b[1;32m     92\u001b[0m                 \u001b[0moutput\u001b[0m \u001b[0;34m=\u001b[0m \u001b[0;36m1\u001b[0m \u001b[0;32mif\u001b[0m \u001b[0moutput\u001b[0m \u001b[0;34m>\u001b[0m \u001b[0;36m0.0\u001b[0m \u001b[0;32melse\u001b[0m \u001b[0;36m0\u001b[0m\u001b[0;34m\u001b[0m\u001b[0;34m\u001b[0m\u001b[0m\n",
            "\u001b[0;32m/usr/local/lib/python3.10/dist-packages/torch/nn/modules/module.py\u001b[0m in \u001b[0;36m_wrapped_call_impl\u001b[0;34m(self, *args, **kwargs)\u001b[0m\n\u001b[1;32m   1509\u001b[0m             \u001b[0;32mreturn\u001b[0m \u001b[0mself\u001b[0m\u001b[0;34m.\u001b[0m\u001b[0m_compiled_call_impl\u001b[0m\u001b[0;34m(\u001b[0m\u001b[0;34m*\u001b[0m\u001b[0margs\u001b[0m\u001b[0;34m,\u001b[0m \u001b[0;34m**\u001b[0m\u001b[0mkwargs\u001b[0m\u001b[0;34m)\u001b[0m  \u001b[0;31m# type: ignore[misc]\u001b[0m\u001b[0;34m\u001b[0m\u001b[0;34m\u001b[0m\u001b[0m\n\u001b[1;32m   1510\u001b[0m         \u001b[0;32melse\u001b[0m\u001b[0;34m:\u001b[0m\u001b[0;34m\u001b[0m\u001b[0;34m\u001b[0m\u001b[0m\n\u001b[0;32m-> 1511\u001b[0;31m             \u001b[0;32mreturn\u001b[0m \u001b[0mself\u001b[0m\u001b[0;34m.\u001b[0m\u001b[0m_call_impl\u001b[0m\u001b[0;34m(\u001b[0m\u001b[0;34m*\u001b[0m\u001b[0margs\u001b[0m\u001b[0;34m,\u001b[0m \u001b[0;34m**\u001b[0m\u001b[0mkwargs\u001b[0m\u001b[0;34m)\u001b[0m\u001b[0;34m\u001b[0m\u001b[0;34m\u001b[0m\u001b[0m\n\u001b[0m\u001b[1;32m   1512\u001b[0m \u001b[0;34m\u001b[0m\u001b[0m\n\u001b[1;32m   1513\u001b[0m     \u001b[0;32mdef\u001b[0m \u001b[0m_call_impl\u001b[0m\u001b[0;34m(\u001b[0m\u001b[0mself\u001b[0m\u001b[0;34m,\u001b[0m \u001b[0;34m*\u001b[0m\u001b[0margs\u001b[0m\u001b[0;34m,\u001b[0m \u001b[0;34m**\u001b[0m\u001b[0mkwargs\u001b[0m\u001b[0;34m)\u001b[0m\u001b[0;34m:\u001b[0m\u001b[0;34m\u001b[0m\u001b[0;34m\u001b[0m\u001b[0m\n",
            "\u001b[0;32m/usr/local/lib/python3.10/dist-packages/torch/nn/modules/module.py\u001b[0m in \u001b[0;36m_call_impl\u001b[0;34m(self, *args, **kwargs)\u001b[0m\n\u001b[1;32m   1518\u001b[0m                 \u001b[0;32mor\u001b[0m \u001b[0m_global_backward_pre_hooks\u001b[0m \u001b[0;32mor\u001b[0m \u001b[0m_global_backward_hooks\u001b[0m\u001b[0;34m\u001b[0m\u001b[0;34m\u001b[0m\u001b[0m\n\u001b[1;32m   1519\u001b[0m                 or _global_forward_hooks or _global_forward_pre_hooks):\n\u001b[0;32m-> 1520\u001b[0;31m             \u001b[0;32mreturn\u001b[0m \u001b[0mforward_call\u001b[0m\u001b[0;34m(\u001b[0m\u001b[0;34m*\u001b[0m\u001b[0margs\u001b[0m\u001b[0;34m,\u001b[0m \u001b[0;34m**\u001b[0m\u001b[0mkwargs\u001b[0m\u001b[0;34m)\u001b[0m\u001b[0;34m\u001b[0m\u001b[0;34m\u001b[0m\u001b[0m\n\u001b[0m\u001b[1;32m   1521\u001b[0m \u001b[0;34m\u001b[0m\u001b[0m\n\u001b[1;32m   1522\u001b[0m         \u001b[0;32mtry\u001b[0m\u001b[0;34m:\u001b[0m\u001b[0;34m\u001b[0m\u001b[0;34m\u001b[0m\u001b[0m\n",
            "\u001b[0;32m<ipython-input-34-251e982525c6>\u001b[0m in \u001b[0;36mforward\u001b[0;34m(self, input)\u001b[0m\n\u001b[1;32m     19\u001b[0m \u001b[0;34m\u001b[0m\u001b[0m\n\u001b[1;32m     20\u001b[0m         \u001b[0mx_wi\u001b[0m \u001b[0;34m=\u001b[0m \u001b[0mself\u001b[0m\u001b[0;34m.\u001b[0m\u001b[0mcriteria_layer\u001b[0m\u001b[0;34m(\u001b[0m\u001b[0minput\u001b[0m\u001b[0;34m[\u001b[0m\u001b[0;34m:\u001b[0m\u001b[0;34m,\u001b[0m\u001b[0;34m:\u001b[0m\u001b[0mself\u001b[0m\u001b[0;34m.\u001b[0m\u001b[0mnum_criteria\u001b[0m\u001b[0;34m]\u001b[0m\u001b[0;34m)\u001b[0m\u001b[0;34m\u001b[0m\u001b[0;34m\u001b[0m\u001b[0m\n\u001b[0;32m---> 21\u001b[0;31m         \u001b[0mx_wij\u001b[0m \u001b[0;34m=\u001b[0m \u001b[0mself\u001b[0m\u001b[0;34m.\u001b[0m\u001b[0minteraction_layer\u001b[0m\u001b[0;34m(\u001b[0m\u001b[0minput\u001b[0m\u001b[0;34m[\u001b[0m\u001b[0;34m:\u001b[0m\u001b[0;34m,\u001b[0m\u001b[0mself\u001b[0m\u001b[0;34m.\u001b[0m\u001b[0mnum_criteria\u001b[0m\u001b[0;34m:\u001b[0m\u001b[0;34m]\u001b[0m\u001b[0;34m)\u001b[0m\u001b[0;34m\u001b[0m\u001b[0;34m\u001b[0m\u001b[0m\n\u001b[0m\u001b[1;32m     22\u001b[0m         \u001b[0mweight_sum\u001b[0m \u001b[0;34m=\u001b[0m \u001b[0mself\u001b[0m\u001b[0;34m.\u001b[0m\u001b[0mcriteria_layer\u001b[0m\u001b[0;34m.\u001b[0m\u001b[0mensure_proper_weights\u001b[0m\u001b[0;34m(\u001b[0m\u001b[0;34m)\u001b[0m\u001b[0;34m.\u001b[0m\u001b[0msum\u001b[0m\u001b[0;34m(\u001b[0m\u001b[0;34m)\u001b[0m\u001b[0;34m+\u001b[0m\u001b[0mself\u001b[0m\u001b[0;34m.\u001b[0m\u001b[0minteraction_layer\u001b[0m\u001b[0;34m.\u001b[0m\u001b[0mensure_proper_weights\u001b[0m\u001b[0;34m(\u001b[0m\u001b[0;34m)\u001b[0m\u001b[0;34m.\u001b[0m\u001b[0msum\u001b[0m\u001b[0;34m(\u001b[0m\u001b[0;34m)\u001b[0m\u001b[0;34m\u001b[0m\u001b[0;34m\u001b[0m\u001b[0m\n\u001b[1;32m     23\u001b[0m         \u001b[0mscore\u001b[0m \u001b[0;34m=\u001b[0m  \u001b[0;34m(\u001b[0m\u001b[0mx_wi\u001b[0m\u001b[0;34m+\u001b[0m\u001b[0mx_wij\u001b[0m\u001b[0;34m)\u001b[0m\u001b[0;34m/\u001b[0m\u001b[0;34m(\u001b[0m\u001b[0mweight_sum\u001b[0m\u001b[0;34m)\u001b[0m\u001b[0;34m\u001b[0m\u001b[0;34m\u001b[0m\u001b[0m\n",
            "\u001b[0;32m/usr/local/lib/python3.10/dist-packages/torch/nn/modules/module.py\u001b[0m in \u001b[0;36m_wrapped_call_impl\u001b[0;34m(self, *args, **kwargs)\u001b[0m\n\u001b[1;32m   1509\u001b[0m             \u001b[0;32mreturn\u001b[0m \u001b[0mself\u001b[0m\u001b[0;34m.\u001b[0m\u001b[0m_compiled_call_impl\u001b[0m\u001b[0;34m(\u001b[0m\u001b[0;34m*\u001b[0m\u001b[0margs\u001b[0m\u001b[0;34m,\u001b[0m \u001b[0;34m**\u001b[0m\u001b[0mkwargs\u001b[0m\u001b[0;34m)\u001b[0m  \u001b[0;31m# type: ignore[misc]\u001b[0m\u001b[0;34m\u001b[0m\u001b[0;34m\u001b[0m\u001b[0m\n\u001b[1;32m   1510\u001b[0m         \u001b[0;32melse\u001b[0m\u001b[0;34m:\u001b[0m\u001b[0;34m\u001b[0m\u001b[0;34m\u001b[0m\u001b[0m\n\u001b[0;32m-> 1511\u001b[0;31m             \u001b[0;32mreturn\u001b[0m \u001b[0mself\u001b[0m\u001b[0;34m.\u001b[0m\u001b[0m_call_impl\u001b[0m\u001b[0;34m(\u001b[0m\u001b[0;34m*\u001b[0m\u001b[0margs\u001b[0m\u001b[0;34m,\u001b[0m \u001b[0;34m**\u001b[0m\u001b[0mkwargs\u001b[0m\u001b[0;34m)\u001b[0m\u001b[0;34m\u001b[0m\u001b[0;34m\u001b[0m\u001b[0m\n\u001b[0m\u001b[1;32m   1512\u001b[0m \u001b[0;34m\u001b[0m\u001b[0m\n\u001b[1;32m   1513\u001b[0m     \u001b[0;32mdef\u001b[0m \u001b[0m_call_impl\u001b[0m\u001b[0;34m(\u001b[0m\u001b[0mself\u001b[0m\u001b[0;34m,\u001b[0m \u001b[0;34m*\u001b[0m\u001b[0margs\u001b[0m\u001b[0;34m,\u001b[0m \u001b[0;34m**\u001b[0m\u001b[0mkwargs\u001b[0m\u001b[0;34m)\u001b[0m\u001b[0;34m:\u001b[0m\u001b[0;34m\u001b[0m\u001b[0;34m\u001b[0m\u001b[0m\n",
            "\u001b[0;32m/usr/local/lib/python3.10/dist-packages/torch/nn/modules/module.py\u001b[0m in \u001b[0;36m_call_impl\u001b[0;34m(self, *args, **kwargs)\u001b[0m\n\u001b[1;32m   1518\u001b[0m                 \u001b[0;32mor\u001b[0m \u001b[0m_global_backward_pre_hooks\u001b[0m \u001b[0;32mor\u001b[0m \u001b[0m_global_backward_hooks\u001b[0m\u001b[0;34m\u001b[0m\u001b[0;34m\u001b[0m\u001b[0m\n\u001b[1;32m   1519\u001b[0m                 or _global_forward_hooks or _global_forward_pre_hooks):\n\u001b[0;32m-> 1520\u001b[0;31m             \u001b[0;32mreturn\u001b[0m \u001b[0mforward_call\u001b[0m\u001b[0;34m(\u001b[0m\u001b[0;34m*\u001b[0m\u001b[0margs\u001b[0m\u001b[0;34m,\u001b[0m \u001b[0;34m**\u001b[0m\u001b[0mkwargs\u001b[0m\u001b[0;34m)\u001b[0m\u001b[0;34m\u001b[0m\u001b[0;34m\u001b[0m\u001b[0m\n\u001b[0m\u001b[1;32m   1521\u001b[0m \u001b[0;34m\u001b[0m\u001b[0m\n\u001b[1;32m   1522\u001b[0m         \u001b[0;32mtry\u001b[0m\u001b[0;34m:\u001b[0m\u001b[0;34m\u001b[0m\u001b[0;34m\u001b[0m\u001b[0m\n",
            "\u001b[0;32m<ipython-input-32-a74a325a648a>\u001b[0m in \u001b[0;36mforward\u001b[0;34m(self, input)\u001b[0m\n\u001b[1;32m     23\u001b[0m \u001b[0;34m\u001b[0m\u001b[0m\n\u001b[1;32m     24\u001b[0m     \u001b[0;32mdef\u001b[0m \u001b[0mforward\u001b[0m\u001b[0;34m(\u001b[0m\u001b[0mself\u001b[0m\u001b[0;34m,\u001b[0m \u001b[0minput\u001b[0m\u001b[0;34m:\u001b[0m\u001b[0mtorch\u001b[0m\u001b[0;34m.\u001b[0m\u001b[0mTensor\u001b[0m\u001b[0;34m)\u001b[0m\u001b[0;34m->\u001b[0m\u001b[0mtorch\u001b[0m\u001b[0;34m.\u001b[0m\u001b[0mTensor\u001b[0m\u001b[0;34m:\u001b[0m\u001b[0;34m\u001b[0m\u001b[0;34m\u001b[0m\u001b[0m\n\u001b[0;32m---> 25\u001b[0;31m         \u001b[0mweights\u001b[0m \u001b[0;34m=\u001b[0m \u001b[0mself\u001b[0m\u001b[0;34m.\u001b[0m\u001b[0mensure_proper_weights\u001b[0m\u001b[0;34m(\u001b[0m\u001b[0;34m)\u001b[0m\u001b[0;34m\u001b[0m\u001b[0;34m\u001b[0m\u001b[0m\n\u001b[0m\u001b[1;32m     26\u001b[0m         \u001b[0;32mreturn\u001b[0m \u001b[0mF\u001b[0m\u001b[0;34m.\u001b[0m\u001b[0mlinear\u001b[0m\u001b[0;34m(\u001b[0m\u001b[0minput\u001b[0m\u001b[0;34m,\u001b[0m \u001b[0mweights\u001b[0m\u001b[0;34m,\u001b[0m \u001b[0;32mNone\u001b[0m\u001b[0;34m)\u001b[0m\u001b[0;34m\u001b[0m\u001b[0;34m\u001b[0m\u001b[0m\n",
            "\u001b[0;32m<ipython-input-32-a74a325a648a>\u001b[0m in \u001b[0;36mensure_proper_weights\u001b[0;34m(self)\u001b[0m\n\u001b[1;32m     18\u001b[0m                     \u001b[0mself\u001b[0m\u001b[0;34m.\u001b[0m\u001b[0mweight\u001b[0m\u001b[0;34m.\u001b[0m\u001b[0mdata\u001b[0m\u001b[0;34m[\u001b[0m\u001b[0;34m:\u001b[0m\u001b[0;34m,\u001b[0m\u001b[0mw_i\u001b[0m\u001b[0;34m]\u001b[0m \u001b[0;34m=\u001b[0m  \u001b[0mtorch\u001b[0m\u001b[0;34m.\u001b[0m\u001b[0mmax\u001b[0m\u001b[0;34m(\u001b[0m\u001b[0mself\u001b[0m\u001b[0;34m.\u001b[0m\u001b[0mweight\u001b[0m\u001b[0;34m.\u001b[0m\u001b[0mdata\u001b[0m\u001b[0;34m[\u001b[0m\u001b[0;34m:\u001b[0m\u001b[0;34m,\u001b[0m\u001b[0mw_i\u001b[0m\u001b[0;34m]\u001b[0m\u001b[0;34m,\u001b[0m \u001b[0;34m-\u001b[0m\u001b[0mw\u001b[0m\u001b[0;34m[\u001b[0m\u001b[0;34m:\u001b[0m\u001b[0;34m,\u001b[0m\u001b[0mi\u001b[0m\u001b[0;34m]\u001b[0m\u001b[0;34m)\u001b[0m\u001b[0;34m\u001b[0m\u001b[0;34m\u001b[0m\u001b[0m\n\u001b[1;32m     19\u001b[0m                     \u001b[0mself\u001b[0m\u001b[0;34m.\u001b[0m\u001b[0mweight\u001b[0m\u001b[0;34m.\u001b[0m\u001b[0mdata\u001b[0m\u001b[0;34m[\u001b[0m\u001b[0;34m:\u001b[0m\u001b[0;34m,\u001b[0m\u001b[0mw_i\u001b[0m\u001b[0;34m]\u001b[0m \u001b[0;34m=\u001b[0m  \u001b[0mtorch\u001b[0m\u001b[0;34m.\u001b[0m\u001b[0mmax\u001b[0m\u001b[0;34m(\u001b[0m\u001b[0mself\u001b[0m\u001b[0;34m.\u001b[0m\u001b[0mweight\u001b[0m\u001b[0;34m.\u001b[0m\u001b[0mdata\u001b[0m\u001b[0;34m[\u001b[0m\u001b[0;34m:\u001b[0m\u001b[0;34m,\u001b[0m\u001b[0mw_i\u001b[0m\u001b[0;34m]\u001b[0m\u001b[0;34m,\u001b[0m \u001b[0;34m-\u001b[0m\u001b[0mw\u001b[0m\u001b[0;34m[\u001b[0m\u001b[0;34m:\u001b[0m\u001b[0;34m,\u001b[0m\u001b[0mj\u001b[0m\u001b[0;34m]\u001b[0m\u001b[0;34m)\u001b[0m\u001b[0;34m\u001b[0m\u001b[0;34m\u001b[0m\u001b[0m\n\u001b[0;32m---> 20\u001b[0;31m                     \u001b[0mw_i\u001b[0m\u001b[0;34m+=\u001b[0m\u001b[0;36m1\u001b[0m\u001b[0;34m\u001b[0m\u001b[0;34m\u001b[0m\u001b[0m\n\u001b[0m\u001b[1;32m     21\u001b[0m         \u001b[0mweights\u001b[0m \u001b[0;34m=\u001b[0m \u001b[0mself\u001b[0m\u001b[0;34m.\u001b[0m\u001b[0mweight\u001b[0m\u001b[0;34m\u001b[0m\u001b[0;34m\u001b[0m\u001b[0m\n\u001b[1;32m     22\u001b[0m         \u001b[0;32mreturn\u001b[0m \u001b[0mweights\u001b[0m\u001b[0;34m\u001b[0m\u001b[0;34m\u001b[0m\u001b[0m\n",
            "\u001b[0;31mKeyboardInterrupt\u001b[0m: "
          ]
        }
      ],
      "source": [
        "explainer = shap.Explainer(neural_MCDA_compatible.predict, X_train_processed.values, feature_names=column_names)\n",
        "\n",
        "masker = shap.maskers.Independent(X_test_processed, 10)\n",
        "\n",
        "# shap_values = explainer(X_test_processed) # takes > 1hr :(\n",
        "shap_values = explainer(masker.data)"
      ]
    },
    {
      "cell_type": "code",
      "execution_count": null,
      "metadata": {
        "id": "KIElVrDv-7kS"
      },
      "outputs": [],
      "source": [
        "shap.summary_plot(shap_values, masker.data, feature_names=column_names)"
      ]
    },
    {
      "cell_type": "code",
      "execution_count": null,
      "metadata": {
        "id": "QM3mppMA-7kS"
      },
      "outputs": [],
      "source": [
        "shap.plots.waterfall(shap_values[0])"
      ]
    },
    {
      "cell_type": "code",
      "execution_count": null,
      "metadata": {
        "id": "9cVo5kj6K1pM"
      },
      "outputs": [],
      "source": [
        "shap.plots.waterfall(shap_values[1])"
      ]
    },
    {
      "cell_type": "code",
      "execution_count": null,
      "metadata": {
        "id": "E-GMFZuxK15E"
      },
      "outputs": [],
      "source": [
        "shap.plots.waterfall(shap_values[9])"
      ]
    },
    {
      "cell_type": "code",
      "execution_count": null,
      "metadata": {
        "id": "4pUD1NhRLYHV"
      },
      "outputs": [],
      "source": [
        "shap.plots.scatter(shap_values[:, \"BI-RADS\"], color=shap_values)"
      ]
    },
    {
      "cell_type": "markdown",
      "metadata": {
        "id": "H81s-cu9-7kT"
      },
      "source": [
        "### Partial Dependence Plot"
      ]
    },
    {
      "cell_type": "code",
      "execution_count": null,
      "metadata": {
        "id": "klEl-ccV-7kT"
      },
      "outputs": [],
      "source": [
        "fig, ax = plt.subplots(figsize=(14, 20))\n",
        "PartialDependenceDisplay.from_estimator(neural_MCDA_compatible, X_test_processed.values, features = list(range(15)),\n",
        "                                         ax=ax, response_method=\"predict_proba\", feature_names=column_names)"
      ]
    },
    {
      "cell_type": "markdown",
      "metadata": {
        "id": "d2ylhSQV9i5l"
      },
      "source": [
        "#### Conclusions"
      ]
    },
    {
      "cell_type": "markdown",
      "metadata": {
        "id": "goHnbrH1-PvN"
      },
      "source": [
        "TODO: write"
      ]
    },
    {
      "cell_type": "markdown",
      "metadata": {
        "id": "4FxL-Gi59tll"
      },
      "source": [
        "### 2.2. Interpretation of the model"
      ]
    },
    {
      "cell_type": "markdown",
      "metadata": {
        "id": "3k4WnWhU9x41"
      },
      "source": [
        "• Based on the parameters obtained, can we say something about the user’s preferences? <br>\n",
        "• What was the influence of the criteria? Are there any criteria that have no effect, or have a decisive influence? <br>\n",
        "• Are there any dependencies between the criteria? <br>\n",
        "• What is the nature of the criterion, gain, cost, non-monotonic? <br>\n",
        "• Whether there are any preference thresholds? Are there any evaluations on criteria that are indifferent in terms of preferences? <br>\n",
        "• Interpret the model by at least one (Global Surrogate, Partial Dependence Plot, Permutation Feature Importance ...) <br>"
      ]
    },
    {
      "cell_type": "markdown",
      "metadata": {
        "id": "mt1EBRj29yct"
      },
      "source": [
        "TODO: write"
      ]
    },
    {
      "cell_type": "markdown",
      "metadata": {
        "id": "bX8cnPoIt5NR"
      },
      "source": [
        "### ANN Model"
      ]
    },
    {
      "cell_type": "code",
      "execution_count": null,
      "metadata": {
        "id": "m0Ert4dpt7AR"
      },
      "outputs": [],
      "source": [
        "lr = 1e-3\n",
        "weight_decay = 1e-4\n",
        "criterion = nn.BCELoss()\n",
        "num_epochs = 100"
      ]
    },
    {
      "cell_type": "code",
      "execution_count": null,
      "metadata": {
        "id": "EZzpRUX3AmCO"
      },
      "outputs": [],
      "source": [
        "ann_model = ANN(len(X_train.columns), 1)\n",
        "optimizer = optim.AdamW(ann_model.parameters(), lr=lr, weight_decay=weight_decay)\n",
        "torch_model = CompatibleTorchModel(ann_model, optimizer, criterion, num_epochs)\n",
        "torch_model, accuracy, f1, auc, accuracy_test, f1_test, auc_test = use_model(torch_model, X_train.values, y_train.values, X_test.values, y_test.values)\n",
        "ann_model = torch_model.model"
      ]
    },
    {
      "cell_type": "code",
      "execution_count": null,
      "metadata": {
        "id": "Z0MHv4BXB1B-"
      },
      "outputs": [],
      "source": [
        "print(f\"Train set accuracy: {accuracy}\")\n",
        "print(f\"Train set F1: {f1}\")\n",
        "print(f\"Train set AUC: {auc}\")\n",
        "print(f\"Test set accuracy: {accuracy_test}\")\n",
        "print(f\"Test set F1: {f1_test}\")\n",
        "print(f\"Test set AUC: {auc_test}\")"
      ]
    },
    {
      "cell_type": "code",
      "execution_count": null,
      "metadata": {
        "id": "NGUZhoXJB2_W"
      },
      "outputs": [],
      "source": [
        "plot_stats(accuracy, accuracy_test, f1, f1_test, auc, auc_test)"
      ]
    },
    {
      "cell_type": "markdown",
      "metadata": {
        "id": "_um7lNqL94A9"
      },
      "source": [
        "### 2.1. Explanation of the decisions"
      ]
    },
    {
      "cell_type": "markdown",
      "metadata": {
        "id": "722BmvRH-7kU"
      },
      "source": [
        "https://captum.ai/tutorials/House_Prices_Regression_Interpret"
      ]
    },
    {
      "cell_type": "code",
      "execution_count": null,
      "metadata": {
        "id": "92DOfg7Q-7kU"
      },
      "outputs": [],
      "source": [
        "test_example_1 = X_test.iloc[0]\n",
        "test_label_1 = torch_model.predict(X_test.iloc[0].values.reshape(1, -1))[0]\n",
        "test_example_2 = X_test.iloc[1]\n",
        "test_label_2 = torch_model.predict(X_test.iloc[1].values.reshape(1, -1))[0]\n",
        "test_example_3 = X_test.iloc[9]\n",
        "test_label_3 = torch_model.predict(X_test.iloc[9].values.reshape(1, -1))[0]\n",
        "print(f\"Test example:\\n{test_example_1}\")\n",
        "print(f\"\\nAssigned Label: {test_label_1}\")\n",
        "print(\"________________________________\")\n",
        "print(f\"Test example:\\n{test_example_2}\")\n",
        "print(f\"\\nAssigned Label: {test_label_2}\")\n",
        "print(\"________________________________\")\n",
        "print(f\"Test example:\\n{test_example_3}\")\n",
        "print(f\"\\nAssigned Label: {test_label_3}\")"
      ]
    },
    {
      "cell_type": "markdown",
      "metadata": {
        "id": "Kvic5Zyc94sE"
      },
      "source": [
        "#### Changes from Theoretical Calculations"
      ]
    },
    {
      "cell_type": "markdown",
      "metadata": {
        "id": "Blnh1PiS-NxU"
      },
      "source": [
        "TODO: write"
      ]
    },
    {
      "cell_type": "markdown",
      "metadata": {
        "id": "5aVV-SN897Q1"
      },
      "source": [
        "#### Changes from Sampling\n"
      ]
    },
    {
      "cell_type": "code",
      "execution_count": null,
      "metadata": {
        "id": "F-yBgLxK-NPl"
      },
      "outputs": [],
      "source": [
        "nn_change_class_by_sampling(test_example_1, list(X_train.columns), torch_model)"
      ]
    },
    {
      "cell_type": "code",
      "execution_count": null,
      "metadata": {
        "id": "_mpkVYkf-7kV"
      },
      "outputs": [],
      "source": [
        "nn_change_class_by_sampling(test_example_2, list(X_train.columns), torch_model)"
      ]
    },
    {
      "cell_type": "code",
      "execution_count": null,
      "metadata": {
        "id": "GDwFu_Rd-7kV"
      },
      "outputs": [],
      "source": [
        "nn_change_class_by_sampling(test_example_3, list(X_train.columns), torch_model)"
      ]
    },
    {
      "cell_type": "markdown",
      "metadata": {
        "id": "mmUws57N-8Ct"
      },
      "source": [
        "### SHAP explanation"
      ]
    },
    {
      "cell_type": "code",
      "execution_count": null,
      "metadata": {
        "id": "7OkmctcK-7kV"
      },
      "outputs": [],
      "source": [
        "explainer = shap.Explainer(torch_model.predict, X_train.values, feature_names=X_train.columns)\n",
        "\n",
        "shap_values = explainer(X_test)"
      ]
    },
    {
      "cell_type": "code",
      "execution_count": null,
      "metadata": {
        "id": "DC7blpCK-7kW"
      },
      "outputs": [],
      "source": [
        "shap.summary_plot(shap_values, X_test, feature_names=X_train.columns)"
      ]
    },
    {
      "cell_type": "code",
      "execution_count": null,
      "metadata": {
        "id": "lOhh96fhK499"
      },
      "outputs": [],
      "source": [
        "shap.plots.waterfall(shap_values[0])"
      ]
    },
    {
      "cell_type": "code",
      "execution_count": null,
      "metadata": {
        "id": "yFV9SBZpK5Ud"
      },
      "outputs": [],
      "source": [
        "shap.plots.waterfall(shap_values[1])"
      ]
    },
    {
      "cell_type": "code",
      "execution_count": null,
      "metadata": {
        "id": "MHNCOTVkK5m8"
      },
      "outputs": [],
      "source": [
        "shap.plots.waterfall(shap_values[9])"
      ]
    },
    {
      "cell_type": "code",
      "execution_count": null,
      "metadata": {
        "id": "YEUvR6ya-7kW"
      },
      "outputs": [],
      "source": [
        "shap.plots.scatter(shap_values[:, \"BI-RADS\"], color=shap_values)"
      ]
    },
    {
      "cell_type": "markdown",
      "metadata": {
        "id": "DwNraAoE-7kW"
      },
      "source": [
        "### Partial Dependence Plot\n",
        "\n",
        "TODO: verify - why squiggly? not squiggly earlier? hmmmm...."
      ]
    },
    {
      "cell_type": "code",
      "execution_count": null,
      "metadata": {
        "id": "vp_CstaH-7kW"
      },
      "outputs": [],
      "source": [
        "fig, ax = plt.subplots(figsize=(14, 20))\n",
        "PartialDependenceDisplay.from_estimator(torch_model, X_test.values, features = [0, 1, 2, 3, 4] + [(a,b) for a in range(5) for b in range(a+1, 5)],\n",
        "                                         ax=ax, response_method=\"predict_proba\", feature_names=X_train.columns)"
      ]
    },
    {
      "cell_type": "markdown",
      "metadata": {
        "id": "gwBa5Olz9-mI"
      },
      "source": [
        "#### Conclusions"
      ]
    },
    {
      "cell_type": "markdown",
      "metadata": {
        "id": "UPnafC6x-Mnk"
      },
      "source": [
        "TODO: write"
      ]
    },
    {
      "cell_type": "markdown",
      "metadata": {
        "id": "hJv8Y6Kl-EPV"
      },
      "source": [
        "### 2.2. Interpretation of the model"
      ]
    },
    {
      "cell_type": "markdown",
      "metadata": {
        "id": "B3OsWbNa-HNk"
      },
      "source": []
    },
    {
      "cell_type": "markdown",
      "metadata": {
        "id": "3Jt7AvEt-JcF"
      },
      "source": [
        "• Based on the parameters obtained, can we say something about the user’s preferences? <br>\n",
        "• What was the influence of the criteria? Are there any criteria that have no effect, or have a decisive influence? <br>\n",
        "• Are there any dependencies between the criteria? <br>\n",
        "• What is the nature of the criterion, gain, cost, non-monotonic? <br>\n",
        "• Whether there are any preference thresholds? Are there any evaluations on criteria that are indifferent in terms of preferences? <br>\n",
        "• Interpret the model by at least one (Global Surrogate, Partial Dependence Plot, Permutation Feature Importance ...) <br>"
      ]
    },
    {
      "cell_type": "markdown",
      "metadata": {
        "id": "z33I_nOs-KAs"
      },
      "source": [
        "TODO: write"
      ]
    }
  ],
  "metadata": {
    "colab": {
      "provenance": []
    },
    "kernelspec": {
      "display_name": "Python 3",
      "name": "python3"
    },
    "language_info": {
      "codemirror_mode": {
        "name": "ipython",
        "version": 3
      },
      "file_extension": ".py",
      "mimetype": "text/x-python",
      "name": "python",
      "nbconvert_exporter": "python",
      "pygments_lexer": "ipython3",
      "version": "3.11.0"
    }
  },
  "nbformat": 4,
  "nbformat_minor": 0
}